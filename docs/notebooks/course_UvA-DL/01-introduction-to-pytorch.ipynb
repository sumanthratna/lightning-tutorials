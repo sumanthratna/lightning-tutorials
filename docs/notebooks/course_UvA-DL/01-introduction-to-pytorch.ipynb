{
 "cells": [
  {
   "cell_type": "markdown",
   "id": "6e4ba87b",
   "metadata": {
    "papermill": {
     "duration": 0.184234,
     "end_time": "2021-11-01T12:53:25.861842",
     "exception": false,
     "start_time": "2021-11-01T12:53:25.677608",
     "status": "completed"
    },
    "tags": []
   },
   "source": [
    "\n",
    "# Tutorial 1: Introduction to PyTorch\n",
    "\n",
    "* **Author:** Phillip Lippe\n",
    "* **License:** CC BY-SA\n",
    "* **Generated:** 2021-11-01T13:53:15.756718\n",
    "\n",
    "This tutorial will give a short introduction to PyTorch basics, and get you setup for writing your own neural networks.\n",
    "This notebook is part of a lecture series on Deep Learning at the University of Amsterdam.\n",
    "The full list of tutorials can be found at https://uvadlc-notebooks.rtfd.io.\n",
    "\n",
    "\n",
    "---\n",
    "Open in [![Open In Colab](data:image/png;base64,iVBORw0KGgoAAAANSUhEUgAAAHUAAAAUCAYAAACzrHJDAAAIuUlEQVRoQ+1ZaVRURxb+qhdolmbTUVSURpZgmLhHbQVFZIlGQBEXcMvJhKiTEzfigjQg7oNEJ9GMGidnjnNMBs2czIzajksEFRE1xklCTKJiQLRFsUGkoUWw+82pamn79etGYoKek1B/4NW99/tu3e/dquJBAGD27NkHALxKf39WY39gyrOi+i3xqGtUoePJrFmznrmgtModorbTu8YRNZk5cybXTvCtwh7o6NR2KzuZMWNGh6jtVt7nA0ymT5/eJlF9POrh7PAQl6s8bGYa3PUum//htmebVtLRqW0q01M5keTk5FZFzU0oRle3+zxwg5Hgtb+PZiL/ZVohxCI+hL5JgjmfjPxZ26+33BG3dA+ealHPM4gQAo5rU59gsI8bRvl54t3Ca62mvHyUAhtOlLd5WSQpKcluBjumnoCLs1EARkVd9E8l3p9y2i7RbQ1B6pFwu/YDgW8KbHJHMTQrwnjz2oZm9M4pavOCfo5jWrgCaaMVcMs6/pNhDr0+AMN93XlxV7R6DNpyzi7W/OE+yIrsjU6rTrbKV5cd/pNyItOmTbMp6sbBB+EqaYJY4cWE3VUciNt1TpgfcRFv71Fi54xT5kSoyLvOBEJMOMxWXkFlBeBSX4u6Zkcs+3KszYRtiapbNRqF31UgetVuc8z9vBXIv1qD+F1f83B6uDlCUyfsZGepGPpmg01OB7EITQbhS9ribKy+DmP1DUiClLz4bnIHVOqa7BY+Z1wg5g3zgUvyehiNpnJKxSLc/ts76LKm0BzX3c0RNy1yXjDcB5lWoro4iNHQxM+f1kWeWQARAWQS++trISJTp061Kep25X/MycwtjuctSC5rxo7ppi7VNUox5+PhPHtrsS2O1qJ6yx1QujQUzm9sh6hbkBlvvGcN8hYnwjUjH6kjfZEd5c/jitz5Jc5U3ENnFynKl4eB7nyEgP2UZ+Yz3/rVEbyYr27qELrtC4FIC0J7sc7xWnmccdHfRRTs0VB+cA4lt+oFcRR/wUeH8FG5w2Mbx8FQ8TXEvv1xYf4wBP3O2WyL3/UVjpXWgIqaFeUPr+wTmDvUB7njH6/bOv+HRg4SqioAg5GDe1aB3ZeMTJkyRSBqkLsWqSEm0fZVBEN94zEZnYvrdx1JL5cxe+a+AbhSJecRRHW/ikTFRTa38dtQlNZ5CRKwFvUtZU/kvBoEF9Uxni/XqIM+dwKbTw3rhcxIf7gmr2M+H6SMwx8iBzJbw5oxeG3Lv5FX9B3AGaHPS8e8z77H7v9VMpvPG5ug1enh7eGK8h0LBTwUb+GInqzInlRUK65DmTPQu4c3+uQKjwKK77zwUxBX4Tq7yR1RuiwUsqlrABCM6esHdXoy47fk4+prYKy8ZF574x4V5BnHQBuf4g9Z9ld8U36L2aktZNNplNfw7zotwWTy5MkCUft4aLEopJj5/OPHl1BQqeAVOnHgNSQOqmBzq9V9cfEm/yx5ubMGKS9cYPZ3vx2OS/c6PVHUuUO7Y1Pci3BO/1zgq18byebfGemLtNF+6JRtOvMk926ibussZqM+1mNz4TWkH7rCbM5phwGRGDAaoF8fY5OHFnlldAA8sgoEXKnDukA1NgSeNjqkJT9brbN4pC9WRweYXyLugR73c+MYvyWfu0yC6+mjzN1Isfw3FKJS98CU/zI1IHFkFPR52cHL2FJk0sB6kMTERIGo9GzcPkLNfA0cwdwi/hfEYO86ZMd9w+y1egfM2T2Eh/vesMNwljSzuZRT420SW3eqy8N6aHMmwmnFUZ7/PGVPbIoNZvNU1BURdHs0bT2+HjL8sDSM2e6vi4Lj5NW8WOLVA6RTT2azxLV+bglaFNqLieqemS/gWkw7NyoAHo+2dEsiivengjKsPFoqWOvbSh/kxPaxyW/JRzH2Fl3EzD9/xjAefJqB3usKUFn/0Gb+S/d/jy3FN2yLOmnSJJtn6oehByEiHPSeXnDxFGPRnoFoaBJjcdQlbDwcjL1zTNuQpoxD7R0OG0uUTMi0fkVwdzBdYIwcwZunxrVJVLplNm54BZp7jfDfYLoNyqQi1K6KxIdHzmN+QQ2WjFIwUT2zTGdlRXo4NFXVUO4sgX5dFC7f0aP/ZlNeUjFBuL8Xjl6uRuP6aMjSjpjzsH62FDU7JhBuGccEXIvDfJFFBc/gHw80dklfCVYnRaDfpiJcutPA4F7qJsfJeUPQI+1fqMlNhFx1FM0GDqkjFVg7NojlQ0Vt4aM5ReSqcbpaCg8nCW5lRsBvbT4T1TLfFptsfh7gItzuKTdJSEiwKSrt1vcmnEXXrsLbYnWDA1bu+z2WKy9Arq+1KRqdfKsoBo0GcdtEpS/B1bO4v0cFiUhkjskvKcMrWwtAPHuwQq8Z+4LZ1vTQANfXt4J0DwZX9gWa9qh4XDM/voC9JXfwYEMMHJcfNtusn82ihvliVUwg5KrPGVf6GH94ZJpEZBen6EC4qYTHA1dXhW0JIex8txzv//c8lhzXIi/BFxOH9jGbQhZsRalTIBZZ8KkGyZAxeRQvXkFF1TWz/Hm46jNYUnjPbt3JxIkT7f6dSj8qfJJyVvBxgaIlblOyjtysNHWN9fjjqWi7glJfW3/S0Hlj2XnA8PhKT9w6g3Qx3XiXhvuxQsuT1proxBKI/AaZqY1Xz5muvY8G8XkRRCaHsfQsRAFDH/tZPbcYuHotOG0FRIqB4HR3wNVoIPLtz8ycTguu+jpEigE218vd1YCr5m+HpHMvEI9u4LTXwNWaLjl0iPwGAmIpeHx1VeCqTJdPs1/vweweQPO3HC24NhOhnTphwoQnfv6QSY2ICbkNmdSA4h87oaLaiYfn5diIEd4att2erOwJXbPUHp953p6orQVSUVWRAXBT8c/dJ5L9xhzaJGp71GR/wFP8P5V2z10NSC9T93QM2xUg8fHxT+zU9ijeU4naHon8CjFJXFzc8/kn+dN06q9QgF98SYSo2Xen2NjYZy5sR6f+4nLSK5Iam2PH/x87a1YN/t5sBgAAAABJRU5ErkJggg==){height=\"20px\" width=\"117px\"}](https://colab.research.google.com/github/PytorchLightning/lightning-tutorials/blob/publication/.notebooks/course_UvA-DL/01-introduction-to-pytorch.ipynb)\n",
    "\n",
    "Give us a ⭐ [on Github](https://www.github.com/PytorchLightning/pytorch-lightning/)\n",
    "| Check out [the documentation](https://pytorch-lightning.readthedocs.io/en/latest/)\n",
    "| Join us [on Slack](https://join.slack.com/t/pytorch-lightning/shared_invite/zt-pw5v393p-qRaDgEk24~EjiZNBpSQFgQ)"
   ]
  },
  {
   "cell_type": "markdown",
   "id": "be75f91b",
   "metadata": {
    "papermill": {
     "duration": 0.186321,
     "end_time": "2021-11-01T12:53:26.228089",
     "exception": false,
     "start_time": "2021-11-01T12:53:26.041768",
     "status": "completed"
    },
    "tags": []
   },
   "source": [
    "## Setup\n",
    "This notebook requires some packages besides pytorch-lightning."
   ]
  },
  {
   "cell_type": "code",
   "execution_count": 1,
   "id": "fd8e8583",
   "metadata": {
    "colab": {},
    "colab_type": "code",
    "execution": {
     "iopub.execute_input": "2021-11-01T12:53:26.597912Z",
     "iopub.status.busy": "2021-11-01T12:53:26.597438Z",
     "iopub.status.idle": "2021-11-01T12:53:26.599953Z",
     "shell.execute_reply": "2021-11-01T12:53:26.599382Z"
    },
    "id": "LfrJLKPFyhsK",
    "lines_to_next_cell": 0,
    "papermill": {
     "duration": 0.191398,
     "end_time": "2021-11-01T12:53:26.600070",
     "exception": false,
     "start_time": "2021-11-01T12:53:26.408672",
     "status": "completed"
    },
    "tags": []
   },
   "outputs": [],
   "source": [
    "# ! pip install --quiet \"torch>=1.6, <1.9\" \"matplotlib\" \"torchmetrics>=0.3\" \"pytorch-lightning>=1.3\""
   ]
  },
  {
   "cell_type": "markdown",
   "id": "a910039f",
   "metadata": {
    "papermill": {
     "duration": 0.188063,
     "end_time": "2021-11-01T12:53:26.983788",
     "exception": false,
     "start_time": "2021-11-01T12:53:26.795725",
     "status": "completed"
    },
    "tags": []
   },
   "source": [
    "<div class=\"center-wrapper\"><div class=\"video-wrapper\"><iframe src=\"https://www.youtube.com/embed/wnKZZgFQY-E\" title=\"YouTube video player\" frameborder=\"0\" allow=\"accelerometer; autoplay; clipboard-write; encrypted-media; gyroscope; picture-in-picture\" allowfullscreen></iframe></div></div>\n",
    "Welcome to our PyTorch tutorial for the Deep Learning course 2020 at the University of Amsterdam!\n",
    "The following notebook is meant to give a short introduction to PyTorch basics, and get you setup for writing your own neural networks.\n",
    "PyTorch is an open source machine learning framework that allows you to write your own neural networks and optimize them efficiently.\n",
    "However, PyTorch is not the only framework of its kind.\n",
    "Alternatives to PyTorch include [TensorFlow](https://www.tensorflow.org/), [JAX](https://github.com/google/jax#quickstart-colab-in-the-cloud) and [Caffe](http://caffe.berkeleyvision.org/).\n",
    "We choose to teach PyTorch at the University of Amsterdam because it is well established, has a huge developer community (originally developed by Facebook), is very flexible and especially used in research.\n",
    "Many current papers publish their code in PyTorch, and thus it is good to be familiar with PyTorch as well.\n",
    "Meanwhile, TensorFlow (developed by Google) is usually known for being a production-grade deep learning library.\n",
    "Still, if you know one machine learning framework in depth, it is very easy to learn another one because many of them use the same concepts and ideas.\n",
    "For instance, TensorFlow's version 2 was heavily inspired by the most popular features of PyTorch, making the frameworks even more similar.\n",
    "If you are already familiar with PyTorch and have created your own neural network projects, feel free to just skim this notebook.\n",
    "\n",
    "We are of course not the first ones to create a PyTorch tutorial.\n",
    "There are many great tutorials online, including the [\"60-min blitz\"](https://pytorch.org/tutorials/beginner/deep_learning_60min_blitz.html) on the official [PyTorch website](https://pytorch.org/tutorials/).\n",
    "Yet, we choose to create our own tutorial which is designed to give you the basics particularly necessary for the practicals, but still understand how PyTorch works under the hood.\n",
    "Over the next few weeks, we will also keep exploring new PyTorch features in the series of Jupyter notebook tutorials about deep learning.\n",
    "\n",
    "We will use a set of standard libraries that are often used in machine learning projects.\n",
    "If you are running this notebook on Google Colab, all libraries should be pre-installed.\n",
    "If you are running this notebook locally, make sure you have installed our `dl2020` environment ([link](https://github.com/uvadlc/uvadlc_practicals_2020/blob/master/environment.yml)) and have activated it."
   ]
  },
  {
   "cell_type": "code",
   "execution_count": 2,
   "id": "499f7513",
   "metadata": {
    "execution": {
     "iopub.execute_input": "2021-11-01T12:53:27.363916Z",
     "iopub.status.busy": "2021-11-01T12:53:27.363438Z",
     "iopub.status.idle": "2021-11-01T12:53:28.316845Z",
     "shell.execute_reply": "2021-11-01T12:53:28.317226Z"
    },
    "papermill": {
     "duration": 1.147956,
     "end_time": "2021-11-01T12:53:28.317363",
     "exception": false,
     "start_time": "2021-11-01T12:53:27.169407",
     "status": "completed"
    },
    "tags": []
   },
   "outputs": [
    {
     "name": "stderr",
     "output_type": "stream",
     "text": [
      "/tmp/ipykernel_460/2234441548.py:14: DeprecationWarning: `set_matplotlib_formats` is deprecated since IPython 7.23, directly use `matplotlib_inline.backend_inline.set_matplotlib_formats()`\n",
      "  set_matplotlib_formats(\"svg\", \"pdf\")\n"
     ]
    }
   ],
   "source": [
    "import time\n",
    "\n",
    "import matplotlib.pyplot as plt\n",
    "import numpy as np\n",
    "import torch\n",
    "import torch.nn as nn\n",
    "import torch.utils.data as data\n",
    "\n",
    "# %matplotlib inline\n",
    "from IPython.display import set_matplotlib_formats\n",
    "from matplotlib.colors import to_rgba\n",
    "from tqdm.notebook import tqdm  # Progress bar\n",
    "\n",
    "set_matplotlib_formats(\"svg\", \"pdf\")"
   ]
  },
  {
   "cell_type": "markdown",
   "id": "f044887f",
   "metadata": {
    "papermill": {
     "duration": 0.181828,
     "end_time": "2021-11-01T12:53:28.682338",
     "exception": false,
     "start_time": "2021-11-01T12:53:28.500510",
     "status": "completed"
    },
    "tags": []
   },
   "source": [
    "## The Basics of PyTorch\n",
    "\n",
    "We will start with reviewing the very basic concepts of PyTorch.\n",
    "As a prerequisite, we recommend to be familiar with the `numpy` package as most machine learning frameworks are based on very similar concepts.\n",
    "If you are not familiar with numpy yet, don't worry: here is a [tutorial](https://numpy.org/devdocs/user/quickstart.html) to go through.\n",
    "\n",
    "So, let's start with importing PyTorch.\n",
    "The package is called `torch`, based on its original framework [Torch](http://torch.ch/).\n",
    "As a first step, we can check its version:"
   ]
  },
  {
   "cell_type": "code",
   "execution_count": 3,
   "id": "5a6fdf8b",
   "metadata": {
    "execution": {
     "iopub.execute_input": "2021-11-01T12:53:29.056043Z",
     "iopub.status.busy": "2021-11-01T12:53:29.055554Z",
     "iopub.status.idle": "2021-11-01T12:53:29.060801Z",
     "shell.execute_reply": "2021-11-01T12:53:29.057759Z"
    },
    "papermill": {
     "duration": 0.196059,
     "end_time": "2021-11-01T12:53:29.060926",
     "exception": false,
     "start_time": "2021-11-01T12:53:28.864867",
     "status": "completed"
    },
    "tags": []
   },
   "outputs": [
    {
     "name": "stdout",
     "output_type": "stream",
     "text": [
      "Using torch 1.8.1+cu102\n"
     ]
    }
   ],
   "source": [
    "print(\"Using torch\", torch.__version__)"
   ]
  },
  {
   "cell_type": "markdown",
   "id": "f402d89d",
   "metadata": {
    "papermill": {
     "duration": 0.185749,
     "end_time": "2021-11-01T12:53:29.437192",
     "exception": false,
     "start_time": "2021-11-01T12:53:29.251443",
     "status": "completed"
    },
    "tags": []
   },
   "source": [
    "At the time of writing this tutorial (mid of August 2021), the current stable version is 1.9.\n",
    "You should therefore see the output `Using torch 1.9.0`, eventually with some extension for the CUDA version on Colab.\n",
    "In case you use the `dl2020` environment, you should see `Using torch 1.6.0` since the environment was provided in October 2020.\n",
    "It is recommended to update the PyTorch version to the newest one.\n",
    "If you see a lower version number than 1.6, make sure you have installed the correct the environment, or ask one of your TAs.\n",
    "In case PyTorch 1.10 or newer will be published during the time of the course, don't worry.\n",
    "The interface between PyTorch versions doesn't change too much, and hence all code should also be runnable with newer versions.\n",
    "\n",
    "As in every machine learning framework, PyTorch provides functions that are stochastic like generating random numbers.\n",
    "However, a very good practice is to setup your code to be reproducible with the exact same random numbers.\n",
    "This is why we set a seed below."
   ]
  },
  {
   "cell_type": "code",
   "execution_count": 4,
   "id": "58cb84a6",
   "metadata": {
    "execution": {
     "iopub.execute_input": "2021-11-01T12:53:29.808359Z",
     "iopub.status.busy": "2021-11-01T12:53:29.807895Z",
     "iopub.status.idle": "2021-11-01T12:53:29.812860Z",
     "shell.execute_reply": "2021-11-01T12:53:29.813238Z"
    },
    "papermill": {
     "duration": 0.191906,
     "end_time": "2021-11-01T12:53:29.813358",
     "exception": false,
     "start_time": "2021-11-01T12:53:29.621452",
     "status": "completed"
    },
    "tags": []
   },
   "outputs": [
    {
     "data": {
      "text/plain": [
       "<torch._C.Generator at 0x7fca282b3b10>"
      ]
     },
     "execution_count": 4,
     "metadata": {},
     "output_type": "execute_result"
    }
   ],
   "source": [
    "torch.manual_seed(42)  # Setting the seed"
   ]
  },
  {
   "cell_type": "markdown",
   "id": "efd7ab4a",
   "metadata": {
    "papermill": {
     "duration": 0.184944,
     "end_time": "2021-11-01T12:53:30.185294",
     "exception": false,
     "start_time": "2021-11-01T12:53:30.000350",
     "status": "completed"
    },
    "tags": []
   },
   "source": [
    "### Tensors\n",
    "\n",
    "Tensors are the PyTorch equivalent to Numpy arrays, with the addition to also have support for GPU acceleration (more on that later).\n",
    "The name \"tensor\" is a generalization of concepts you already know.\n",
    "For instance, a vector is a 1-D tensor, and a matrix a 2-D tensor.\n",
    "When working with neural networks, we will use tensors of various shapes and number of dimensions.\n",
    "\n",
    "Most common functions you know from numpy can be used on tensors as well.\n",
    "Actually, since numpy arrays are so similar to tensors, we can convert most tensors to numpy arrays (and back) but we don't need it too often.\n",
    "\n",
    "#### Initialization\n",
    "\n",
    "Let's first start by looking at different ways of creating a tensor.\n",
    "There are many possible options, the most simple one is to call\n",
    "`torch.Tensor` passing the desired shape as input argument:"
   ]
  },
  {
   "cell_type": "code",
   "execution_count": 5,
   "id": "4fbfeed3",
   "metadata": {
    "execution": {
     "iopub.execute_input": "2021-11-01T12:53:30.557117Z",
     "iopub.status.busy": "2021-11-01T12:53:30.556657Z",
     "iopub.status.idle": "2021-11-01T12:53:30.560448Z",
     "shell.execute_reply": "2021-11-01T12:53:30.560053Z"
    },
    "papermill": {
     "duration": 0.189099,
     "end_time": "2021-11-01T12:53:30.560548",
     "exception": false,
     "start_time": "2021-11-01T12:53:30.371449",
     "status": "completed"
    },
    "tags": []
   },
   "outputs": [
    {
     "name": "stdout",
     "output_type": "stream",
     "text": [
      "tensor([[[ 9.2061e-41,  4.5070e-32,  1.4790e-38,  6.3706e+07],\n",
      "         [ 3.0089e-30,  5.3376e-20,  9.1927e-39,  1.9543e-37],\n",
      "         [ 5.3363e-20,  9.1930e-39,  1.9543e-37,  4.6285e-38]],\n",
      "\n",
      "        [[ 1.6898e-37,  1.6898e-37,  8.7372e-24,  1.0512e-39],\n",
      "         [ 1.8643e-31,  6.0446e+23,  7.3013e-14,  2.5021e-01],\n",
      "         [-1.0813e+04, -5.2978e-10,  3.7034e-41,  0.0000e+00]]])\n"
     ]
    }
   ],
   "source": [
    "x = torch.Tensor(2, 3, 4)\n",
    "print(x)"
   ]
  },
  {
   "cell_type": "markdown",
   "id": "da43cb2f",
   "metadata": {
    "papermill": {
     "duration": 0.198059,
     "end_time": "2021-11-01T12:53:30.950874",
     "exception": false,
     "start_time": "2021-11-01T12:53:30.752815",
     "status": "completed"
    },
    "tags": []
   },
   "source": [
    "The function `torch.Tensor` allocates memory for the desired tensor, but reuses any values that have already been in the memory.\n",
    "To directly assign values to the tensor during initialization, there are many alternatives including:\n",
    "\n",
    "* `torch.zeros`: Creates a tensor filled with zeros\n",
    "* `torch.ones`: Creates a tensor filled with ones\n",
    "* `torch.rand`: Creates a tensor with random values uniformly sampled between 0 and 1\n",
    "* `torch.randn`: Creates a tensor with random values sampled from a normal distribution with mean 0 and variance 1\n",
    "* `torch.arange`: Creates a tensor containing the values $N,N+1,N+2,...,M$\n",
    "* `torch.Tensor` (input list): Creates a tensor from the list elements you provide"
   ]
  },
  {
   "cell_type": "code",
   "execution_count": 6,
   "id": "f752162f",
   "metadata": {
    "execution": {
     "iopub.execute_input": "2021-11-01T12:53:31.334160Z",
     "iopub.status.busy": "2021-11-01T12:53:31.333695Z",
     "iopub.status.idle": "2021-11-01T12:53:31.337365Z",
     "shell.execute_reply": "2021-11-01T12:53:31.336852Z"
    },
    "papermill": {
     "duration": 0.195122,
     "end_time": "2021-11-01T12:53:31.337474",
     "exception": false,
     "start_time": "2021-11-01T12:53:31.142352",
     "status": "completed"
    },
    "tags": []
   },
   "outputs": [
    {
     "name": "stdout",
     "output_type": "stream",
     "text": [
      "tensor([[1., 2.],\n",
      "        [3., 4.]])\n"
     ]
    }
   ],
   "source": [
    "# Create a tensor from a (nested) list\n",
    "x = torch.Tensor([[1, 2], [3, 4]])\n",
    "print(x)"
   ]
  },
  {
   "cell_type": "code",
   "execution_count": 7,
   "id": "4e451896",
   "metadata": {
    "execution": {
     "iopub.execute_input": "2021-11-01T12:53:31.724905Z",
     "iopub.status.busy": "2021-11-01T12:53:31.724438Z",
     "iopub.status.idle": "2021-11-01T12:53:31.727849Z",
     "shell.execute_reply": "2021-11-01T12:53:31.727448Z"
    },
    "papermill": {
     "duration": 0.200879,
     "end_time": "2021-11-01T12:53:31.727952",
     "exception": false,
     "start_time": "2021-11-01T12:53:31.527073",
     "status": "completed"
    },
    "tags": []
   },
   "outputs": [
    {
     "name": "stdout",
     "output_type": "stream",
     "text": [
      "tensor([[[0.8823, 0.9150, 0.3829, 0.9593],\n",
      "         [0.3904, 0.6009, 0.2566, 0.7936],\n",
      "         [0.9408, 0.1332, 0.9346, 0.5936]],\n",
      "\n",
      "        [[0.8694, 0.5677, 0.7411, 0.4294],\n",
      "         [0.8854, 0.5739, 0.2666, 0.6274],\n",
      "         [0.2696, 0.4414, 0.2969, 0.8317]]])\n"
     ]
    }
   ],
   "source": [
    "# Create a tensor with random values between 0 and 1 with the shape [2, 3, 4]\n",
    "x = torch.rand(2, 3, 4)\n",
    "print(x)"
   ]
  },
  {
   "cell_type": "markdown",
   "id": "ead0dbdf",
   "metadata": {
    "papermill": {
     "duration": 0.192303,
     "end_time": "2021-11-01T12:53:32.116321",
     "exception": false,
     "start_time": "2021-11-01T12:53:31.924018",
     "status": "completed"
    },
    "tags": []
   },
   "source": [
    "You can obtain the shape of a tensor in the same way as in numpy (`x.shape`), or using the `.size` method:"
   ]
  },
  {
   "cell_type": "code",
   "execution_count": 8,
   "id": "f82120ec",
   "metadata": {
    "execution": {
     "iopub.execute_input": "2021-11-01T12:53:32.500336Z",
     "iopub.status.busy": "2021-11-01T12:53:32.499850Z",
     "iopub.status.idle": "2021-11-01T12:53:32.502558Z",
     "shell.execute_reply": "2021-11-01T12:53:32.502960Z"
    },
    "papermill": {
     "duration": 0.198255,
     "end_time": "2021-11-01T12:53:32.503081",
     "exception": false,
     "start_time": "2021-11-01T12:53:32.304826",
     "status": "completed"
    },
    "tags": []
   },
   "outputs": [
    {
     "name": "stdout",
     "output_type": "stream",
     "text": [
      "Shape: torch.Size([2, 3, 4])\n",
      "Size: torch.Size([2, 3, 4])\n",
      "Size: 2 3 4\n"
     ]
    }
   ],
   "source": [
    "shape = x.shape\n",
    "print(\"Shape:\", x.shape)\n",
    "\n",
    "size = x.size()\n",
    "print(\"Size:\", size)\n",
    "\n",
    "dim1, dim2, dim3 = x.size()\n",
    "print(\"Size:\", dim1, dim2, dim3)"
   ]
  },
  {
   "cell_type": "markdown",
   "id": "b0f7bb79",
   "metadata": {
    "papermill": {
     "duration": 0.188594,
     "end_time": "2021-11-01T12:53:32.880295",
     "exception": false,
     "start_time": "2021-11-01T12:53:32.691701",
     "status": "completed"
    },
    "tags": []
   },
   "source": [
    "#### Tensor to Numpy, and Numpy to Tensor\n",
    "\n",
    "Tensors can be converted to numpy arrays, and numpy arrays back to tensors.\n",
    "To transform a numpy array into a tensor, we can use the function `torch.from_numpy`:"
   ]
  },
  {
   "cell_type": "code",
   "execution_count": 9,
   "id": "4ff0e880",
   "metadata": {
    "execution": {
     "iopub.execute_input": "2021-11-01T12:53:33.265072Z",
     "iopub.status.busy": "2021-11-01T12:53:33.264602Z",
     "iopub.status.idle": "2021-11-01T12:53:33.267142Z",
     "shell.execute_reply": "2021-11-01T12:53:33.266747Z"
    },
    "papermill": {
     "duration": 0.195898,
     "end_time": "2021-11-01T12:53:33.267246",
     "exception": false,
     "start_time": "2021-11-01T12:53:33.071348",
     "status": "completed"
    },
    "tags": []
   },
   "outputs": [
    {
     "name": "stdout",
     "output_type": "stream",
     "text": [
      "Numpy array: [[1 2]\n",
      " [3 4]]\n",
      "PyTorch tensor: tensor([[1, 2],\n",
      "        [3, 4]])\n"
     ]
    }
   ],
   "source": [
    "np_arr = np.array([[1, 2], [3, 4]])\n",
    "tensor = torch.from_numpy(np_arr)\n",
    "\n",
    "print(\"Numpy array:\", np_arr)\n",
    "print(\"PyTorch tensor:\", tensor)"
   ]
  },
  {
   "cell_type": "markdown",
   "id": "28fd8377",
   "metadata": {
    "papermill": {
     "duration": 0.19862,
     "end_time": "2021-11-01T12:53:33.653385",
     "exception": false,
     "start_time": "2021-11-01T12:53:33.454765",
     "status": "completed"
    },
    "tags": []
   },
   "source": [
    "To transform a PyTorch tensor back to a numpy array, we can use the function `.numpy()` on tensors:"
   ]
  },
  {
   "cell_type": "code",
   "execution_count": 10,
   "id": "46f8dbf7",
   "metadata": {
    "execution": {
     "iopub.execute_input": "2021-11-01T12:53:34.034707Z",
     "iopub.status.busy": "2021-11-01T12:53:34.034229Z",
     "iopub.status.idle": "2021-11-01T12:53:34.037417Z",
     "shell.execute_reply": "2021-11-01T12:53:34.036961Z"
    },
    "papermill": {
     "duration": 0.195801,
     "end_time": "2021-11-01T12:53:34.037517",
     "exception": false,
     "start_time": "2021-11-01T12:53:33.841716",
     "status": "completed"
    },
    "tags": []
   },
   "outputs": [
    {
     "name": "stdout",
     "output_type": "stream",
     "text": [
      "PyTorch tensor: tensor([0, 1, 2, 3])\n",
      "Numpy array: [0 1 2 3]\n"
     ]
    }
   ],
   "source": [
    "tensor = torch.arange(4)\n",
    "np_arr = tensor.numpy()\n",
    "\n",
    "print(\"PyTorch tensor:\", tensor)\n",
    "print(\"Numpy array:\", np_arr)"
   ]
  },
  {
   "cell_type": "markdown",
   "id": "a8de9522",
   "metadata": {
    "papermill": {
     "duration": 0.196459,
     "end_time": "2021-11-01T12:53:34.424371",
     "exception": false,
     "start_time": "2021-11-01T12:53:34.227912",
     "status": "completed"
    },
    "tags": []
   },
   "source": [
    "The conversion of tensors to numpy require the tensor to be on the CPU, and not the GPU (more on GPU support in a later section).\n",
    "In case you have a tensor on GPU, you need to call `.cpu()` on the tensor beforehand.\n",
    "Hence, you get a line like `np_arr = tensor.cpu().numpy()`."
   ]
  },
  {
   "cell_type": "markdown",
   "id": "251801d9",
   "metadata": {
    "papermill": {
     "duration": 0.196291,
     "end_time": "2021-11-01T12:53:34.815682",
     "exception": false,
     "start_time": "2021-11-01T12:53:34.619391",
     "status": "completed"
    },
    "tags": []
   },
   "source": [
    "#### Operations\n",
    "\n",
    "Most operations that exist in numpy, also exist in PyTorch.\n",
    "A full list of operations can be found in the [PyTorch documentation](https://pytorch.org/docs/stable/tensors.html#), but we will review the most important ones here.\n",
    "\n",
    "The simplest operation is to add two tensors:"
   ]
  },
  {
   "cell_type": "code",
   "execution_count": 11,
   "id": "706fd317",
   "metadata": {
    "execution": {
     "iopub.execute_input": "2021-11-01T12:53:35.203001Z",
     "iopub.status.busy": "2021-11-01T12:53:35.202542Z",
     "iopub.status.idle": "2021-11-01T12:53:35.206894Z",
     "shell.execute_reply": "2021-11-01T12:53:35.206435Z"
    },
    "papermill": {
     "duration": 0.200986,
     "end_time": "2021-11-01T12:53:35.206994",
     "exception": false,
     "start_time": "2021-11-01T12:53:35.006008",
     "status": "completed"
    },
    "tags": []
   },
   "outputs": [
    {
     "name": "stdout",
     "output_type": "stream",
     "text": [
      "X1 tensor([[0.1053, 0.2695, 0.3588],\n",
      "        [0.1994, 0.5472, 0.0062]])\n",
      "X2 tensor([[0.9516, 0.0753, 0.8860],\n",
      "        [0.5832, 0.3376, 0.8090]])\n",
      "Y tensor([[1.0569, 0.3448, 1.2448],\n",
      "        [0.7826, 0.8848, 0.8151]])\n"
     ]
    }
   ],
   "source": [
    "x1 = torch.rand(2, 3)\n",
    "x2 = torch.rand(2, 3)\n",
    "y = x1 + x2\n",
    "\n",
    "print(\"X1\", x1)\n",
    "print(\"X2\", x2)\n",
    "print(\"Y\", y)"
   ]
  },
  {
   "cell_type": "markdown",
   "id": "005c3a80",
   "metadata": {
    "papermill": {
     "duration": 0.189772,
     "end_time": "2021-11-01T12:53:35.588028",
     "exception": false,
     "start_time": "2021-11-01T12:53:35.398256",
     "status": "completed"
    },
    "tags": []
   },
   "source": [
    "Calling `x1 + x2` creates a new tensor containing the sum of the two inputs.\n",
    "However, we can also use in-place operations that are applied directly on the memory of a tensor.\n",
    "We therefore change the values of `x2` without the chance to re-accessing the values of `x2` before the operation.\n",
    "An example is shown below:"
   ]
  },
  {
   "cell_type": "code",
   "execution_count": 12,
   "id": "9f24e6e6",
   "metadata": {
    "execution": {
     "iopub.execute_input": "2021-11-01T12:53:35.975321Z",
     "iopub.status.busy": "2021-11-01T12:53:35.973813Z",
     "iopub.status.idle": "2021-11-01T12:53:35.980414Z",
     "shell.execute_reply": "2021-11-01T12:53:35.980024Z"
    },
    "papermill": {
     "duration": 0.197922,
     "end_time": "2021-11-01T12:53:35.980515",
     "exception": false,
     "start_time": "2021-11-01T12:53:35.782593",
     "status": "completed"
    },
    "tags": []
   },
   "outputs": [
    {
     "name": "stdout",
     "output_type": "stream",
     "text": [
      "X1 (before) tensor([[0.5779, 0.9040, 0.5547],\n",
      "        [0.3423, 0.6343, 0.3644]])\n",
      "X2 (before) tensor([[0.7104, 0.9464, 0.7890],\n",
      "        [0.2814, 0.7886, 0.5895]])\n",
      "X1 (after) tensor([[0.5779, 0.9040, 0.5547],\n",
      "        [0.3423, 0.6343, 0.3644]])\n",
      "X2 (after) tensor([[1.2884, 1.8504, 1.3437],\n",
      "        [0.6237, 1.4230, 0.9539]])\n"
     ]
    }
   ],
   "source": [
    "x1 = torch.rand(2, 3)\n",
    "x2 = torch.rand(2, 3)\n",
    "print(\"X1 (before)\", x1)\n",
    "print(\"X2 (before)\", x2)\n",
    "\n",
    "x2.add_(x1)\n",
    "print(\"X1 (after)\", x1)\n",
    "print(\"X2 (after)\", x2)"
   ]
  },
  {
   "cell_type": "markdown",
   "id": "f45ca5e6",
   "metadata": {
    "papermill": {
     "duration": 0.189508,
     "end_time": "2021-11-01T12:53:36.358581",
     "exception": false,
     "start_time": "2021-11-01T12:53:36.169073",
     "status": "completed"
    },
    "tags": []
   },
   "source": [
    "In-place operations are usually marked with a underscore postfix (e.g. \"add_\" instead of \"add\").\n",
    "\n",
    "Another common operation aims at changing the shape of a tensor.\n",
    "A tensor of size (2,3) can be re-organized to any other shape with the same number of elements (e.g. a tensor of size (6), or (3,2), ...).\n",
    "In PyTorch, this operation is called `view`:"
   ]
  },
  {
   "cell_type": "code",
   "execution_count": 13,
   "id": "715705c3",
   "metadata": {
    "execution": {
     "iopub.execute_input": "2021-11-01T12:53:36.742093Z",
     "iopub.status.busy": "2021-11-01T12:53:36.741633Z",
     "iopub.status.idle": "2021-11-01T12:53:36.743988Z",
     "shell.execute_reply": "2021-11-01T12:53:36.744419Z"
    },
    "papermill": {
     "duration": 0.197562,
     "end_time": "2021-11-01T12:53:36.744540",
     "exception": false,
     "start_time": "2021-11-01T12:53:36.546978",
     "status": "completed"
    },
    "tags": []
   },
   "outputs": [
    {
     "name": "stdout",
     "output_type": "stream",
     "text": [
      "X tensor([0, 1, 2, 3, 4, 5])\n"
     ]
    }
   ],
   "source": [
    "x = torch.arange(6)\n",
    "print(\"X\", x)"
   ]
  },
  {
   "cell_type": "code",
   "execution_count": 14,
   "id": "b84d1c3a",
   "metadata": {
    "execution": {
     "iopub.execute_input": "2021-11-01T12:53:37.127357Z",
     "iopub.status.busy": "2021-11-01T12:53:37.126899Z",
     "iopub.status.idle": "2021-11-01T12:53:37.129914Z",
     "shell.execute_reply": "2021-11-01T12:53:37.129456Z"
    },
    "papermill": {
     "duration": 0.194807,
     "end_time": "2021-11-01T12:53:37.130015",
     "exception": false,
     "start_time": "2021-11-01T12:53:36.935208",
     "status": "completed"
    },
    "tags": []
   },
   "outputs": [
    {
     "name": "stdout",
     "output_type": "stream",
     "text": [
      "X tensor([[0, 1, 2],\n",
      "        [3, 4, 5]])\n"
     ]
    }
   ],
   "source": [
    "x = x.view(2, 3)\n",
    "print(\"X\", x)"
   ]
  },
  {
   "cell_type": "code",
   "execution_count": 15,
   "id": "51cb9469",
   "metadata": {
    "execution": {
     "iopub.execute_input": "2021-11-01T12:53:37.522853Z",
     "iopub.status.busy": "2021-11-01T12:53:37.522376Z",
     "iopub.status.idle": "2021-11-01T12:53:37.525444Z",
     "shell.execute_reply": "2021-11-01T12:53:37.524995Z"
    },
    "papermill": {
     "duration": 0.205421,
     "end_time": "2021-11-01T12:53:37.525553",
     "exception": false,
     "start_time": "2021-11-01T12:53:37.320132",
     "status": "completed"
    },
    "tags": []
   },
   "outputs": [
    {
     "name": "stdout",
     "output_type": "stream",
     "text": [
      "X tensor([[0, 3],\n",
      "        [1, 4],\n",
      "        [2, 5]])\n"
     ]
    }
   ],
   "source": [
    "x = x.permute(1, 0)  # Swapping dimension 0 and 1\n",
    "print(\"X\", x)"
   ]
  },
  {
   "cell_type": "markdown",
   "id": "76fe3ca9",
   "metadata": {
    "papermill": {
     "duration": 0.192351,
     "end_time": "2021-11-01T12:53:37.911461",
     "exception": false,
     "start_time": "2021-11-01T12:53:37.719110",
     "status": "completed"
    },
    "tags": []
   },
   "source": [
    "Other commonly used operations include matrix multiplications, which are essential for neural networks.\n",
    "Quite often, we have an input vector $\\mathbf{x}$, which is transformed using a learned weight matrix $\\mathbf{W}$.\n",
    "There are multiple ways and functions to perform matrix multiplication, some of which we list below:\n",
    "\n",
    "* `torch.matmul`: Performs the matrix product over two tensors, where the specific behavior depends on the dimensions.\n",
    "If both inputs are matrices (2-dimensional tensors), it performs the standard matrix product.\n",
    "For higher dimensional inputs, the function supports broadcasting (for details see the [documentation](https://pytorch.org/docs/stable/generated/torch.matmul.html?highlight=matmul#torch.matmul)).\n",
    "Can also be written as `a @ b`, similar to numpy.\n",
    "* `torch.mm`: Performs the matrix product over two matrices, but doesn't support broadcasting (see [documentation](https://pytorch.org/docs/stable/generated/torch.mm.html?highlight=torch%20mm#torch.mm))\n",
    "* `torch.bmm`: Performs the matrix product with a support batch dimension.\n",
    "If the first tensor $T$ is of shape ($b\\times n\\times m$), and the second tensor $R$ ($b\\times m\\times p$), the output $O$ is of shape ($b\\times n\\times p$), and has been calculated by performing $b$ matrix multiplications of the submatrices of $T$ and $R$: $O_i = T_i @ R_i$\n",
    "* `torch.einsum`: Performs matrix multiplications and more (i.e. sums of products) using the Einstein summation convention.\n",
    "Explanation of the Einstein sum can be found in assignment 1.\n",
    "\n",
    "Usually, we use `torch.matmul` or `torch.bmm`. We can try a matrix multiplication with `torch.matmul` below."
   ]
  },
  {
   "cell_type": "code",
   "execution_count": 16,
   "id": "6db71f13",
   "metadata": {
    "execution": {
     "iopub.execute_input": "2021-11-01T12:53:38.304426Z",
     "iopub.status.busy": "2021-11-01T12:53:38.303962Z",
     "iopub.status.idle": "2021-11-01T12:53:38.306767Z",
     "shell.execute_reply": "2021-11-01T12:53:38.306362Z"
    },
    "papermill": {
     "duration": 0.201784,
     "end_time": "2021-11-01T12:53:38.306871",
     "exception": false,
     "start_time": "2021-11-01T12:53:38.105087",
     "status": "completed"
    },
    "tags": []
   },
   "outputs": [
    {
     "name": "stdout",
     "output_type": "stream",
     "text": [
      "X tensor([[0, 1, 2],\n",
      "        [3, 4, 5]])\n"
     ]
    }
   ],
   "source": [
    "x = torch.arange(6)\n",
    "x = x.view(2, 3)\n",
    "print(\"X\", x)"
   ]
  },
  {
   "cell_type": "code",
   "execution_count": 17,
   "id": "b2a91235",
   "metadata": {
    "execution": {
     "iopub.execute_input": "2021-11-01T12:53:38.700010Z",
     "iopub.status.busy": "2021-11-01T12:53:38.699541Z",
     "iopub.status.idle": "2021-11-01T12:53:38.702969Z",
     "shell.execute_reply": "2021-11-01T12:53:38.703424Z"
    },
    "papermill": {
     "duration": 0.203876,
     "end_time": "2021-11-01T12:53:38.703550",
     "exception": false,
     "start_time": "2021-11-01T12:53:38.499674",
     "status": "completed"
    },
    "tags": []
   },
   "outputs": [
    {
     "name": "stdout",
     "output_type": "stream",
     "text": [
      "W tensor([[0, 1, 2],\n",
      "        [3, 4, 5],\n",
      "        [6, 7, 8]])\n"
     ]
    }
   ],
   "source": [
    "W = torch.arange(9).view(3, 3)  # We can also stack multiple operations in a single line\n",
    "print(\"W\", W)"
   ]
  },
  {
   "cell_type": "code",
   "execution_count": 18,
   "id": "686cbb96",
   "metadata": {
    "execution": {
     "iopub.execute_input": "2021-11-01T12:53:39.100072Z",
     "iopub.status.busy": "2021-11-01T12:53:39.099611Z",
     "iopub.status.idle": "2021-11-01T12:53:39.102391Z",
     "shell.execute_reply": "2021-11-01T12:53:39.101974Z"
    },
    "papermill": {
     "duration": 0.201563,
     "end_time": "2021-11-01T12:53:39.102558",
     "exception": false,
     "start_time": "2021-11-01T12:53:38.900995",
     "status": "completed"
    },
    "tags": []
   },
   "outputs": [
    {
     "name": "stdout",
     "output_type": "stream",
     "text": [
      "h tensor([[15, 18, 21],\n",
      "        [42, 54, 66]])\n"
     ]
    }
   ],
   "source": [
    "h = torch.matmul(x, W)  # Verify the result by calculating it by hand too!\n",
    "print(\"h\", h)"
   ]
  },
  {
   "cell_type": "markdown",
   "id": "c099815b",
   "metadata": {
    "papermill": {
     "duration": 0.195409,
     "end_time": "2021-11-01T12:53:39.492178",
     "exception": false,
     "start_time": "2021-11-01T12:53:39.296769",
     "status": "completed"
    },
    "tags": []
   },
   "source": [
    "#### Indexing\n",
    "\n",
    "We often have the situation where we need to select a part of a tensor.\n",
    "Indexing works just like in numpy, so let's try it:"
   ]
  },
  {
   "cell_type": "code",
   "execution_count": 19,
   "id": "f4785a67",
   "metadata": {
    "execution": {
     "iopub.execute_input": "2021-11-01T12:53:39.885546Z",
     "iopub.status.busy": "2021-11-01T12:53:39.885081Z",
     "iopub.status.idle": "2021-11-01T12:53:39.888208Z",
     "shell.execute_reply": "2021-11-01T12:53:39.887743Z"
    },
    "papermill": {
     "duration": 0.20183,
     "end_time": "2021-11-01T12:53:39.888311",
     "exception": false,
     "start_time": "2021-11-01T12:53:39.686481",
     "status": "completed"
    },
    "tags": []
   },
   "outputs": [
    {
     "name": "stdout",
     "output_type": "stream",
     "text": [
      "X tensor([[ 0,  1,  2,  3],\n",
      "        [ 4,  5,  6,  7],\n",
      "        [ 8,  9, 10, 11]])\n"
     ]
    }
   ],
   "source": [
    "x = torch.arange(12).view(3, 4)\n",
    "print(\"X\", x)"
   ]
  },
  {
   "cell_type": "code",
   "execution_count": 20,
   "id": "0f6eb2aa",
   "metadata": {
    "execution": {
     "iopub.execute_input": "2021-11-01T12:53:40.281630Z",
     "iopub.status.busy": "2021-11-01T12:53:40.281171Z",
     "iopub.status.idle": "2021-11-01T12:53:40.283624Z",
     "shell.execute_reply": "2021-11-01T12:53:40.283226Z"
    },
    "papermill": {
     "duration": 0.200446,
     "end_time": "2021-11-01T12:53:40.283723",
     "exception": false,
     "start_time": "2021-11-01T12:53:40.083277",
     "status": "completed"
    },
    "tags": []
   },
   "outputs": [
    {
     "name": "stdout",
     "output_type": "stream",
     "text": [
      "tensor([1, 5, 9])\n"
     ]
    }
   ],
   "source": [
    "print(x[:, 1])  # Second column"
   ]
  },
  {
   "cell_type": "code",
   "execution_count": 21,
   "id": "d594fca7",
   "metadata": {
    "execution": {
     "iopub.execute_input": "2021-11-01T12:53:40.680652Z",
     "iopub.status.busy": "2021-11-01T12:53:40.680186Z",
     "iopub.status.idle": "2021-11-01T12:53:40.682140Z",
     "shell.execute_reply": "2021-11-01T12:53:40.682563Z"
    },
    "papermill": {
     "duration": 0.20341,
     "end_time": "2021-11-01T12:53:40.682687",
     "exception": false,
     "start_time": "2021-11-01T12:53:40.479277",
     "status": "completed"
    },
    "tags": []
   },
   "outputs": [
    {
     "name": "stdout",
     "output_type": "stream",
     "text": [
      "tensor([0, 1, 2, 3])\n"
     ]
    }
   ],
   "source": [
    "print(x[0])  # First row"
   ]
  },
  {
   "cell_type": "code",
   "execution_count": 22,
   "id": "82d4de15",
   "metadata": {
    "execution": {
     "iopub.execute_input": "2021-11-01T12:53:41.084886Z",
     "iopub.status.busy": "2021-11-01T12:53:41.084412Z",
     "iopub.status.idle": "2021-11-01T12:53:41.086771Z",
     "shell.execute_reply": "2021-11-01T12:53:41.086368Z"
    },
    "papermill": {
     "duration": 0.204714,
     "end_time": "2021-11-01T12:53:41.086875",
     "exception": false,
     "start_time": "2021-11-01T12:53:40.882161",
     "status": "completed"
    },
    "tags": []
   },
   "outputs": [
    {
     "name": "stdout",
     "output_type": "stream",
     "text": [
      "tensor([3, 7])\n"
     ]
    }
   ],
   "source": [
    "print(x[:2, -1])  # First two rows, last column"
   ]
  },
  {
   "cell_type": "code",
   "execution_count": 23,
   "id": "9f99a33f",
   "metadata": {
    "execution": {
     "iopub.execute_input": "2021-11-01T12:53:41.486369Z",
     "iopub.status.busy": "2021-11-01T12:53:41.485885Z",
     "iopub.status.idle": "2021-11-01T12:53:41.488163Z",
     "shell.execute_reply": "2021-11-01T12:53:41.488562Z"
    },
    "papermill": {
     "duration": 0.20348,
     "end_time": "2021-11-01T12:53:41.488684",
     "exception": false,
     "start_time": "2021-11-01T12:53:41.285204",
     "status": "completed"
    },
    "tags": []
   },
   "outputs": [
    {
     "name": "stdout",
     "output_type": "stream",
     "text": [
      "tensor([[ 4,  5,  6,  7],\n",
      "        [ 8,  9, 10, 11]])\n"
     ]
    }
   ],
   "source": [
    "print(x[1:3, :])  # Middle two rows"
   ]
  },
  {
   "cell_type": "markdown",
   "id": "8373442e",
   "metadata": {
    "papermill": {
     "duration": 0.200039,
     "end_time": "2021-11-01T12:53:41.887889",
     "exception": false,
     "start_time": "2021-11-01T12:53:41.687850",
     "status": "completed"
    },
    "tags": []
   },
   "source": [
    "### Dynamic Computation Graph and Backpropagation\n",
    "\n",
    "One of the main reasons for using PyTorch in Deep Learning projects is that we can automatically get **gradients/derivatives** of functions that we define.\n",
    "We will mainly use PyTorch for implementing neural networks, and they are just fancy functions.\n",
    "If we use weight matrices in our function that we want to learn, then those are called the **parameters** or simply the **weights**.\n",
    "\n",
    "If our neural network would output a single scalar value, we would talk about taking the **derivative**, but you will see that quite often we will have **multiple** output variables (\"values\"); in that case we talk about **gradients**.\n",
    "It's a more general term.\n",
    "\n",
    "Given an input $\\mathbf{x}$, we define our function by **manipulating** that input, usually by matrix-multiplications with weight matrices and additions with so-called bias vectors.\n",
    "As we manipulate our input, we are automatically creating a **computational graph**.\n",
    "This graph shows how to arrive at our output from our input.\n",
    "PyTorch is a **define-by-run** framework; this means that we can just do our manipulations, and PyTorch will keep track of that graph for us.\n",
    "Thus, we create a dynamic computation graph along the way.\n",
    "\n",
    "So, to recap: the only thing we have to do is to compute the **output**, and then we can ask PyTorch to automatically get the **gradients**.\n",
    "\n",
    "> **Note:  Why do we want gradients?\n",
    "** Consider that we have defined a function, a neural net, that is supposed to compute a certain output $y$ for an input vector $\\mathbf{x}$.\n",
    "We then define an **error measure** that tells us how wrong our network is; how bad it is in predicting output $y$ from input $\\mathbf{x}$.\n",
    "Based on this error measure, we can use the gradients to **update** the weights $\\mathbf{W}$ that were responsible for the output, so that the next time we present input $\\mathbf{x}$ to our network, the output will be closer to what we want.\n",
    "\n",
    "The first thing we have to do is to specify which tensors require gradients.\n",
    "By default, when we create a tensor, it does not require gradients."
   ]
  },
  {
   "cell_type": "code",
   "execution_count": 24,
   "id": "b6bc4513",
   "metadata": {
    "execution": {
     "iopub.execute_input": "2021-11-01T12:53:42.291441Z",
     "iopub.status.busy": "2021-11-01T12:53:42.290975Z",
     "iopub.status.idle": "2021-11-01T12:53:42.293689Z",
     "shell.execute_reply": "2021-11-01T12:53:42.293289Z"
    },
    "papermill": {
     "duration": 0.206484,
     "end_time": "2021-11-01T12:53:42.293791",
     "exception": false,
     "start_time": "2021-11-01T12:53:42.087307",
     "status": "completed"
    },
    "tags": []
   },
   "outputs": [
    {
     "name": "stdout",
     "output_type": "stream",
     "text": [
      "False\n"
     ]
    }
   ],
   "source": [
    "x = torch.ones((3,))\n",
    "print(x.requires_grad)"
   ]
  },
  {
   "cell_type": "markdown",
   "id": "6d6133bd",
   "metadata": {
    "papermill": {
     "duration": 0.199574,
     "end_time": "2021-11-01T12:53:42.700742",
     "exception": false,
     "start_time": "2021-11-01T12:53:42.501168",
     "status": "completed"
    },
    "tags": []
   },
   "source": [
    "We can change this for an existing tensor using the function `requires_grad_()` (underscore indicating that this is a in-place operation).\n",
    "Alternatively, when creating a tensor, you can pass the argument\n",
    "`requires_grad=True` to most initializers we have seen above."
   ]
  },
  {
   "cell_type": "code",
   "execution_count": 25,
   "id": "c556bf9a",
   "metadata": {
    "execution": {
     "iopub.execute_input": "2021-11-01T12:53:43.110719Z",
     "iopub.status.busy": "2021-11-01T12:53:43.110190Z",
     "iopub.status.idle": "2021-11-01T12:53:43.112728Z",
     "shell.execute_reply": "2021-11-01T12:53:43.112259Z"
    },
    "papermill": {
     "duration": 0.210772,
     "end_time": "2021-11-01T12:53:43.112833",
     "exception": false,
     "start_time": "2021-11-01T12:53:42.902061",
     "status": "completed"
    },
    "tags": []
   },
   "outputs": [
    {
     "name": "stdout",
     "output_type": "stream",
     "text": [
      "True\n"
     ]
    }
   ],
   "source": [
    "x.requires_grad_(True)\n",
    "print(x.requires_grad)"
   ]
  },
  {
   "cell_type": "markdown",
   "id": "da5df2bc",
   "metadata": {
    "papermill": {
     "duration": 0.203285,
     "end_time": "2021-11-01T12:53:43.516531",
     "exception": false,
     "start_time": "2021-11-01T12:53:43.313246",
     "status": "completed"
    },
    "tags": []
   },
   "source": [
    "In order to get familiar with the concept of a computation graph, we will create one for the following function:\n",
    "\n",
    "$$y = \\frac{1}{|x|}\\sum_i \\left[(x_i + 2)^2 + 3\\right]$$\n",
    "\n",
    "You could imagine that $x$ are our parameters, and we want to optimize (either maximize or minimize) the output $y$.\n",
    "For this, we want to obtain the gradients $\\partial y / \\partial \\mathbf{x}$.\n",
    "For our example, we'll use $\\mathbf{x}=[0,1,2]$ as our input."
   ]
  },
  {
   "cell_type": "code",
   "execution_count": 26,
   "id": "1d48e736",
   "metadata": {
    "execution": {
     "iopub.execute_input": "2021-11-01T12:53:43.927918Z",
     "iopub.status.busy": "2021-11-01T12:53:43.926687Z",
     "iopub.status.idle": "2021-11-01T12:53:43.930570Z",
     "shell.execute_reply": "2021-11-01T12:53:43.930949Z"
    },
    "papermill": {
     "duration": 0.207998,
     "end_time": "2021-11-01T12:53:43.931073",
     "exception": false,
     "start_time": "2021-11-01T12:53:43.723075",
     "status": "completed"
    },
    "tags": []
   },
   "outputs": [
    {
     "name": "stdout",
     "output_type": "stream",
     "text": [
      "X tensor([0., 1., 2.], requires_grad=True)\n"
     ]
    }
   ],
   "source": [
    "x = torch.arange(3, dtype=torch.float32, requires_grad=True)  # Only float tensors can have gradients\n",
    "print(\"X\", x)"
   ]
  },
  {
   "cell_type": "markdown",
   "id": "ffdd5199",
   "metadata": {
    "papermill": {
     "duration": 0.207436,
     "end_time": "2021-11-01T12:53:44.344905",
     "exception": false,
     "start_time": "2021-11-01T12:53:44.137469",
     "status": "completed"
    },
    "tags": []
   },
   "source": [
    "Now let's build the computation graph step by step.\n",
    "You can combine multiple operations in a single line, but we will\n",
    "separate them here to get a better understanding of how each operation\n",
    "is added to the computation graph."
   ]
  },
  {
   "cell_type": "code",
   "execution_count": 27,
   "id": "1072d590",
   "metadata": {
    "execution": {
     "iopub.execute_input": "2021-11-01T12:53:44.750826Z",
     "iopub.status.busy": "2021-11-01T12:53:44.750358Z",
     "iopub.status.idle": "2021-11-01T12:53:44.753813Z",
     "shell.execute_reply": "2021-11-01T12:53:44.753352Z"
    },
    "papermill": {
     "duration": 0.209901,
     "end_time": "2021-11-01T12:53:44.753915",
     "exception": false,
     "start_time": "2021-11-01T12:53:44.544014",
     "status": "completed"
    },
    "tags": []
   },
   "outputs": [
    {
     "name": "stdout",
     "output_type": "stream",
     "text": [
      "Y tensor(12.6667, grad_fn=<MeanBackward0>)\n"
     ]
    }
   ],
   "source": [
    "a = x + 2\n",
    "b = a ** 2\n",
    "c = b + 3\n",
    "y = c.mean()\n",
    "print(\"Y\", y)"
   ]
  },
  {
   "cell_type": "markdown",
   "id": "8d64c2eb",
   "metadata": {
    "papermill": {
     "duration": 0.204272,
     "end_time": "2021-11-01T12:53:45.162075",
     "exception": false,
     "start_time": "2021-11-01T12:53:44.957803",
     "status": "completed"
    },
    "tags": []
   },
   "source": [
    "Using the statements above, we have created a computation graph that looks similar to the figure below:\n",
    "\n",
    "<center style=\"width: 100%\"><img src=\"https://github.com/PyTorchLightning/lightning-tutorials/raw/main/course_UvA-DL/01-introduction-to-pytorch/pytorch_computation_graph.svg\" width=\"200px\"></center>\n",
    "\n",
    "We calculate $a$ based on the inputs $x$ and the constant $2$, $b$ is $a$ squared, and so on.\n",
    "The visualization is an abstraction of the dependencies between inputs and outputs of the operations we have applied.\n",
    "Each node of the computation graph has automatically defined a function for calculating the gradients with respect to its inputs, `grad_fn`.\n",
    "You can see this when we printed the output tensor $y$.\n",
    "This is why the computation graph is usually visualized in the reverse direction (arrows point from the result to the inputs).\n",
    "We can perform backpropagation on the computation graph by calling the\n",
    "function `backward()` on the last output, which effectively calculates\n",
    "the gradients for each tensor that has the property\n",
    "`requires_grad=True`:"
   ]
  },
  {
   "cell_type": "code",
   "execution_count": 28,
   "id": "9df2ab28",
   "metadata": {
    "execution": {
     "iopub.execute_input": "2021-11-01T12:53:45.569874Z",
     "iopub.status.busy": "2021-11-01T12:53:45.569418Z",
     "iopub.status.idle": "2021-11-01T12:53:45.644173Z",
     "shell.execute_reply": "2021-11-01T12:53:45.643723Z"
    },
    "papermill": {
     "duration": 0.279419,
     "end_time": "2021-11-01T12:53:45.644291",
     "exception": false,
     "start_time": "2021-11-01T12:53:45.364872",
     "status": "completed"
    },
    "tags": []
   },
   "outputs": [],
   "source": [
    "y.backward()"
   ]
  },
  {
   "cell_type": "markdown",
   "id": "e88c7308",
   "metadata": {
    "papermill": {
     "duration": 0.206045,
     "end_time": "2021-11-01T12:53:46.056176",
     "exception": false,
     "start_time": "2021-11-01T12:53:45.850131",
     "status": "completed"
    },
    "tags": []
   },
   "source": [
    "`x.grad` will now contain the gradient $\\partial y/ \\partial \\mathcal{x}$, and this gradient indicates how a change in $\\mathbf{x}$ will affect output $y$ given the current input $\\mathbf{x}=[0,1,2]$:"
   ]
  },
  {
   "cell_type": "code",
   "execution_count": 29,
   "id": "07a9df4f",
   "metadata": {
    "execution": {
     "iopub.execute_input": "2021-11-01T12:53:46.465968Z",
     "iopub.status.busy": "2021-11-01T12:53:46.465508Z",
     "iopub.status.idle": "2021-11-01T12:53:46.467958Z",
     "shell.execute_reply": "2021-11-01T12:53:46.468333Z"
    },
    "papermill": {
     "duration": 0.20913,
     "end_time": "2021-11-01T12:53:46.468452",
     "exception": false,
     "start_time": "2021-11-01T12:53:46.259322",
     "status": "completed"
    },
    "tags": []
   },
   "outputs": [
    {
     "name": "stdout",
     "output_type": "stream",
     "text": [
      "tensor([1.3333, 2.0000, 2.6667])\n"
     ]
    }
   ],
   "source": [
    "print(x.grad)"
   ]
  },
  {
   "cell_type": "markdown",
   "id": "b51679ca",
   "metadata": {
    "papermill": {
     "duration": 0.206005,
     "end_time": "2021-11-01T12:53:46.888846",
     "exception": false,
     "start_time": "2021-11-01T12:53:46.682841",
     "status": "completed"
    },
    "tags": []
   },
   "source": [
    "We can also verify these gradients by hand.\n",
    "We will calculate the gradients using the chain rule, in the same way as PyTorch did it:\n",
    "\n",
    "$$\\frac{\\partial y}{\\partial x_i} = \\frac{\\partial y}{\\partial c_i}\\frac{\\partial c_i}{\\partial b_i}\\frac{\\partial b_i}{\\partial a_i}\\frac{\\partial a_i}{\\partial x_i}$$\n",
    "\n",
    "Note that we have simplified this equation to index notation, and by using the fact that all operation besides the mean do not combine the elements in the tensor.\n",
    "The partial derivatives are:\n",
    "\n",
    "$$\n",
    "\\frac{\\partial a_i}{\\partial x_i} = 1,\\hspace{1cm}\n",
    "\\frac{\\partial b_i}{\\partial a_i} = 2\\cdot a_i\\hspace{1cm}\n",
    "\\frac{\\partial c_i}{\\partial b_i} = 1\\hspace{1cm}\n",
    "\\frac{\\partial y}{\\partial c_i} = \\frac{1}{3}\n",
    "$$\n",
    "\n",
    "Hence, with the input being $\\mathbf{x}=[0,1,2]$, our gradients are $\\partial y/\\partial \\mathbf{x}=[4/3,2,8/3]$.\n",
    "The previous code cell should have printed the same result."
   ]
  },
  {
   "cell_type": "markdown",
   "id": "adbaaabc",
   "metadata": {
    "papermill": {
     "duration": 0.205412,
     "end_time": "2021-11-01T12:53:47.300651",
     "exception": false,
     "start_time": "2021-11-01T12:53:47.095239",
     "status": "completed"
    },
    "tags": []
   },
   "source": [
    "### GPU support\n",
    "\n",
    "A crucial feature of PyTorch is the support of GPUs, short for Graphics Processing Unit.\n",
    "A GPU can perform many thousands of small operations in parallel, making it very well suitable for performing large matrix operations in neural networks.\n",
    "When comparing GPUs to CPUs, we can list the following main differences (credit: [Kevin Krewell, 2009](https://blogs.nvidia.com/blog/2009/12/16/whats-the-difference-between-a-cpu-and-a-gpu/))\n",
    "\n",
    "<center style=\"width: 100%\"><img src=\"https://github.com/PyTorchLightning/lightning-tutorials/raw/main/course_UvA-DL/01-introduction-to-pytorch/comparison_CPU_GPU.png\" width=\"700px\"></center>\n",
    "\n",
    "CPUs and GPUs have both different advantages and disadvantages, which is why many computers contain both components and use them for different tasks.\n",
    "In case you are not familiar with GPUs, you can read up more details in this [NVIDIA blog post](https://blogs.nvidia.com/blog/2009/12/16/whats-the-difference-between-a-cpu-and-a-gpu/) or [here](https://www.intel.com/content/www/us/en/products/docs/processors/what-is-a-gpu.html).\n",
    "\n",
    "GPUs can accelerate the training of your network up to a factor of $100$ which is essential for large neural networks.\n",
    "PyTorch implements a lot of functionality for supporting GPUs (mostly those of NVIDIA due to the libraries [CUDA](https://developer.nvidia.com/cuda-zone) and [cuDNN](https://developer.nvidia.com/cudnn)).\n",
    "First, let's check whether you have a GPU available:"
   ]
  },
  {
   "cell_type": "code",
   "execution_count": 30,
   "id": "d0cdbea1",
   "metadata": {
    "execution": {
     "iopub.execute_input": "2021-11-01T12:53:47.714930Z",
     "iopub.status.busy": "2021-11-01T12:53:47.714460Z",
     "iopub.status.idle": "2021-11-01T12:53:47.716862Z",
     "shell.execute_reply": "2021-11-01T12:53:47.716390Z"
    },
    "papermill": {
     "duration": 0.210551,
     "end_time": "2021-11-01T12:53:47.716967",
     "exception": false,
     "start_time": "2021-11-01T12:53:47.506416",
     "status": "completed"
    },
    "tags": []
   },
   "outputs": [
    {
     "name": "stdout",
     "output_type": "stream",
     "text": [
      "Is the GPU available? True\n"
     ]
    }
   ],
   "source": [
    "gpu_avail = torch.cuda.is_available()\n",
    "print(f\"Is the GPU available? {gpu_avail}\")"
   ]
  },
  {
   "cell_type": "markdown",
   "id": "a8718469",
   "metadata": {
    "papermill": {
     "duration": 0.211156,
     "end_time": "2021-11-01T12:53:48.138574",
     "exception": false,
     "start_time": "2021-11-01T12:53:47.927418",
     "status": "completed"
    },
    "tags": []
   },
   "source": [
    "If you have a GPU on your computer but the command above returns False, make sure you have the correct CUDA-version installed.\n",
    "The `dl2020` environment comes with the CUDA-toolkit 10.1, which is selected for the Lisa supercomputer.\n",
    "Please change it if necessary (CUDA 10.2 is currently common).\n",
    "On Google Colab, make sure that you have selected a GPU in your runtime setup (in the menu, check under `Runtime -> Change runtime type`).\n",
    "\n",
    "By default, all tensors you create are stored on the CPU.\n",
    "We can push a tensor to the GPU by using the function `.to(...)`, or `.cuda()`.\n",
    "However, it is often a good practice to define a `device` object in your code which points to the GPU if you have one, and otherwise to the CPU.\n",
    "Then, you can write your code with respect to this device object, and it allows you to run the same code on both a CPU-only system, and one with a GPU.\n",
    "Let's try it below.\n",
    "We can specify the device as follows:"
   ]
  },
  {
   "cell_type": "code",
   "execution_count": 31,
   "id": "142e586e",
   "metadata": {
    "execution": {
     "iopub.execute_input": "2021-11-01T12:53:48.566206Z",
     "iopub.status.busy": "2021-11-01T12:53:48.565750Z",
     "iopub.status.idle": "2021-11-01T12:53:48.567788Z",
     "shell.execute_reply": "2021-11-01T12:53:48.568158Z"
    },
    "papermill": {
     "duration": 0.221873,
     "end_time": "2021-11-01T12:53:48.568277",
     "exception": false,
     "start_time": "2021-11-01T12:53:48.346404",
     "status": "completed"
    },
    "tags": []
   },
   "outputs": [
    {
     "name": "stdout",
     "output_type": "stream",
     "text": [
      "Device cuda\n"
     ]
    }
   ],
   "source": [
    "device = torch.device(\"cuda\") if torch.cuda.is_available() else torch.device(\"cpu\")\n",
    "print(\"Device\", device)"
   ]
  },
  {
   "cell_type": "markdown",
   "id": "ff8e80a0",
   "metadata": {
    "papermill": {
     "duration": 0.207035,
     "end_time": "2021-11-01T12:53:48.980830",
     "exception": false,
     "start_time": "2021-11-01T12:53:48.773795",
     "status": "completed"
    },
    "tags": []
   },
   "source": [
    "Now let's create a tensor and push it to the device:"
   ]
  },
  {
   "cell_type": "code",
   "execution_count": 32,
   "id": "2667a9dd",
   "metadata": {
    "execution": {
     "iopub.execute_input": "2021-11-01T12:53:49.400654Z",
     "iopub.status.busy": "2021-11-01T12:53:49.400192Z",
     "iopub.status.idle": "2021-11-01T12:53:52.169326Z",
     "shell.execute_reply": "2021-11-01T12:53:52.168849Z"
    },
    "papermill": {
     "duration": 2.979667,
     "end_time": "2021-11-01T12:53:52.169440",
     "exception": false,
     "start_time": "2021-11-01T12:53:49.189773",
     "status": "completed"
    },
    "tags": []
   },
   "outputs": [
    {
     "name": "stdout",
     "output_type": "stream",
     "text": [
      "X tensor([[0., 0., 0.],\n",
      "        [0., 0., 0.]], device='cuda:0')\n"
     ]
    }
   ],
   "source": [
    "x = torch.zeros(2, 3)\n",
    "x = x.to(device)\n",
    "print(\"X\", x)"
   ]
  },
  {
   "cell_type": "markdown",
   "id": "2a1ca1d9",
   "metadata": {
    "papermill": {
     "duration": 0.204225,
     "end_time": "2021-11-01T12:53:52.577841",
     "exception": false,
     "start_time": "2021-11-01T12:53:52.373616",
     "status": "completed"
    },
    "tags": []
   },
   "source": [
    "In case you have a GPU, you should now see the attribute `device='cuda:0'` being printed next to your tensor.\n",
    "The zero next to cuda indicates that this is the zero-th GPU device on your computer.\n",
    "PyTorch also supports multi-GPU systems, but this you will only need once you have very big networks to train (if interested, see the [PyTorch documentation](https://pytorch.org/docs/stable/distributed.html#distributed-basics)).\n",
    "We can also compare the runtime of a large matrix multiplication on the CPU with a operation on the GPU:"
   ]
  },
  {
   "cell_type": "code",
   "execution_count": 33,
   "id": "4ae9ad80",
   "metadata": {
    "execution": {
     "iopub.execute_input": "2021-11-01T12:53:52.992006Z",
     "iopub.status.busy": "2021-11-01T12:53:52.991542Z",
     "iopub.status.idle": "2021-11-01T12:53:53.550947Z",
     "shell.execute_reply": "2021-11-01T12:53:53.550536Z"
    },
    "papermill": {
     "duration": 0.769544,
     "end_time": "2021-11-01T12:53:53.551059",
     "exception": false,
     "start_time": "2021-11-01T12:53:52.781515",
     "status": "completed"
    },
    "tags": []
   },
   "outputs": [
    {
     "name": "stdout",
     "output_type": "stream",
     "text": [
      "CPU time: 0.25947s\n",
      "GPU time: 0.03464s\n"
     ]
    }
   ],
   "source": [
    "x = torch.randn(5000, 5000)\n",
    "\n",
    "# CPU version\n",
    "start_time = time.time()\n",
    "_ = torch.matmul(x, x)\n",
    "end_time = time.time()\n",
    "print(f\"CPU time: {(end_time - start_time):6.5f}s\")\n",
    "\n",
    "# GPU version\n",
    "if torch.cuda.is_available():\n",
    "    x = x.to(device)\n",
    "    # CUDA is asynchronous, so we need to use different timing functions\n",
    "    start = torch.cuda.Event(enable_timing=True)\n",
    "    end = torch.cuda.Event(enable_timing=True)\n",
    "    start.record()\n",
    "    _ = torch.matmul(x, x)\n",
    "    end.record()\n",
    "    torch.cuda.synchronize()  # Waits for everything to finish running on the GPU\n",
    "    print(f\"GPU time: {0.001 * start.elapsed_time(end):6.5f}s\")  # Milliseconds to seconds"
   ]
  },
  {
   "cell_type": "markdown",
   "id": "94b21215",
   "metadata": {
    "papermill": {
     "duration": 0.205717,
     "end_time": "2021-11-01T12:53:53.962973",
     "exception": false,
     "start_time": "2021-11-01T12:53:53.757256",
     "status": "completed"
    },
    "tags": []
   },
   "source": [
    "Depending on the size of the operation and the CPU/GPU in your system, the speedup of this operation can be >50x.\n",
    "As `matmul` operations are very common in neural networks, we can already see the great benefit of training a NN on a GPU.\n",
    "The time estimate can be relatively noisy here because we haven't run it for multiple times.\n",
    "Feel free to extend this, but it also takes longer to run.\n",
    "\n",
    "When generating random numbers, the seed between CPU and GPU is not synchronized.\n",
    "Hence, we need to set the seed on the GPU separately to ensure a reproducible code.\n",
    "Note that due to different GPU architectures, running the same code on different GPUs does not guarantee the same random numbers.\n",
    "Still, we don't want that our code gives us a different output every time we run it on the exact same hardware.\n",
    "Hence, we also set the seed on the GPU:"
   ]
  },
  {
   "cell_type": "code",
   "execution_count": 34,
   "id": "63172fe6",
   "metadata": {
    "execution": {
     "iopub.execute_input": "2021-11-01T12:53:54.379755Z",
     "iopub.status.busy": "2021-11-01T12:53:54.379290Z",
     "iopub.status.idle": "2021-11-01T12:53:54.381273Z",
     "shell.execute_reply": "2021-11-01T12:53:54.380886Z"
    },
    "papermill": {
     "duration": 0.213973,
     "end_time": "2021-11-01T12:53:54.381374",
     "exception": false,
     "start_time": "2021-11-01T12:53:54.167401",
     "status": "completed"
    },
    "tags": []
   },
   "outputs": [],
   "source": [
    "# GPU operations have a separate seed we also want to set\n",
    "if torch.cuda.is_available():\n",
    "    torch.cuda.manual_seed(42)\n",
    "    torch.cuda.manual_seed_all(42)\n",
    "\n",
    "# Additionally, some operations on a GPU are implemented stochastic for efficiency\n",
    "# We want to ensure that all operations are deterministic on GPU (if used) for reproducibility\n",
    "torch.backends.cudnn.determinstic = True\n",
    "torch.backends.cudnn.benchmark = False"
   ]
  },
  {
   "cell_type": "markdown",
   "id": "dbcf58e3",
   "metadata": {
    "papermill": {
     "duration": 0.20572,
     "end_time": "2021-11-01T12:53:54.794002",
     "exception": false,
     "start_time": "2021-11-01T12:53:54.588282",
     "status": "completed"
    },
    "tags": []
   },
   "source": [
    "## Learning by example: Continuous XOR\n",
    "<div class=\"center-wrapper\"><div class=\"video-wrapper\"><iframe src=\"https://www.youtube.com/embed/schbjeU5X2g\" title=\"YouTube video player\" frameborder=\"0\" allow=\"accelerometer; autoplay; clipboard-write; encrypted-media; gyroscope; picture-in-picture\" allowfullscreen></iframe></div></div>\n",
    "\n",
    "If we want to build a neural network in PyTorch, we could specify all our parameters (weight matrices, bias vectors) using `Tensors` (with `requires_grad=True`), ask PyTorch to calculate the gradients and then adjust the parameters.\n",
    "But things can quickly get cumbersome if we have a lot of parameters.\n",
    "In PyTorch, there is a package called `torch.nn` that makes building neural networks more convenient.\n",
    "\n",
    "We will introduce the libraries and all additional parts you might need to train a neural network in PyTorch, using a simple example classifier on a simple yet well known example: XOR.\n",
    "Given two binary inputs $x_1$ and $x_2$, the label to predict is $1$ if either $x_1$ or $x_2$ is $1$ while the other is $0$, or the label is $0$ in all other cases.\n",
    "The example became famous by the fact that a single neuron, i.e. a linear classifier, cannot learn this simple function.\n",
    "Hence, we will learn how to build a small neural network that can learn this function.\n",
    "To make it a little bit more interesting, we move the XOR into continuous space and introduce some gaussian noise on the binary inputs.\n",
    "Our desired separation of an XOR dataset could look as follows:\n",
    "\n",
    "<center style=\"width: 100%\"><img src=\"https://github.com/PyTorchLightning/lightning-tutorials/raw/main/course_UvA-DL/01-introduction-to-pytorch/continuous_xor.svg\" width=\"350px\"></center>"
   ]
  },
  {
   "cell_type": "markdown",
   "id": "b042a2b8",
   "metadata": {
    "papermill": {
     "duration": 0.206852,
     "end_time": "2021-11-01T12:53:55.205391",
     "exception": false,
     "start_time": "2021-11-01T12:53:54.998539",
     "status": "completed"
    },
    "tags": []
   },
   "source": [
    "### The model\n",
    "\n",
    "The package `torch.nn` defines a series of useful classes like linear networks layers, activation functions, loss functions etc.\n",
    "A full list can be found [here](https://pytorch.org/docs/stable/nn.html).\n",
    "In case you need a certain network layer, check the documentation of the package first before writing the layer yourself as the package likely contains the code for it already.\n",
    "We import it below:"
   ]
  },
  {
   "cell_type": "code",
   "execution_count": null,
   "id": "45e0c9b6",
   "metadata": {
    "lines_to_next_cell": 0,
    "papermill": {
     "duration": 0.206477,
     "end_time": "2021-11-01T12:53:55.628818",
     "exception": false,
     "start_time": "2021-11-01T12:53:55.422341",
     "status": "completed"
    },
    "tags": []
   },
   "outputs": [],
   "source": []
  },
  {
   "cell_type": "code",
   "execution_count": null,
   "id": "e848f011",
   "metadata": {
    "papermill": {
     "duration": 0.207149,
     "end_time": "2021-11-01T12:53:56.042464",
     "exception": false,
     "start_time": "2021-11-01T12:53:55.835315",
     "status": "completed"
    },
    "tags": []
   },
   "outputs": [],
   "source": []
  },
  {
   "cell_type": "markdown",
   "id": "333550e5",
   "metadata": {
    "papermill": {
     "duration": 0.205037,
     "end_time": "2021-11-01T12:53:56.455831",
     "exception": false,
     "start_time": "2021-11-01T12:53:56.250794",
     "status": "completed"
    },
    "tags": []
   },
   "source": [
    "Additionally to `torch.nn`, there is also `torch.nn.functional`.\n",
    "It contains functions that are used in network layers.\n",
    "This is in contrast to `torch.nn` which defines them as `nn.Modules` (more on it below), and `torch.nn` actually uses a lot of functionalities from `torch.nn.functional`.\n",
    "Hence, the functional package is useful in many situations, and so we import it as well here."
   ]
  },
  {
   "cell_type": "markdown",
   "id": "2ae9ba24",
   "metadata": {
    "lines_to_next_cell": 2,
    "papermill": {
     "duration": 0.205282,
     "end_time": "2021-11-01T12:53:56.869444",
     "exception": false,
     "start_time": "2021-11-01T12:53:56.664162",
     "status": "completed"
    },
    "tags": []
   },
   "source": [
    "#### nn.Module\n",
    "\n",
    "In PyTorch, a neural network is built up out of modules.\n",
    "Modules can contain other modules, and a neural network is considered to be a module itself as well.\n",
    "The basic template of a module is as follows:"
   ]
  },
  {
   "cell_type": "code",
   "execution_count": 35,
   "id": "e098c12e",
   "metadata": {
    "execution": {
     "iopub.execute_input": "2021-11-01T12:53:57.283888Z",
     "iopub.status.busy": "2021-11-01T12:53:57.283430Z",
     "iopub.status.idle": "2021-11-01T12:53:57.285431Z",
     "shell.execute_reply": "2021-11-01T12:53:57.285041Z"
    },
    "lines_to_next_cell": 2,
    "papermill": {
     "duration": 0.210865,
     "end_time": "2021-11-01T12:53:57.285531",
     "exception": false,
     "start_time": "2021-11-01T12:53:57.074666",
     "status": "completed"
    },
    "tags": []
   },
   "outputs": [],
   "source": [
    "class MyModule(nn.Module):\n",
    "    def __init__(self):\n",
    "        super().__init__()\n",
    "        # Some init for my module\n",
    "\n",
    "    def forward(self, x):\n",
    "        # Function for performing the calculation of the module.\n",
    "        pass"
   ]
  },
  {
   "cell_type": "markdown",
   "id": "5bf95a7f",
   "metadata": {
    "lines_to_next_cell": 2,
    "papermill": {
     "duration": 0.20473,
     "end_time": "2021-11-01T12:53:57.694754",
     "exception": false,
     "start_time": "2021-11-01T12:53:57.490024",
     "status": "completed"
    },
    "tags": []
   },
   "source": [
    "The forward function is where the computation of the module is taken place, and is executed when you call the module (`nn = MyModule(); nn(x)`).\n",
    "In the init function, we usually create the parameters of the module, using `nn.Parameter`, or defining other modules that are used in the forward function.\n",
    "The backward calculation is done automatically, but could be overwritten as well if wanted.\n",
    "\n",
    "#### Simple classifier\n",
    "We can now make use of the pre-defined modules in the `torch.nn` package, and define our own small neural network.\n",
    "We will use a minimal network with a input layer, one hidden layer with tanh as activation function, and a output layer.\n",
    "In other words, our networks should look something like this:\n",
    "\n",
    "<center width=\"100%\"><img src=\"https://github.com/PyTorchLightning/lightning-tutorials/raw/main/course_UvA-DL/01-introduction-to-pytorch/small_neural_network.svg\" width=\"300px\"></center>\n",
    "\n",
    "The input neurons are shown in blue, which represent the coordinates $x_1$ and $x_2$ of a data point.\n",
    "The hidden neurons including a tanh activation are shown in white, and the output neuron in red.\n",
    "In PyTorch, we can define this as follows:"
   ]
  },
  {
   "cell_type": "code",
   "execution_count": 36,
   "id": "deb5f4af",
   "metadata": {
    "execution": {
     "iopub.execute_input": "2021-11-01T12:53:58.114069Z",
     "iopub.status.busy": "2021-11-01T12:53:58.113608Z",
     "iopub.status.idle": "2021-11-01T12:53:58.115218Z",
     "shell.execute_reply": "2021-11-01T12:53:58.115586Z"
    },
    "papermill": {
     "duration": 0.213648,
     "end_time": "2021-11-01T12:53:58.115706",
     "exception": false,
     "start_time": "2021-11-01T12:53:57.902058",
     "status": "completed"
    },
    "tags": []
   },
   "outputs": [],
   "source": [
    "class SimpleClassifier(nn.Module):\n",
    "    def __init__(self, num_inputs, num_hidden, num_outputs):\n",
    "        super().__init__()\n",
    "        # Initialize the modules we need to build the network\n",
    "        self.linear1 = nn.Linear(num_inputs, num_hidden)\n",
    "        self.act_fn = nn.Tanh()\n",
    "        self.linear2 = nn.Linear(num_hidden, num_outputs)\n",
    "\n",
    "    def forward(self, x):\n",
    "        # Perform the calculation of the model to determine the prediction\n",
    "        x = self.linear1(x)\n",
    "        x = self.act_fn(x)\n",
    "        x = self.linear2(x)\n",
    "        return x"
   ]
  },
  {
   "cell_type": "markdown",
   "id": "bf024ce0",
   "metadata": {
    "papermill": {
     "duration": 0.204498,
     "end_time": "2021-11-01T12:53:58.525690",
     "exception": false,
     "start_time": "2021-11-01T12:53:58.321192",
     "status": "completed"
    },
    "tags": []
   },
   "source": [
    "For the examples in this notebook, we will use a tiny neural network with two input neurons and four hidden neurons.\n",
    "As we perform binary classification, we will use a single output neuron.\n",
    "Note that we do not apply a sigmoid on the output yet.\n",
    "This is because other functions, especially the loss, are more efficient and precise to calculate on the original outputs instead of the sigmoid output.\n",
    "We will discuss the detailed reason later."
   ]
  },
  {
   "cell_type": "code",
   "execution_count": 37,
   "id": "b5f2c971",
   "metadata": {
    "execution": {
     "iopub.execute_input": "2021-11-01T12:53:58.938619Z",
     "iopub.status.busy": "2021-11-01T12:53:58.938075Z",
     "iopub.status.idle": "2021-11-01T12:53:58.941107Z",
     "shell.execute_reply": "2021-11-01T12:53:58.940715Z"
    },
    "papermill": {
     "duration": 0.21078,
     "end_time": "2021-11-01T12:53:58.941208",
     "exception": false,
     "start_time": "2021-11-01T12:53:58.730428",
     "status": "completed"
    },
    "tags": []
   },
   "outputs": [
    {
     "name": "stdout",
     "output_type": "stream",
     "text": [
      "SimpleClassifier(\n",
      "  (linear1): Linear(in_features=2, out_features=4, bias=True)\n",
      "  (act_fn): Tanh()\n",
      "  (linear2): Linear(in_features=4, out_features=1, bias=True)\n",
      ")\n"
     ]
    }
   ],
   "source": [
    "model = SimpleClassifier(num_inputs=2, num_hidden=4, num_outputs=1)\n",
    "# Printing a module shows all its submodules\n",
    "print(model)"
   ]
  },
  {
   "cell_type": "markdown",
   "id": "b4b75881",
   "metadata": {
    "papermill": {
     "duration": 0.209138,
     "end_time": "2021-11-01T12:53:59.355896",
     "exception": false,
     "start_time": "2021-11-01T12:53:59.146758",
     "status": "completed"
    },
    "tags": []
   },
   "source": [
    "Printing the model lists all submodules it contains.\n",
    "The parameters of a module can be obtained by using its `parameters()` functions, or `named_parameters()` to get a name to each parameter object.\n",
    "For our small neural network, we have the following parameters:"
   ]
  },
  {
   "cell_type": "code",
   "execution_count": 38,
   "id": "a1c385bb",
   "metadata": {
    "execution": {
     "iopub.execute_input": "2021-11-01T12:53:59.776925Z",
     "iopub.status.busy": "2021-11-01T12:53:59.776364Z",
     "iopub.status.idle": "2021-11-01T12:53:59.778545Z",
     "shell.execute_reply": "2021-11-01T12:53:59.778921Z"
    },
    "papermill": {
     "duration": 0.215121,
     "end_time": "2021-11-01T12:53:59.779042",
     "exception": false,
     "start_time": "2021-11-01T12:53:59.563921",
     "status": "completed"
    },
    "tags": []
   },
   "outputs": [
    {
     "name": "stdout",
     "output_type": "stream",
     "text": [
      "Parameter linear1.weight, shape torch.Size([4, 2])\n",
      "Parameter linear1.bias, shape torch.Size([4])\n",
      "Parameter linear2.weight, shape torch.Size([1, 4])\n",
      "Parameter linear2.bias, shape torch.Size([1])\n"
     ]
    }
   ],
   "source": [
    "for name, param in model.named_parameters():\n",
    "    print(f\"Parameter {name}, shape {param.shape}\")"
   ]
  },
  {
   "cell_type": "markdown",
   "id": "99df299b",
   "metadata": {
    "papermill": {
     "duration": 0.207803,
     "end_time": "2021-11-01T12:54:00.194649",
     "exception": false,
     "start_time": "2021-11-01T12:53:59.986846",
     "status": "completed"
    },
    "tags": []
   },
   "source": [
    "Each linear layer has a weight matrix of the shape `[output, input]`, and a bias of the shape `[output]`.\n",
    "The tanh activation function does not have any parameters.\n",
    "Note that parameters are only registered for `nn.Module` objects that are direct object attributes, i.e. `self.a = ...`.\n",
    "If you define a list of modules, the parameters of those are not registered for the outer module and can cause some issues when you try to optimize your module.\n",
    "There are alternatives, like `nn.ModuleList`, `nn.ModuleDict` and `nn.Sequential`, that allow you to have different data structures of modules.\n",
    "We will use them in a few later tutorials and explain them there."
   ]
  },
  {
   "cell_type": "markdown",
   "id": "40eb5ed4",
   "metadata": {
    "papermill": {
     "duration": 0.209786,
     "end_time": "2021-11-01T12:54:00.613408",
     "exception": false,
     "start_time": "2021-11-01T12:54:00.403622",
     "status": "completed"
    },
    "tags": []
   },
   "source": [
    "### The data\n",
    "\n",
    "PyTorch also provides a few functionalities to load the training and\n",
    "test data efficiently, summarized in the package `torch.utils.data`."
   ]
  },
  {
   "cell_type": "code",
   "execution_count": null,
   "id": "840a3226",
   "metadata": {
    "papermill": {
     "duration": 0.208668,
     "end_time": "2021-11-01T12:54:01.029469",
     "exception": false,
     "start_time": "2021-11-01T12:54:00.820801",
     "status": "completed"
    },
    "tags": []
   },
   "outputs": [],
   "source": []
  },
  {
   "cell_type": "markdown",
   "id": "5f02d960",
   "metadata": {
    "papermill": {
     "duration": 0.206105,
     "end_time": "2021-11-01T12:54:01.442453",
     "exception": false,
     "start_time": "2021-11-01T12:54:01.236348",
     "status": "completed"
    },
    "tags": []
   },
   "source": [
    "The data package defines two classes which are the standard interface for handling data in PyTorch: `data.Dataset`, and `data.DataLoader`.\n",
    "The dataset class provides an uniform interface to access the\n",
    "training/test data, while the data loader makes sure to efficiently load\n",
    "and stack the data points from the dataset into batches during training."
   ]
  },
  {
   "cell_type": "markdown",
   "id": "2d6c06d2",
   "metadata": {
    "papermill": {
     "duration": 0.209094,
     "end_time": "2021-11-01T12:54:01.858253",
     "exception": false,
     "start_time": "2021-11-01T12:54:01.649159",
     "status": "completed"
    },
    "tags": []
   },
   "source": [
    "#### The dataset class\n",
    "\n",
    "The dataset class summarizes the basic functionality of a dataset in a natural way.\n",
    "To define a dataset in PyTorch, we simply specify two functions: `__getitem__`, and `__len__`.\n",
    "The get-item function has to return the $i$-th data point in the dataset, while the len function returns the size of the dataset.\n",
    "For the XOR dataset, we can define the dataset class as follows:"
   ]
  },
  {
   "cell_type": "code",
   "execution_count": 39,
   "id": "6a3fe463",
   "metadata": {
    "execution": {
     "iopub.execute_input": "2021-11-01T12:54:02.279982Z",
     "iopub.status.busy": "2021-11-01T12:54:02.279513Z",
     "iopub.status.idle": "2021-11-01T12:54:02.281517Z",
     "shell.execute_reply": "2021-11-01T12:54:02.281099Z"
    },
    "papermill": {
     "duration": 0.216909,
     "end_time": "2021-11-01T12:54:02.281618",
     "exception": false,
     "start_time": "2021-11-01T12:54:02.064709",
     "status": "completed"
    },
    "tags": []
   },
   "outputs": [],
   "source": [
    "\n",
    "\n",
    "class XORDataset(data.Dataset):\n",
    "    def __init__(self, size, std=0.1):\n",
    "        \"\"\"\n",
    "        Inputs:\n",
    "            size - Number of data points we want to generate\n",
    "            std - Standard deviation of the noise (see generate_continuous_xor function)\n",
    "        \"\"\"\n",
    "        super().__init__()\n",
    "        self.size = size\n",
    "        self.std = std\n",
    "        self.generate_continuous_xor()\n",
    "\n",
    "    def generate_continuous_xor(self):\n",
    "        # Each data point in the XOR dataset has two variables, x and y, that can be either 0 or 1\n",
    "        # The label is their XOR combination, i.e. 1 if only x or only y is 1 while the other is 0.\n",
    "        # If x=y, the label is 0.\n",
    "        data = torch.randint(low=0, high=2, size=(self.size, 2), dtype=torch.float32)\n",
    "        label = (data.sum(dim=1) == 1).to(torch.long)\n",
    "        # To make it slightly more challenging, we add a bit of gaussian noise to the data points.\n",
    "        data += self.std * torch.randn(data.shape)\n",
    "\n",
    "        self.data = data\n",
    "        self.label = label\n",
    "\n",
    "    def __len__(self):\n",
    "        # Number of data point we have. Alternatively self.data.shape[0], or self.label.shape[0]\n",
    "        return self.size\n",
    "\n",
    "    def __getitem__(self, idx):\n",
    "        # Return the idx-th data point of the dataset\n",
    "        # If we have multiple things to return (data point and label), we can return them as tuple\n",
    "        data_point = self.data[idx]\n",
    "        data_label = self.label[idx]\n",
    "        return data_point, data_label"
   ]
  },
  {
   "cell_type": "markdown",
   "id": "57c5f73e",
   "metadata": {
    "papermill": {
     "duration": 0.20677,
     "end_time": "2021-11-01T12:54:02.695628",
     "exception": false,
     "start_time": "2021-11-01T12:54:02.488858",
     "status": "completed"
    },
    "tags": []
   },
   "source": [
    "Let's try to create such a dataset and inspect it:"
   ]
  },
  {
   "cell_type": "code",
   "execution_count": 40,
   "id": "36a6fed5",
   "metadata": {
    "execution": {
     "iopub.execute_input": "2021-11-01T12:54:03.115217Z",
     "iopub.status.busy": "2021-11-01T12:54:03.114763Z",
     "iopub.status.idle": "2021-11-01T12:54:03.118470Z",
     "shell.execute_reply": "2021-11-01T12:54:03.118054Z"
    },
    "papermill": {
     "duration": 0.216642,
     "end_time": "2021-11-01T12:54:03.118573",
     "exception": false,
     "start_time": "2021-11-01T12:54:02.901931",
     "status": "completed"
    },
    "tags": []
   },
   "outputs": [
    {
     "name": "stdout",
     "output_type": "stream",
     "text": [
      "Size of dataset: 200\n",
      "Data point 0: (tensor([0.9632, 0.1117]), tensor(1))\n"
     ]
    }
   ],
   "source": [
    "dataset = XORDataset(size=200)\n",
    "print(\"Size of dataset:\", len(dataset))\n",
    "print(\"Data point 0:\", dataset[0])"
   ]
  },
  {
   "cell_type": "markdown",
   "id": "7c6ff6c7",
   "metadata": {
    "lines_to_next_cell": 2,
    "papermill": {
     "duration": 0.209553,
     "end_time": "2021-11-01T12:54:03.535275",
     "exception": false,
     "start_time": "2021-11-01T12:54:03.325722",
     "status": "completed"
    },
    "tags": []
   },
   "source": [
    "To better relate to the dataset, we visualize the samples below."
   ]
  },
  {
   "cell_type": "code",
   "execution_count": 41,
   "id": "6c7f549c",
   "metadata": {
    "execution": {
     "iopub.execute_input": "2021-11-01T12:54:03.958874Z",
     "iopub.status.busy": "2021-11-01T12:54:03.958402Z",
     "iopub.status.idle": "2021-11-01T12:54:03.960342Z",
     "shell.execute_reply": "2021-11-01T12:54:03.959886Z"
    },
    "papermill": {
     "duration": 0.217665,
     "end_time": "2021-11-01T12:54:03.960509",
     "exception": false,
     "start_time": "2021-11-01T12:54:03.742844",
     "status": "completed"
    },
    "tags": []
   },
   "outputs": [],
   "source": [
    "def visualize_samples(data, label):\n",
    "    if isinstance(data, torch.Tensor):\n",
    "        data = data.cpu().numpy()\n",
    "    if isinstance(label, torch.Tensor):\n",
    "        label = label.cpu().numpy()\n",
    "    data_0 = data[label == 0]\n",
    "    data_1 = data[label == 1]\n",
    "\n",
    "    plt.figure(figsize=(4, 4))\n",
    "    plt.scatter(data_0[:, 0], data_0[:, 1], edgecolor=\"#333\", label=\"Class 0\")\n",
    "    plt.scatter(data_1[:, 0], data_1[:, 1], edgecolor=\"#333\", label=\"Class 1\")\n",
    "    plt.title(\"Dataset samples\")\n",
    "    plt.ylabel(r\"$x_2$\")\n",
    "    plt.xlabel(r\"$x_1$\")\n",
    "    plt.legend()"
   ]
  },
  {
   "cell_type": "code",
   "execution_count": 42,
   "id": "bc7757eb",
   "metadata": {
    "execution": {
     "iopub.execute_input": "2021-11-01T12:54:04.401160Z",
     "iopub.status.busy": "2021-11-01T12:54:04.399064Z",
     "iopub.status.idle": "2021-11-01T12:54:04.867735Z",
     "shell.execute_reply": "2021-11-01T12:54:04.868119Z"
    },
    "papermill": {
     "duration": 0.69304,
     "end_time": "2021-11-01T12:54:04.868261",
     "exception": false,
     "start_time": "2021-11-01T12:54:04.175221",
     "status": "completed"
    },
    "tags": []
   },
   "outputs": [
    {
     "data": {
      "application/pdf": "[encoded data removed]",
      "image/svg+xml": [
       "<?xml version=\"1.0\" encoding=\"utf-8\" standalone=\"no\"?>\n",
       "<!DOCTYPE svg PUBLIC \"-//W3C//DTD SVG 1.1//EN\"\n",
       "  \"http://www.w3.org/Graphics/SVG/1.1/DTD/svg11.dtd\">\n",
       "<svg height=\"277.314375pt\" version=\"1.1\" viewBox=\"0 0 288.985258 277.314375\" width=\"288.985258pt\" xmlns=\"http://www.w3.org/2000/svg\" xmlns:xlink=\"http://www.w3.org/1999/xlink\">\n",
       " <metadata>\n",
       "  <rdf:RDF xmlns:cc=\"http://creativecommons.org/ns#\" xmlns:dc=\"http://purl.org/dc/elements/1.1/\" xmlns:rdf=\"http://www.w3.org/1999/02/22-rdf-syntax-ns#\">\n",
       "   <cc:Work>\n",
       "    <dc:type rdf:resource=\"http://purl.org/dc/dcmitype/StillImage\"/>\n",
       "    <dc:date>2021-11-01T13:54:04.615286</dc:date>\n",
       "    <dc:format>image/svg+xml</dc:format>\n",
       "    <dc:creator>\n",
       "     <cc:Agent>\n",
       "      <dc:title>Matplotlib v3.4.3, https://matplotlib.org/</dc:title>\n",
       "     </cc:Agent>\n",
       "    </dc:creator>\n",
       "   </cc:Work>\n",
       "  </rdf:RDF>\n",
       " </metadata>\n",
       " <defs>\n",
       "  <style type=\"text/css\">*{stroke-linecap:butt;stroke-linejoin:round;}</style>\n",
       " </defs>\n",
       " <g id=\"figure_1\">\n",
       "  <g id=\"patch_1\">\n",
       "   <path d=\"M 0 277.314375 \n",
       "L 288.985258 277.314375 \n",
       "L 288.985258 0 \n",
       "L 0 0 \n",
       "z\n",
       "\" style=\"fill:none;\"/>\n",
       "  </g>\n",
       "  <g id=\"axes_1\">\n",
       "   <g id=\"patch_2\">\n",
       "    <path d=\"M 52.160938 239.758125 \n",
       "L 275.360937 239.758125 \n",
       "L 275.360937 22.318125 \n",
       "L 52.160938 22.318125 \n",
       "z\n",
       "\" style=\"fill:#ffffff;\"/>\n",
       "   </g>\n",
       "   <g id=\"PathCollection_1\">\n",
       "    <defs>\n",
       "     <path d=\"M 0 3 \n",
       "C 0.795609 3 1.55874 2.683901 2.12132 2.12132 \n",
       "C 2.683901 1.55874 3 0.795609 3 0 \n",
       "C 3 -0.795609 2.683901 -1.55874 2.12132 -2.12132 \n",
       "C 1.55874 -2.683901 0.795609 -3 0 -3 \n",
       "C -0.795609 -3 -1.55874 -2.683901 -2.12132 -2.12132 \n",
       "C -2.683901 -1.55874 -3 -0.795609 -3 0 \n",
       "C -3 0.795609 -2.683901 1.55874 -2.12132 2.12132 \n",
       "C -1.55874 2.683901 -0.795609 3 0 3 \n",
       "z\n",
       "\" id=\"mf601e5f0ba\" style=\"stroke:#333333;\"/>\n",
       "    </defs>\n",
       "    <g clip-path=\"url(#p3d76b58e92)\">\n",
       "     <use style=\"fill:#1f77b4;stroke:#333333;\" x=\"96.31168\" xlink:href=\"#mf601e5f0ba\" y=\"193.325344\"/>\n",
       "     <use style=\"fill:#1f77b4;stroke:#333333;\" x=\"232.057657\" xlink:href=\"#mf601e5f0ba\" y=\"62.145049\"/>\n",
       "     <use style=\"fill:#1f77b4;stroke:#333333;\" x=\"258.979442\" xlink:href=\"#mf601e5f0ba\" y=\"63.780462\"/>\n",
       "     <use style=\"fill:#1f77b4;stroke:#333333;\" x=\"108.913368\" xlink:href=\"#mf601e5f0ba\" y=\"204.409578\"/>\n",
       "     <use style=\"fill:#1f77b4;stroke:#333333;\" x=\"101.325808\" xlink:href=\"#mf601e5f0ba\" y=\"205.043015\"/>\n",
       "     <use style=\"fill:#1f77b4;stroke:#333333;\" x=\"70.983454\" xlink:href=\"#mf601e5f0ba\" y=\"189.560429\"/>\n",
       "     <use style=\"fill:#1f77b4;stroke:#333333;\" x=\"242.885541\" xlink:href=\"#mf601e5f0ba\" y=\"58.566133\"/>\n",
       "     <use style=\"fill:#1f77b4;stroke:#333333;\" x=\"232.016709\" xlink:href=\"#mf601e5f0ba\" y=\"51.440521\"/>\n",
       "     <use style=\"fill:#1f77b4;stroke:#333333;\" x=\"93.978943\" xlink:href=\"#mf601e5f0ba\" y=\"204.550687\"/>\n",
       "     <use style=\"fill:#1f77b4;stroke:#333333;\" x=\"237.538974\" xlink:href=\"#mf601e5f0ba\" y=\"53.572047\"/>\n",
       "     <use style=\"fill:#1f77b4;stroke:#333333;\" x=\"103.543109\" xlink:href=\"#mf601e5f0ba\" y=\"200.309835\"/>\n",
       "     <use style=\"fill:#1f77b4;stroke:#333333;\" x=\"255.555098\" xlink:href=\"#mf601e5f0ba\" y=\"32.201761\"/>\n",
       "     <use style=\"fill:#1f77b4;stroke:#333333;\" x=\"238.058002\" xlink:href=\"#mf601e5f0ba\" y=\"62.589723\"/>\n",
       "     <use style=\"fill:#1f77b4;stroke:#333333;\" x=\"232.170061\" xlink:href=\"#mf601e5f0ba\" y=\"57.754453\"/>\n",
       "     <use style=\"fill:#1f77b4;stroke:#333333;\" x=\"94.264177\" xlink:href=\"#mf601e5f0ba\" y=\"212.626168\"/>\n",
       "     <use style=\"fill:#1f77b4;stroke:#333333;\" x=\"89.231835\" xlink:href=\"#mf601e5f0ba\" y=\"185.037671\"/>\n",
       "     <use style=\"fill:#1f77b4;stroke:#333333;\" x=\"251.267421\" xlink:href=\"#mf601e5f0ba\" y=\"90.813692\"/>\n",
       "     <use style=\"fill:#1f77b4;stroke:#333333;\" x=\"254.815479\" xlink:href=\"#mf601e5f0ba\" y=\"83.753102\"/>\n",
       "     <use style=\"fill:#1f77b4;stroke:#333333;\" x=\"226.105337\" xlink:href=\"#mf601e5f0ba\" y=\"59.138235\"/>\n",
       "     <use style=\"fill:#1f77b4;stroke:#333333;\" x=\"82.022892\" xlink:href=\"#mf601e5f0ba\" y=\"209.202243\"/>\n",
       "     <use style=\"fill:#1f77b4;stroke:#333333;\" x=\"253.973129\" xlink:href=\"#mf601e5f0ba\" y=\"32.62492\"/>\n",
       "     <use style=\"fill:#1f77b4;stroke:#333333;\" x=\"245.15091\" xlink:href=\"#mf601e5f0ba\" y=\"59.955798\"/>\n",
       "     <use style=\"fill:#1f77b4;stroke:#333333;\" x=\"114.421987\" xlink:href=\"#mf601e5f0ba\" y=\"175.83743\"/>\n",
       "     <use style=\"fill:#1f77b4;stroke:#333333;\" x=\"228.657784\" xlink:href=\"#mf601e5f0ba\" y=\"32.336249\"/>\n",
       "     <use style=\"fill:#1f77b4;stroke:#333333;\" x=\"99.781014\" xlink:href=\"#mf601e5f0ba\" y=\"194.777215\"/>\n",
       "     <use style=\"fill:#1f77b4;stroke:#333333;\" x=\"227.807175\" xlink:href=\"#mf601e5f0ba\" y=\"51.50491\"/>\n",
       "     <use style=\"fill:#1f77b4;stroke:#333333;\" x=\"86.881354\" xlink:href=\"#mf601e5f0ba\" y=\"179.492748\"/>\n",
       "     <use style=\"fill:#1f77b4;stroke:#333333;\" x=\"250.727063\" xlink:href=\"#mf601e5f0ba\" y=\"48.77409\"/>\n",
       "     <use style=\"fill:#1f77b4;stroke:#333333;\" x=\"246.39628\" xlink:href=\"#mf601e5f0ba\" y=\"61.512745\"/>\n",
       "     <use style=\"fill:#1f77b4;stroke:#333333;\" x=\"240.179519\" xlink:href=\"#mf601e5f0ba\" y=\"43.69401\"/>\n",
       "     <use style=\"fill:#1f77b4;stroke:#333333;\" x=\"92.34098\" xlink:href=\"#mf601e5f0ba\" y=\"184.373252\"/>\n",
       "     <use style=\"fill:#1f77b4;stroke:#333333;\" x=\"104.506115\" xlink:href=\"#mf601e5f0ba\" y=\"209.709719\"/>\n",
       "     <use style=\"fill:#1f77b4;stroke:#333333;\" x=\"87.360439\" xlink:href=\"#mf601e5f0ba\" y=\"169.625602\"/>\n",
       "     <use style=\"fill:#1f77b4;stroke:#333333;\" x=\"97.745486\" xlink:href=\"#mf601e5f0ba\" y=\"201.318829\"/>\n",
       "     <use style=\"fill:#1f77b4;stroke:#333333;\" x=\"112.202457\" xlink:href=\"#mf601e5f0ba\" y=\"200.867622\"/>\n",
       "     <use style=\"fill:#1f77b4;stroke:#333333;\" x=\"93.386735\" xlink:href=\"#mf601e5f0ba\" y=\"195.701852\"/>\n",
       "     <use style=\"fill:#1f77b4;stroke:#333333;\" x=\"112.962408\" xlink:href=\"#mf601e5f0ba\" y=\"212.211753\"/>\n",
       "     <use style=\"fill:#1f77b4;stroke:#333333;\" x=\"213.923524\" xlink:href=\"#mf601e5f0ba\" y=\"39.620323\"/>\n",
       "     <use style=\"fill:#1f77b4;stroke:#333333;\" x=\"253.408944\" xlink:href=\"#mf601e5f0ba\" y=\"64.604829\"/>\n",
       "     <use style=\"fill:#1f77b4;stroke:#333333;\" x=\"238.202599\" xlink:href=\"#mf601e5f0ba\" y=\"63.759786\"/>\n",
       "     <use style=\"fill:#1f77b4;stroke:#333333;\" x=\"93.334759\" xlink:href=\"#mf601e5f0ba\" y=\"205.410605\"/>\n",
       "     <use style=\"fill:#1f77b4;stroke:#333333;\" x=\"222.697015\" xlink:href=\"#mf601e5f0ba\" y=\"89.092646\"/>\n",
       "     <use style=\"fill:#1f77b4;stroke:#333333;\" x=\"246.067518\" xlink:href=\"#mf601e5f0ba\" y=\"56.781365\"/>\n",
       "     <use style=\"fill:#1f77b4;stroke:#333333;\" x=\"97.908356\" xlink:href=\"#mf601e5f0ba\" y=\"212.127081\"/>\n",
       "     <use style=\"fill:#1f77b4;stroke:#333333;\" x=\"110.608912\" xlink:href=\"#mf601e5f0ba\" y=\"217.677792\"/>\n",
       "     <use style=\"fill:#1f77b4;stroke:#333333;\" x=\"119.278606\" xlink:href=\"#mf601e5f0ba\" y=\"177.02797\"/>\n",
       "     <use style=\"fill:#1f77b4;stroke:#333333;\" x=\"229.431275\" xlink:href=\"#mf601e5f0ba\" y=\"71.868079\"/>\n",
       "     <use style=\"fill:#1f77b4;stroke:#333333;\" x=\"217.108023\" xlink:href=\"#mf601e5f0ba\" y=\"44.358713\"/>\n",
       "     <use style=\"fill:#1f77b4;stroke:#333333;\" x=\"90.421001\" xlink:href=\"#mf601e5f0ba\" y=\"205.813556\"/>\n",
       "     <use style=\"fill:#1f77b4;stroke:#333333;\" x=\"230.637614\" xlink:href=\"#mf601e5f0ba\" y=\"68.485687\"/>\n",
       "     <use style=\"fill:#1f77b4;stroke:#333333;\" x=\"98.642521\" xlink:href=\"#mf601e5f0ba\" y=\"201.033344\"/>\n",
       "     <use style=\"fill:#1f77b4;stroke:#333333;\" x=\"242.296554\" xlink:href=\"#mf601e5f0ba\" y=\"33.609264\"/>\n",
       "     <use style=\"fill:#1f77b4;stroke:#333333;\" x=\"95.167044\" xlink:href=\"#mf601e5f0ba\" y=\"188.760034\"/>\n",
       "     <use style=\"fill:#1f77b4;stroke:#333333;\" x=\"227.659933\" xlink:href=\"#mf601e5f0ba\" y=\"76.575953\"/>\n",
       "     <use style=\"fill:#1f77b4;stroke:#333333;\" x=\"239.162594\" xlink:href=\"#mf601e5f0ba\" y=\"47.436505\"/>\n",
       "     <use style=\"fill:#1f77b4;stroke:#333333;\" x=\"70.985535\" xlink:href=\"#mf601e5f0ba\" y=\"190.609003\"/>\n",
       "     <use style=\"fill:#1f77b4;stroke:#333333;\" x=\"216.984682\" xlink:href=\"#mf601e5f0ba\" y=\"47.197067\"/>\n",
       "     <use style=\"fill:#1f77b4;stroke:#333333;\" x=\"247.342435\" xlink:href=\"#mf601e5f0ba\" y=\"65.6149\"/>\n",
       "     <use style=\"fill:#1f77b4;stroke:#333333;\" x=\"82.942512\" xlink:href=\"#mf601e5f0ba\" y=\"196.823089\"/>\n",
       "     <use style=\"fill:#1f77b4;stroke:#333333;\" x=\"94.610207\" xlink:href=\"#mf601e5f0ba\" y=\"229.874489\"/>\n",
       "     <use style=\"fill:#1f77b4;stroke:#333333;\" x=\"94.065144\" xlink:href=\"#mf601e5f0ba\" y=\"199.872245\"/>\n",
       "     <use style=\"fill:#1f77b4;stroke:#333333;\" x=\"75.9265\" xlink:href=\"#mf601e5f0ba\" y=\"200.007537\"/>\n",
       "     <use style=\"fill:#1f77b4;stroke:#333333;\" x=\"261.562131\" xlink:href=\"#mf601e5f0ba\" y=\"65.752612\"/>\n",
       "     <use style=\"fill:#1f77b4;stroke:#333333;\" x=\"227.651459\" xlink:href=\"#mf601e5f0ba\" y=\"73.759575\"/>\n",
       "     <use style=\"fill:#1f77b4;stroke:#333333;\" x=\"253.566025\" xlink:href=\"#mf601e5f0ba\" y=\"39.679857\"/>\n",
       "     <use style=\"fill:#1f77b4;stroke:#333333;\" x=\"76.490724\" xlink:href=\"#mf601e5f0ba\" y=\"185.321057\"/>\n",
       "     <use style=\"fill:#1f77b4;stroke:#333333;\" x=\"238.897525\" xlink:href=\"#mf601e5f0ba\" y=\"82.429587\"/>\n",
       "     <use style=\"fill:#1f77b4;stroke:#333333;\" x=\"249.223089\" xlink:href=\"#mf601e5f0ba\" y=\"89.661589\"/>\n",
       "     <use style=\"fill:#1f77b4;stroke:#333333;\" x=\"118.387936\" xlink:href=\"#mf601e5f0ba\" y=\"218.303568\"/>\n",
       "     <use style=\"fill:#1f77b4;stroke:#333333;\" x=\"108.710707\" xlink:href=\"#mf601e5f0ba\" y=\"207.070547\"/>\n",
       "     <use style=\"fill:#1f77b4;stroke:#333333;\" x=\"94.960359\" xlink:href=\"#mf601e5f0ba\" y=\"190.023846\"/>\n",
       "     <use style=\"fill:#1f77b4;stroke:#333333;\" x=\"95.804305\" xlink:href=\"#mf601e5f0ba\" y=\"187.711556\"/>\n",
       "     <use style=\"fill:#1f77b4;stroke:#333333;\" x=\"239.509346\" xlink:href=\"#mf601e5f0ba\" y=\"53.869424\"/>\n",
       "     <use style=\"fill:#1f77b4;stroke:#333333;\" x=\"226.971018\" xlink:href=\"#mf601e5f0ba\" y=\"88.154106\"/>\n",
       "     <use style=\"fill:#1f77b4;stroke:#333333;\" x=\"94.916859\" xlink:href=\"#mf601e5f0ba\" y=\"195.521558\"/>\n",
       "     <use style=\"fill:#1f77b4;stroke:#333333;\" x=\"106.991269\" xlink:href=\"#mf601e5f0ba\" y=\"186.850471\"/>\n",
       "     <use style=\"fill:#1f77b4;stroke:#333333;\" x=\"108.567957\" xlink:href=\"#mf601e5f0ba\" y=\"194.117803\"/>\n",
       "     <use style=\"fill:#1f77b4;stroke:#333333;\" x=\"239.227411\" xlink:href=\"#mf601e5f0ba\" y=\"37.590473\"/>\n",
       "     <use style=\"fill:#1f77b4;stroke:#333333;\" x=\"238.317384\" xlink:href=\"#mf601e5f0ba\" y=\"35.754283\"/>\n",
       "     <use style=\"fill:#1f77b4;stroke:#333333;\" x=\"96.994499\" xlink:href=\"#mf601e5f0ba\" y=\"208.108344\"/>\n",
       "     <use style=\"fill:#1f77b4;stroke:#333333;\" x=\"250.032038\" xlink:href=\"#mf601e5f0ba\" y=\"37.701594\"/>\n",
       "     <use style=\"fill:#1f77b4;stroke:#333333;\" x=\"232.359401\" xlink:href=\"#mf601e5f0ba\" y=\"72.374698\"/>\n",
       "     <use style=\"fill:#1f77b4;stroke:#333333;\" x=\"248.199716\" xlink:href=\"#mf601e5f0ba\" y=\"33.573869\"/>\n",
       "     <use style=\"fill:#1f77b4;stroke:#333333;\" x=\"88.429047\" xlink:href=\"#mf601e5f0ba\" y=\"192.95304\"/>\n",
       "     <use style=\"fill:#1f77b4;stroke:#333333;\" x=\"234.27057\" xlink:href=\"#mf601e5f0ba\" y=\"47.995435\"/>\n",
       "     <use style=\"fill:#1f77b4;stroke:#333333;\" x=\"98.536004\" xlink:href=\"#mf601e5f0ba\" y=\"212.515425\"/>\n",
       "     <use style=\"fill:#1f77b4;stroke:#333333;\" x=\"107.800107\" xlink:href=\"#mf601e5f0ba\" y=\"204.310706\"/>\n",
       "     <use style=\"fill:#1f77b4;stroke:#333333;\" x=\"87.726796\" xlink:href=\"#mf601e5f0ba\" y=\"191.216589\"/>\n",
       "     <use style=\"fill:#1f77b4;stroke:#333333;\" x=\"212.816998\" xlink:href=\"#mf601e5f0ba\" y=\"53.841351\"/>\n",
       "     <use style=\"fill:#1f77b4;stroke:#333333;\" x=\"225.168168\" xlink:href=\"#mf601e5f0ba\" y=\"47.841136\"/>\n",
       "     <use style=\"fill:#1f77b4;stroke:#333333;\" x=\"202.642744\" xlink:href=\"#mf601e5f0ba\" y=\"44.693113\"/>\n",
       "     <use style=\"fill:#1f77b4;stroke:#333333;\" x=\"86.981531\" xlink:href=\"#mf601e5f0ba\" y=\"191.534849\"/>\n",
       "     <use style=\"fill:#1f77b4;stroke:#333333;\" x=\"116.687423\" xlink:href=\"#mf601e5f0ba\" y=\"206.975146\"/>\n",
       "     <use style=\"fill:#1f77b4;stroke:#333333;\" x=\"91.776781\" xlink:href=\"#mf601e5f0ba\" y=\"209.817871\"/>\n",
       "     <use style=\"fill:#1f77b4;stroke:#333333;\" x=\"225.892096\" xlink:href=\"#mf601e5f0ba\" y=\"90.705434\"/>\n",
       "     <use style=\"fill:#1f77b4;stroke:#333333;\" x=\"102.087238\" xlink:href=\"#mf601e5f0ba\" y=\"195.303274\"/>\n",
       "     <use style=\"fill:#1f77b4;stroke:#333333;\" x=\"94.905243\" xlink:href=\"#mf601e5f0ba\" y=\"189.148117\"/>\n",
       "     <use style=\"fill:#1f77b4;stroke:#333333;\" x=\"89.515988\" xlink:href=\"#mf601e5f0ba\" y=\"200.223394\"/>\n",
       "     <use style=\"fill:#1f77b4;stroke:#333333;\" x=\"99.167164\" xlink:href=\"#mf601e5f0ba\" y=\"208.206126\"/>\n",
       "     <use style=\"fill:#1f77b4;stroke:#333333;\" x=\"211.577945\" xlink:href=\"#mf601e5f0ba\" y=\"57.867977\"/>\n",
       "     <use style=\"fill:#1f77b4;stroke:#333333;\" x=\"220.751413\" xlink:href=\"#mf601e5f0ba\" y=\"41.469595\"/>\n",
       "     <use style=\"fill:#1f77b4;stroke:#333333;\" x=\"72.137778\" xlink:href=\"#mf601e5f0ba\" y=\"214.445482\"/>\n",
       "     <use style=\"fill:#1f77b4;stroke:#333333;\" x=\"235.916363\" xlink:href=\"#mf601e5f0ba\" y=\"80.464924\"/>\n",
       "    </g>\n",
       "   </g>\n",
       "   <g id=\"PathCollection_2\">\n",
       "    <defs>\n",
       "     <path d=\"M 0 3 \n",
       "C 0.795609 3 1.55874 2.683901 2.12132 2.12132 \n",
       "C 2.683901 1.55874 3 0.795609 3 0 \n",
       "C 3 -0.795609 2.683901 -1.55874 2.12132 -2.12132 \n",
       "C 1.55874 -2.683901 0.795609 -3 0 -3 \n",
       "C -0.795609 -3 -1.55874 -2.683901 -2.12132 -2.12132 \n",
       "C -2.683901 -1.55874 -3 -0.795609 -3 0 \n",
       "C -3 0.795609 -2.683901 1.55874 -2.12132 2.12132 \n",
       "C -1.55874 2.683901 -0.795609 3 0 3 \n",
       "z\n",
       "\" id=\"mb53517fe52\" style=\"stroke:#333333;\"/>\n",
       "    </defs>\n",
       "    <g clip-path=\"url(#p3d76b58e92)\">\n",
       "     <use style=\"fill:#ff7f0e;stroke:#333333;\" x=\"230.877063\" xlink:href=\"#mb53517fe52\" y=\"180.913557\"/>\n",
       "     <use style=\"fill:#ff7f0e;stroke:#333333;\" x=\"243.842427\" xlink:href=\"#mb53517fe52\" y=\"181.183986\"/>\n",
       "     <use style=\"fill:#ff7f0e;stroke:#333333;\" x=\"232.017097\" xlink:href=\"#mb53517fe52\" y=\"198.932324\"/>\n",
       "     <use style=\"fill:#ff7f0e;stroke:#333333;\" x=\"89.746376\" xlink:href=\"#mb53517fe52\" y=\"45.392998\"/>\n",
       "     <use style=\"fill:#ff7f0e;stroke:#333333;\" x=\"250.686437\" xlink:href=\"#mb53517fe52\" y=\"201.599728\"/>\n",
       "     <use style=\"fill:#ff7f0e;stroke:#333333;\" x=\"100.400405\" xlink:href=\"#mb53517fe52\" y=\"63.553489\"/>\n",
       "     <use style=\"fill:#ff7f0e;stroke:#333333;\" x=\"219.862038\" xlink:href=\"#mb53517fe52\" y=\"211.350014\"/>\n",
       "     <use style=\"fill:#ff7f0e;stroke:#333333;\" x=\"130.59866\" xlink:href=\"#mb53517fe52\" y=\"59.599027\"/>\n",
       "     <use style=\"fill:#ff7f0e;stroke:#333333;\" x=\"247.536058\" xlink:href=\"#mb53517fe52\" y=\"217.196966\"/>\n",
       "     <use style=\"fill:#ff7f0e;stroke:#333333;\" x=\"214.797166\" xlink:href=\"#mb53517fe52\" y=\"185.557909\"/>\n",
       "     <use style=\"fill:#ff7f0e;stroke:#333333;\" x=\"229.906907\" xlink:href=\"#mb53517fe52\" y=\"173.017888\"/>\n",
       "     <use style=\"fill:#ff7f0e;stroke:#333333;\" x=\"65.731142\" xlink:href=\"#mb53517fe52\" y=\"44.566804\"/>\n",
       "     <use style=\"fill:#ff7f0e;stroke:#333333;\" x=\"116.585574\" xlink:href=\"#mb53517fe52\" y=\"45.533014\"/>\n",
       "     <use style=\"fill:#ff7f0e;stroke:#333333;\" x=\"96.4775\" xlink:href=\"#mb53517fe52\" y=\"76.495825\"/>\n",
       "     <use style=\"fill:#ff7f0e;stroke:#333333;\" x=\"96.788387\" xlink:href=\"#mb53517fe52\" y=\"42.091466\"/>\n",
       "     <use style=\"fill:#ff7f0e;stroke:#333333;\" x=\"75.708547\" xlink:href=\"#mb53517fe52\" y=\"39.030573\"/>\n",
       "     <use style=\"fill:#ff7f0e;stroke:#333333;\" x=\"233.922057\" xlink:href=\"#mb53517fe52\" y=\"201.757218\"/>\n",
       "     <use style=\"fill:#ff7f0e;stroke:#333333;\" x=\"216.28277\" xlink:href=\"#mb53517fe52\" y=\"180.766731\"/>\n",
       "     <use style=\"fill:#ff7f0e;stroke:#333333;\" x=\"225.945553\" xlink:href=\"#mb53517fe52\" y=\"182.832732\"/>\n",
       "     <use style=\"fill:#ff7f0e;stroke:#333333;\" x=\"107.888844\" xlink:href=\"#mb53517fe52\" y=\"59.25904\"/>\n",
       "     <use style=\"fill:#ff7f0e;stroke:#333333;\" x=\"212.266314\" xlink:href=\"#mb53517fe52\" y=\"192.147409\"/>\n",
       "     <use style=\"fill:#ff7f0e;stroke:#333333;\" x=\"257.089413\" xlink:href=\"#mb53517fe52\" y=\"200.542537\"/>\n",
       "     <use style=\"fill:#ff7f0e;stroke:#333333;\" x=\"248.528097\" xlink:href=\"#mb53517fe52\" y=\"198.107913\"/>\n",
       "     <use style=\"fill:#ff7f0e;stroke:#333333;\" x=\"223.275659\" xlink:href=\"#mb53517fe52\" y=\"202.11576\"/>\n",
       "     <use style=\"fill:#ff7f0e;stroke:#333333;\" x=\"254.62465\" xlink:href=\"#mb53517fe52\" y=\"176.456154\"/>\n",
       "     <use style=\"fill:#ff7f0e;stroke:#333333;\" x=\"83.200733\" xlink:href=\"#mb53517fe52\" y=\"70.175377\"/>\n",
       "     <use style=\"fill:#ff7f0e;stroke:#333333;\" x=\"251.724096\" xlink:href=\"#mb53517fe52\" y=\"179.390064\"/>\n",
       "     <use style=\"fill:#ff7f0e;stroke:#333333;\" x=\"110.819287\" xlink:href=\"#mb53517fe52\" y=\"55.123203\"/>\n",
       "     <use style=\"fill:#ff7f0e;stroke:#333333;\" x=\"232.126351\" xlink:href=\"#mb53517fe52\" y=\"178.669064\"/>\n",
       "     <use style=\"fill:#ff7f0e;stroke:#333333;\" x=\"68.497902\" xlink:href=\"#mb53517fe52\" y=\"56.973626\"/>\n",
       "     <use style=\"fill:#ff7f0e;stroke:#333333;\" x=\"95.226666\" xlink:href=\"#mb53517fe52\" y=\"66.120244\"/>\n",
       "     <use style=\"fill:#ff7f0e;stroke:#333333;\" x=\"223.392974\" xlink:href=\"#mb53517fe52\" y=\"208.672634\"/>\n",
       "     <use style=\"fill:#ff7f0e;stroke:#333333;\" x=\"214.945261\" xlink:href=\"#mb53517fe52\" y=\"183.133722\"/>\n",
       "     <use style=\"fill:#ff7f0e;stroke:#333333;\" x=\"100.205618\" xlink:href=\"#mb53517fe52\" y=\"60.661631\"/>\n",
       "     <use style=\"fill:#ff7f0e;stroke:#333333;\" x=\"244.127174\" xlink:href=\"#mb53517fe52\" y=\"183.85959\"/>\n",
       "     <use style=\"fill:#ff7f0e;stroke:#333333;\" x=\"100.782099\" xlink:href=\"#mb53517fe52\" y=\"68.534007\"/>\n",
       "     <use style=\"fill:#ff7f0e;stroke:#333333;\" x=\"97.685973\" xlink:href=\"#mb53517fe52\" y=\"71.284393\"/>\n",
       "     <use style=\"fill:#ff7f0e;stroke:#333333;\" x=\"261.24119\" xlink:href=\"#mb53517fe52\" y=\"209.357586\"/>\n",
       "     <use style=\"fill:#ff7f0e;stroke:#333333;\" x=\"231.536281\" xlink:href=\"#mb53517fe52\" y=\"180.074569\"/>\n",
       "     <use style=\"fill:#ff7f0e;stroke:#333333;\" x=\"84.432042\" xlink:href=\"#mb53517fe52\" y=\"55.826098\"/>\n",
       "     <use style=\"fill:#ff7f0e;stroke:#333333;\" x=\"114.704427\" xlink:href=\"#mb53517fe52\" y=\"57.881371\"/>\n",
       "     <use style=\"fill:#ff7f0e;stroke:#333333;\" x=\"118.139583\" xlink:href=\"#mb53517fe52\" y=\"40.282525\"/>\n",
       "     <use style=\"fill:#ff7f0e;stroke:#333333;\" x=\"244.331312\" xlink:href=\"#mb53517fe52\" y=\"206.328325\"/>\n",
       "     <use style=\"fill:#ff7f0e;stroke:#333333;\" x=\"84.937455\" xlink:href=\"#mb53517fe52\" y=\"59.985039\"/>\n",
       "     <use style=\"fill:#ff7f0e;stroke:#333333;\" x=\"229.111028\" xlink:href=\"#mb53517fe52\" y=\"185.254639\"/>\n",
       "     <use style=\"fill:#ff7f0e;stroke:#333333;\" x=\"99.865846\" xlink:href=\"#mb53517fe52\" y=\"73.50443\"/>\n",
       "     <use style=\"fill:#ff7f0e;stroke:#333333;\" x=\"107.774522\" xlink:href=\"#mb53517fe52\" y=\"50.128195\"/>\n",
       "     <use style=\"fill:#ff7f0e;stroke:#333333;\" x=\"106.681533\" xlink:href=\"#mb53517fe52\" y=\"53.57626\"/>\n",
       "     <use style=\"fill:#ff7f0e;stroke:#333333;\" x=\"220.300095\" xlink:href=\"#mb53517fe52\" y=\"186.154142\"/>\n",
       "     <use style=\"fill:#ff7f0e;stroke:#333333;\" x=\"84.93114\" xlink:href=\"#mb53517fe52\" y=\"77.508109\"/>\n",
       "     <use style=\"fill:#ff7f0e;stroke:#333333;\" x=\"105.491498\" xlink:href=\"#mb53517fe52\" y=\"48.161599\"/>\n",
       "     <use style=\"fill:#ff7f0e;stroke:#333333;\" x=\"212.017878\" xlink:href=\"#mb53517fe52\" y=\"182.204423\"/>\n",
       "     <use style=\"fill:#ff7f0e;stroke:#333333;\" x=\"238.780524\" xlink:href=\"#mb53517fe52\" y=\"210.592034\"/>\n",
       "     <use style=\"fill:#ff7f0e;stroke:#333333;\" x=\"102.920944\" xlink:href=\"#mb53517fe52\" y=\"48.671279\"/>\n",
       "     <use style=\"fill:#ff7f0e;stroke:#333333;\" x=\"109.227118\" xlink:href=\"#mb53517fe52\" y=\"67.791241\"/>\n",
       "     <use style=\"fill:#ff7f0e;stroke:#333333;\" x=\"218.916511\" xlink:href=\"#mb53517fe52\" y=\"195.110735\"/>\n",
       "     <use style=\"fill:#ff7f0e;stroke:#333333;\" x=\"210.412471\" xlink:href=\"#mb53517fe52\" y=\"197.807546\"/>\n",
       "     <use style=\"fill:#ff7f0e;stroke:#333333;\" x=\"106.409234\" xlink:href=\"#mb53517fe52\" y=\"62.370039\"/>\n",
       "     <use style=\"fill:#ff7f0e;stroke:#333333;\" x=\"62.306392\" xlink:href=\"#mb53517fe52\" y=\"69.539331\"/>\n",
       "     <use style=\"fill:#ff7f0e;stroke:#333333;\" x=\"91.834453\" xlink:href=\"#mb53517fe52\" y=\"77.469177\"/>\n",
       "     <use style=\"fill:#ff7f0e;stroke:#333333;\" x=\"109.483259\" xlink:href=\"#mb53517fe52\" y=\"52.116365\"/>\n",
       "     <use style=\"fill:#ff7f0e;stroke:#333333;\" x=\"87.52736\" xlink:href=\"#mb53517fe52\" y=\"63.223243\"/>\n",
       "     <use style=\"fill:#ff7f0e;stroke:#333333;\" x=\"94.034599\" xlink:href=\"#mb53517fe52\" y=\"55.768785\"/>\n",
       "     <use style=\"fill:#ff7f0e;stroke:#333333;\" x=\"110.113367\" xlink:href=\"#mb53517fe52\" y=\"68.261083\"/>\n",
       "     <use style=\"fill:#ff7f0e;stroke:#333333;\" x=\"257.318305\" xlink:href=\"#mb53517fe52\" y=\"202.317721\"/>\n",
       "     <use style=\"fill:#ff7f0e;stroke:#333333;\" x=\"79.762115\" xlink:href=\"#mb53517fe52\" y=\"39.847979\"/>\n",
       "     <use style=\"fill:#ff7f0e;stroke:#333333;\" x=\"258.048499\" xlink:href=\"#mb53517fe52\" y=\"185.012766\"/>\n",
       "     <use style=\"fill:#ff7f0e;stroke:#333333;\" x=\"244.789162\" xlink:href=\"#mb53517fe52\" y=\"171.865302\"/>\n",
       "     <use style=\"fill:#ff7f0e;stroke:#333333;\" x=\"214.47439\" xlink:href=\"#mb53517fe52\" y=\"211.299351\"/>\n",
       "     <use style=\"fill:#ff7f0e;stroke:#333333;\" x=\"218.387835\" xlink:href=\"#mb53517fe52\" y=\"227.253664\"/>\n",
       "     <use style=\"fill:#ff7f0e;stroke:#333333;\" x=\"98.247032\" xlink:href=\"#mb53517fe52\" y=\"41.347367\"/>\n",
       "     <use style=\"fill:#ff7f0e;stroke:#333333;\" x=\"221.09122\" xlink:href=\"#mb53517fe52\" y=\"178.959826\"/>\n",
       "     <use style=\"fill:#ff7f0e;stroke:#333333;\" x=\"207.783237\" xlink:href=\"#mb53517fe52\" y=\"165.02484\"/>\n",
       "     <use style=\"fill:#ff7f0e;stroke:#333333;\" x=\"84.486389\" xlink:href=\"#mb53517fe52\" y=\"47.120304\"/>\n",
       "     <use style=\"fill:#ff7f0e;stroke:#333333;\" x=\"108.320496\" xlink:href=\"#mb53517fe52\" y=\"59.847104\"/>\n",
       "     <use style=\"fill:#ff7f0e;stroke:#333333;\" x=\"247.02495\" xlink:href=\"#mb53517fe52\" y=\"184.293941\"/>\n",
       "     <use style=\"fill:#ff7f0e;stroke:#333333;\" x=\"92.024123\" xlink:href=\"#mb53517fe52\" y=\"51.399993\"/>\n",
       "     <use style=\"fill:#ff7f0e;stroke:#333333;\" x=\"103.976033\" xlink:href=\"#mb53517fe52\" y=\"61.578541\"/>\n",
       "     <use style=\"fill:#ff7f0e;stroke:#333333;\" x=\"102.375453\" xlink:href=\"#mb53517fe52\" y=\"64.816787\"/>\n",
       "     <use style=\"fill:#ff7f0e;stroke:#333333;\" x=\"230.527021\" xlink:href=\"#mb53517fe52\" y=\"177.171327\"/>\n",
       "     <use style=\"fill:#ff7f0e;stroke:#333333;\" x=\"238.484799\" xlink:href=\"#mb53517fe52\" y=\"167.950176\"/>\n",
       "     <use style=\"fill:#ff7f0e;stroke:#333333;\" x=\"247.340005\" xlink:href=\"#mb53517fe52\" y=\"185.179964\"/>\n",
       "     <use style=\"fill:#ff7f0e;stroke:#333333;\" x=\"134.8086\" xlink:href=\"#mb53517fe52\" y=\"59.304711\"/>\n",
       "     <use style=\"fill:#ff7f0e;stroke:#333333;\" x=\"213.726653\" xlink:href=\"#mb53517fe52\" y=\"213.578161\"/>\n",
       "     <use style=\"fill:#ff7f0e;stroke:#333333;\" x=\"265.215483\" xlink:href=\"#mb53517fe52\" y=\"212.626448\"/>\n",
       "     <use style=\"fill:#ff7f0e;stroke:#333333;\" x=\"226.839442\" xlink:href=\"#mb53517fe52\" y=\"209.593202\"/>\n",
       "     <use style=\"fill:#ff7f0e;stroke:#333333;\" x=\"88.454985\" xlink:href=\"#mb53517fe52\" y=\"69.802283\"/>\n",
       "     <use style=\"fill:#ff7f0e;stroke:#333333;\" x=\"86.200641\" xlink:href=\"#mb53517fe52\" y=\"59.30147\"/>\n",
       "     <use style=\"fill:#ff7f0e;stroke:#333333;\" x=\"249.708568\" xlink:href=\"#mb53517fe52\" y=\"212.467168\"/>\n",
       "     <use style=\"fill:#ff7f0e;stroke:#333333;\" x=\"86.639713\" xlink:href=\"#mb53517fe52\" y=\"66.734504\"/>\n",
       "     <use style=\"fill:#ff7f0e;stroke:#333333;\" x=\"72.549088\" xlink:href=\"#mb53517fe52\" y=\"61.78785\"/>\n",
       "     <use style=\"fill:#ff7f0e;stroke:#333333;\" x=\"116.327234\" xlink:href=\"#mb53517fe52\" y=\"48.616483\"/>\n",
       "     <use style=\"fill:#ff7f0e;stroke:#333333;\" x=\"89.624632\" xlink:href=\"#mb53517fe52\" y=\"51.591563\"/>\n",
       "     <use style=\"fill:#ff7f0e;stroke:#333333;\" x=\"257.369976\" xlink:href=\"#mb53517fe52\" y=\"209.982902\"/>\n",
       "     <use style=\"fill:#ff7f0e;stroke:#333333;\" x=\"209.334228\" xlink:href=\"#mb53517fe52\" y=\"191.955712\"/>\n",
       "     <use style=\"fill:#ff7f0e;stroke:#333333;\" x=\"98.138755\" xlink:href=\"#mb53517fe52\" y=\"44.566278\"/>\n",
       "     <use style=\"fill:#ff7f0e;stroke:#333333;\" x=\"254.619078\" xlink:href=\"#mb53517fe52\" y=\"207.56031\"/>\n",
       "    </g>\n",
       "   </g>\n",
       "   <g id=\"matplotlib.axis_1\">\n",
       "    <g id=\"xtick_1\">\n",
       "     <g id=\"line2d_1\">\n",
       "      <defs>\n",
       "       <path d=\"M 0 0 \n",
       "L 0 3.5 \n",
       "\" id=\"m035fc1ad77\" style=\"stroke:#000000;stroke-width:0.8;\"/>\n",
       "      </defs>\n",
       "      <g>\n",
       "       <use style=\"stroke:#000000;stroke-width:0.8;\" x=\"62.596276\" xlink:href=\"#m035fc1ad77\" y=\"239.758125\"/>\n",
       "      </g>\n",
       "     </g>\n",
       "     <g id=\"text_1\">\n",
       "      <!-- −0.25 -->\n",
       "      <g transform=\"translate(47.27362 254.356562)scale(0.1 -0.1)\">\n",
       "       <defs>\n",
       "        <path d=\"M 678 2272 \n",
       "L 4684 2272 \n",
       "L 4684 1741 \n",
       "L 678 1741 \n",
       "L 678 2272 \n",
       "z\n",
       "\" id=\"DejaVuSans-2212\" transform=\"scale(0.015625)\"/>\n",
       "        <path d=\"M 2034 4250 \n",
       "Q 1547 4250 1301 3770 \n",
       "Q 1056 3291 1056 2328 \n",
       "Q 1056 1369 1301 889 \n",
       "Q 1547 409 2034 409 \n",
       "Q 2525 409 2770 889 \n",
       "Q 3016 1369 3016 2328 \n",
       "Q 3016 3291 2770 3770 \n",
       "Q 2525 4250 2034 4250 \n",
       "z\n",
       "M 2034 4750 \n",
       "Q 2819 4750 3233 4129 \n",
       "Q 3647 3509 3647 2328 \n",
       "Q 3647 1150 3233 529 \n",
       "Q 2819 -91 2034 -91 \n",
       "Q 1250 -91 836 529 \n",
       "Q 422 1150 422 2328 \n",
       "Q 422 3509 836 4129 \n",
       "Q 1250 4750 2034 4750 \n",
       "z\n",
       "\" id=\"DejaVuSans-30\" transform=\"scale(0.015625)\"/>\n",
       "        <path d=\"M 684 794 \n",
       "L 1344 794 \n",
       "L 1344 0 \n",
       "L 684 0 \n",
       "L 684 794 \n",
       "z\n",
       "\" id=\"DejaVuSans-2e\" transform=\"scale(0.015625)\"/>\n",
       "        <path d=\"M 1228 531 \n",
       "L 3431 531 \n",
       "L 3431 0 \n",
       "L 469 0 \n",
       "L 469 531 \n",
       "Q 828 903 1448 1529 \n",
       "Q 2069 2156 2228 2338 \n",
       "Q 2531 2678 2651 2914 \n",
       "Q 2772 3150 2772 3378 \n",
       "Q 2772 3750 2511 3984 \n",
       "Q 2250 4219 1831 4219 \n",
       "Q 1534 4219 1204 4116 \n",
       "Q 875 4013 500 3803 \n",
       "L 500 4441 \n",
       "Q 881 4594 1212 4672 \n",
       "Q 1544 4750 1819 4750 \n",
       "Q 2544 4750 2975 4387 \n",
       "Q 3406 4025 3406 3419 \n",
       "Q 3406 3131 3298 2873 \n",
       "Q 3191 2616 2906 2266 \n",
       "Q 2828 2175 2409 1742 \n",
       "Q 1991 1309 1228 531 \n",
       "z\n",
       "\" id=\"DejaVuSans-32\" transform=\"scale(0.015625)\"/>\n",
       "        <path d=\"M 691 4666 \n",
       "L 3169 4666 \n",
       "L 3169 4134 \n",
       "L 1269 4134 \n",
       "L 1269 2991 \n",
       "Q 1406 3038 1543 3061 \n",
       "Q 1681 3084 1819 3084 \n",
       "Q 2600 3084 3056 2656 \n",
       "Q 3513 2228 3513 1497 \n",
       "Q 3513 744 3044 326 \n",
       "Q 2575 -91 1722 -91 \n",
       "Q 1428 -91 1123 -41 \n",
       "Q 819 9 494 109 \n",
       "L 494 744 \n",
       "Q 775 591 1075 516 \n",
       "Q 1375 441 1709 441 \n",
       "Q 2250 441 2565 725 \n",
       "Q 2881 1009 2881 1497 \n",
       "Q 2881 1984 2565 2268 \n",
       "Q 2250 2553 1709 2553 \n",
       "Q 1456 2553 1204 2497 \n",
       "Q 953 2441 691 2322 \n",
       "L 691 4666 \n",
       "z\n",
       "\" id=\"DejaVuSans-35\" transform=\"scale(0.015625)\"/>\n",
       "       </defs>\n",
       "       <use xlink:href=\"#DejaVuSans-2212\"/>\n",
       "       <use x=\"83.789062\" xlink:href=\"#DejaVuSans-30\"/>\n",
       "       <use x=\"147.412109\" xlink:href=\"#DejaVuSans-2e\"/>\n",
       "       <use x=\"179.199219\" xlink:href=\"#DejaVuSans-32\"/>\n",
       "       <use x=\"242.822266\" xlink:href=\"#DejaVuSans-35\"/>\n",
       "      </g>\n",
       "     </g>\n",
       "    </g>\n",
       "    <g id=\"xtick_2\">\n",
       "     <g id=\"line2d_2\">\n",
       "      <g>\n",
       "       <use style=\"stroke:#000000;stroke-width:0.8;\" x=\"97.272305\" xlink:href=\"#m035fc1ad77\" y=\"239.758125\"/>\n",
       "      </g>\n",
       "     </g>\n",
       "     <g id=\"text_2\">\n",
       "      <!-- 0.00 -->\n",
       "      <g transform=\"translate(86.139492 254.356562)scale(0.1 -0.1)\">\n",
       "       <use xlink:href=\"#DejaVuSans-30\"/>\n",
       "       <use x=\"63.623047\" xlink:href=\"#DejaVuSans-2e\"/>\n",
       "       <use x=\"95.410156\" xlink:href=\"#DejaVuSans-30\"/>\n",
       "       <use x=\"159.033203\" xlink:href=\"#DejaVuSans-30\"/>\n",
       "      </g>\n",
       "     </g>\n",
       "    </g>\n",
       "    <g id=\"xtick_3\">\n",
       "     <g id=\"line2d_3\">\n",
       "      <g>\n",
       "       <use style=\"stroke:#000000;stroke-width:0.8;\" x=\"131.948333\" xlink:href=\"#m035fc1ad77\" y=\"239.758125\"/>\n",
       "      </g>\n",
       "     </g>\n",
       "     <g id=\"text_3\">\n",
       "      <!-- 0.25 -->\n",
       "      <g transform=\"translate(120.81552 254.356562)scale(0.1 -0.1)\">\n",
       "       <use xlink:href=\"#DejaVuSans-30\"/>\n",
       "       <use x=\"63.623047\" xlink:href=\"#DejaVuSans-2e\"/>\n",
       "       <use x=\"95.410156\" xlink:href=\"#DejaVuSans-32\"/>\n",
       "       <use x=\"159.033203\" xlink:href=\"#DejaVuSans-35\"/>\n",
       "      </g>\n",
       "     </g>\n",
       "    </g>\n",
       "    <g id=\"xtick_4\">\n",
       "     <g id=\"line2d_4\">\n",
       "      <g>\n",
       "       <use style=\"stroke:#000000;stroke-width:0.8;\" x=\"166.624361\" xlink:href=\"#m035fc1ad77\" y=\"239.758125\"/>\n",
       "      </g>\n",
       "     </g>\n",
       "     <g id=\"text_4\">\n",
       "      <!-- 0.50 -->\n",
       "      <g transform=\"translate(155.491548 254.356562)scale(0.1 -0.1)\">\n",
       "       <use xlink:href=\"#DejaVuSans-30\"/>\n",
       "       <use x=\"63.623047\" xlink:href=\"#DejaVuSans-2e\"/>\n",
       "       <use x=\"95.410156\" xlink:href=\"#DejaVuSans-35\"/>\n",
       "       <use x=\"159.033203\" xlink:href=\"#DejaVuSans-30\"/>\n",
       "      </g>\n",
       "     </g>\n",
       "    </g>\n",
       "    <g id=\"xtick_5\">\n",
       "     <g id=\"line2d_5\">\n",
       "      <g>\n",
       "       <use style=\"stroke:#000000;stroke-width:0.8;\" x=\"201.300389\" xlink:href=\"#m035fc1ad77\" y=\"239.758125\"/>\n",
       "      </g>\n",
       "     </g>\n",
       "     <g id=\"text_5\">\n",
       "      <!-- 0.75 -->\n",
       "      <g transform=\"translate(190.167577 254.356562)scale(0.1 -0.1)\">\n",
       "       <defs>\n",
       "        <path d=\"M 525 4666 \n",
       "L 3525 4666 \n",
       "L 3525 4397 \n",
       "L 1831 0 \n",
       "L 1172 0 \n",
       "L 2766 4134 \n",
       "L 525 4134 \n",
       "L 525 4666 \n",
       "z\n",
       "\" id=\"DejaVuSans-37\" transform=\"scale(0.015625)\"/>\n",
       "       </defs>\n",
       "       <use xlink:href=\"#DejaVuSans-30\"/>\n",
       "       <use x=\"63.623047\" xlink:href=\"#DejaVuSans-2e\"/>\n",
       "       <use x=\"95.410156\" xlink:href=\"#DejaVuSans-37\"/>\n",
       "       <use x=\"159.033203\" xlink:href=\"#DejaVuSans-35\"/>\n",
       "      </g>\n",
       "     </g>\n",
       "    </g>\n",
       "    <g id=\"xtick_6\">\n",
       "     <g id=\"line2d_6\">\n",
       "      <g>\n",
       "       <use style=\"stroke:#000000;stroke-width:0.8;\" x=\"235.976417\" xlink:href=\"#m035fc1ad77\" y=\"239.758125\"/>\n",
       "      </g>\n",
       "     </g>\n",
       "     <g id=\"text_6\">\n",
       "      <!-- 1.00 -->\n",
       "      <g transform=\"translate(224.843605 254.356562)scale(0.1 -0.1)\">\n",
       "       <defs>\n",
       "        <path d=\"M 794 531 \n",
       "L 1825 531 \n",
       "L 1825 4091 \n",
       "L 703 3866 \n",
       "L 703 4441 \n",
       "L 1819 4666 \n",
       "L 2450 4666 \n",
       "L 2450 531 \n",
       "L 3481 531 \n",
       "L 3481 0 \n",
       "L 794 0 \n",
       "L 794 531 \n",
       "z\n",
       "\" id=\"DejaVuSans-31\" transform=\"scale(0.015625)\"/>\n",
       "       </defs>\n",
       "       <use xlink:href=\"#DejaVuSans-31\"/>\n",
       "       <use x=\"63.623047\" xlink:href=\"#DejaVuSans-2e\"/>\n",
       "       <use x=\"95.410156\" xlink:href=\"#DejaVuSans-30\"/>\n",
       "       <use x=\"159.033203\" xlink:href=\"#DejaVuSans-30\"/>\n",
       "      </g>\n",
       "     </g>\n",
       "    </g>\n",
       "    <g id=\"xtick_7\">\n",
       "     <g id=\"line2d_7\">\n",
       "      <g>\n",
       "       <use style=\"stroke:#000000;stroke-width:0.8;\" x=\"270.652446\" xlink:href=\"#m035fc1ad77\" y=\"239.758125\"/>\n",
       "      </g>\n",
       "     </g>\n",
       "     <g id=\"text_7\">\n",
       "      <!-- 1.25 -->\n",
       "      <g transform=\"translate(259.519633 254.356562)scale(0.1 -0.1)\">\n",
       "       <use xlink:href=\"#DejaVuSans-31\"/>\n",
       "       <use x=\"63.623047\" xlink:href=\"#DejaVuSans-2e\"/>\n",
       "       <use x=\"95.410156\" xlink:href=\"#DejaVuSans-32\"/>\n",
       "       <use x=\"159.033203\" xlink:href=\"#DejaVuSans-35\"/>\n",
       "      </g>\n",
       "     </g>\n",
       "    </g>\n",
       "    <g id=\"text_8\">\n",
       "     <!-- $x_1$ -->\n",
       "     <g transform=\"translate(158.410938 268.034687)scale(0.1 -0.1)\">\n",
       "      <defs>\n",
       "       <path d=\"M 3841 3500 \n",
       "L 2234 1784 \n",
       "L 3219 0 \n",
       "L 2559 0 \n",
       "L 1819 1388 \n",
       "L 531 0 \n",
       "L -166 0 \n",
       "L 1556 1844 \n",
       "L 641 3500 \n",
       "L 1300 3500 \n",
       "L 1972 2234 \n",
       "L 3144 3500 \n",
       "L 3841 3500 \n",
       "z\n",
       "\" id=\"DejaVuSans-Oblique-78\" transform=\"scale(0.015625)\"/>\n",
       "      </defs>\n",
       "      <use transform=\"translate(0 0.3125)\" xlink:href=\"#DejaVuSans-Oblique-78\"/>\n",
       "      <use transform=\"translate(59.179688 -16.09375)scale(0.7)\" xlink:href=\"#DejaVuSans-31\"/>\n",
       "     </g>\n",
       "    </g>\n",
       "   </g>\n",
       "   <g id=\"matplotlib.axis_2\">\n",
       "    <g id=\"ytick_1\">\n",
       "     <g id=\"line2d_8\">\n",
       "      <defs>\n",
       "       <path d=\"M 0 0 \n",
       "L -3.5 0 \n",
       "\" id=\"mc81402511c\" style=\"stroke:#000000;stroke-width:0.8;\"/>\n",
       "      </defs>\n",
       "      <g>\n",
       "       <use style=\"stroke:#000000;stroke-width:0.8;\" x=\"52.160938\" xlink:href=\"#mc81402511c\" y=\"223.94267\"/>\n",
       "      </g>\n",
       "     </g>\n",
       "     <g id=\"text_9\">\n",
       "      <!-- −0.2 -->\n",
       "      <g transform=\"translate(20.878125 227.741889)scale(0.1 -0.1)\">\n",
       "       <use xlink:href=\"#DejaVuSans-2212\"/>\n",
       "       <use x=\"83.789062\" xlink:href=\"#DejaVuSans-30\"/>\n",
       "       <use x=\"147.412109\" xlink:href=\"#DejaVuSans-2e\"/>\n",
       "       <use x=\"179.199219\" xlink:href=\"#DejaVuSans-32\"/>\n",
       "      </g>\n",
       "     </g>\n",
       "    </g>\n",
       "    <g id=\"ytick_2\">\n",
       "     <g id=\"line2d_9\">\n",
       "      <g>\n",
       "       <use style=\"stroke:#000000;stroke-width:0.8;\" x=\"52.160938\" xlink:href=\"#mc81402511c\" y=\"196.335617\"/>\n",
       "      </g>\n",
       "     </g>\n",
       "     <g id=\"text_10\">\n",
       "      <!-- 0.0 -->\n",
       "      <g transform=\"translate(29.257812 200.134836)scale(0.1 -0.1)\">\n",
       "       <use xlink:href=\"#DejaVuSans-30\"/>\n",
       "       <use x=\"63.623047\" xlink:href=\"#DejaVuSans-2e\"/>\n",
       "       <use x=\"95.410156\" xlink:href=\"#DejaVuSans-30\"/>\n",
       "      </g>\n",
       "     </g>\n",
       "    </g>\n",
       "    <g id=\"ytick_3\">\n",
       "     <g id=\"line2d_10\">\n",
       "      <g>\n",
       "       <use style=\"stroke:#000000;stroke-width:0.8;\" x=\"52.160938\" xlink:href=\"#mc81402511c\" y=\"168.728564\"/>\n",
       "      </g>\n",
       "     </g>\n",
       "     <g id=\"text_11\">\n",
       "      <!-- 0.2 -->\n",
       "      <g transform=\"translate(29.257812 172.527783)scale(0.1 -0.1)\">\n",
       "       <use xlink:href=\"#DejaVuSans-30\"/>\n",
       "       <use x=\"63.623047\" xlink:href=\"#DejaVuSans-2e\"/>\n",
       "       <use x=\"95.410156\" xlink:href=\"#DejaVuSans-32\"/>\n",
       "      </g>\n",
       "     </g>\n",
       "    </g>\n",
       "    <g id=\"ytick_4\">\n",
       "     <g id=\"line2d_11\">\n",
       "      <g>\n",
       "       <use style=\"stroke:#000000;stroke-width:0.8;\" x=\"52.160938\" xlink:href=\"#mc81402511c\" y=\"141.12151\"/>\n",
       "      </g>\n",
       "     </g>\n",
       "     <g id=\"text_12\">\n",
       "      <!-- 0.4 -->\n",
       "      <g transform=\"translate(29.257812 144.920729)scale(0.1 -0.1)\">\n",
       "       <defs>\n",
       "        <path d=\"M 2419 4116 \n",
       "L 825 1625 \n",
       "L 2419 1625 \n",
       "L 2419 4116 \n",
       "z\n",
       "M 2253 4666 \n",
       "L 3047 4666 \n",
       "L 3047 1625 \n",
       "L 3713 1625 \n",
       "L 3713 1100 \n",
       "L 3047 1100 \n",
       "L 3047 0 \n",
       "L 2419 0 \n",
       "L 2419 1100 \n",
       "L 313 1100 \n",
       "L 313 1709 \n",
       "L 2253 4666 \n",
       "z\n",
       "\" id=\"DejaVuSans-34\" transform=\"scale(0.015625)\"/>\n",
       "       </defs>\n",
       "       <use xlink:href=\"#DejaVuSans-30\"/>\n",
       "       <use x=\"63.623047\" xlink:href=\"#DejaVuSans-2e\"/>\n",
       "       <use x=\"95.410156\" xlink:href=\"#DejaVuSans-34\"/>\n",
       "      </g>\n",
       "     </g>\n",
       "    </g>\n",
       "    <g id=\"ytick_5\">\n",
       "     <g id=\"line2d_12\">\n",
       "      <g>\n",
       "       <use style=\"stroke:#000000;stroke-width:0.8;\" x=\"52.160938\" xlink:href=\"#mc81402511c\" y=\"113.514457\"/>\n",
       "      </g>\n",
       "     </g>\n",
       "     <g id=\"text_13\">\n",
       "      <!-- 0.6 -->\n",
       "      <g transform=\"translate(29.257812 117.313676)scale(0.1 -0.1)\">\n",
       "       <defs>\n",
       "        <path d=\"M 2113 2584 \n",
       "Q 1688 2584 1439 2293 \n",
       "Q 1191 2003 1191 1497 \n",
       "Q 1191 994 1439 701 \n",
       "Q 1688 409 2113 409 \n",
       "Q 2538 409 2786 701 \n",
       "Q 3034 994 3034 1497 \n",
       "Q 3034 2003 2786 2293 \n",
       "Q 2538 2584 2113 2584 \n",
       "z\n",
       "M 3366 4563 \n",
       "L 3366 3988 \n",
       "Q 3128 4100 2886 4159 \n",
       "Q 2644 4219 2406 4219 \n",
       "Q 1781 4219 1451 3797 \n",
       "Q 1122 3375 1075 2522 \n",
       "Q 1259 2794 1537 2939 \n",
       "Q 1816 3084 2150 3084 \n",
       "Q 2853 3084 3261 2657 \n",
       "Q 3669 2231 3669 1497 \n",
       "Q 3669 778 3244 343 \n",
       "Q 2819 -91 2113 -91 \n",
       "Q 1303 -91 875 529 \n",
       "Q 447 1150 447 2328 \n",
       "Q 447 3434 972 4092 \n",
       "Q 1497 4750 2381 4750 \n",
       "Q 2619 4750 2861 4703 \n",
       "Q 3103 4656 3366 4563 \n",
       "z\n",
       "\" id=\"DejaVuSans-36\" transform=\"scale(0.015625)\"/>\n",
       "       </defs>\n",
       "       <use xlink:href=\"#DejaVuSans-30\"/>\n",
       "       <use x=\"63.623047\" xlink:href=\"#DejaVuSans-2e\"/>\n",
       "       <use x=\"95.410156\" xlink:href=\"#DejaVuSans-36\"/>\n",
       "      </g>\n",
       "     </g>\n",
       "    </g>\n",
       "    <g id=\"ytick_6\">\n",
       "     <g id=\"line2d_13\">\n",
       "      <g>\n",
       "       <use style=\"stroke:#000000;stroke-width:0.8;\" x=\"52.160938\" xlink:href=\"#mc81402511c\" y=\"85.907404\"/>\n",
       "      </g>\n",
       "     </g>\n",
       "     <g id=\"text_14\">\n",
       "      <!-- 0.8 -->\n",
       "      <g transform=\"translate(29.257812 89.706623)scale(0.1 -0.1)\">\n",
       "       <defs>\n",
       "        <path d=\"M 2034 2216 \n",
       "Q 1584 2216 1326 1975 \n",
       "Q 1069 1734 1069 1313 \n",
       "Q 1069 891 1326 650 \n",
       "Q 1584 409 2034 409 \n",
       "Q 2484 409 2743 651 \n",
       "Q 3003 894 3003 1313 \n",
       "Q 3003 1734 2745 1975 \n",
       "Q 2488 2216 2034 2216 \n",
       "z\n",
       "M 1403 2484 \n",
       "Q 997 2584 770 2862 \n",
       "Q 544 3141 544 3541 \n",
       "Q 544 4100 942 4425 \n",
       "Q 1341 4750 2034 4750 \n",
       "Q 2731 4750 3128 4425 \n",
       "Q 3525 4100 3525 3541 \n",
       "Q 3525 3141 3298 2862 \n",
       "Q 3072 2584 2669 2484 \n",
       "Q 3125 2378 3379 2068 \n",
       "Q 3634 1759 3634 1313 \n",
       "Q 3634 634 3220 271 \n",
       "Q 2806 -91 2034 -91 \n",
       "Q 1263 -91 848 271 \n",
       "Q 434 634 434 1313 \n",
       "Q 434 1759 690 2068 \n",
       "Q 947 2378 1403 2484 \n",
       "z\n",
       "M 1172 3481 \n",
       "Q 1172 3119 1398 2916 \n",
       "Q 1625 2713 2034 2713 \n",
       "Q 2441 2713 2670 2916 \n",
       "Q 2900 3119 2900 3481 \n",
       "Q 2900 3844 2670 4047 \n",
       "Q 2441 4250 2034 4250 \n",
       "Q 1625 4250 1398 4047 \n",
       "Q 1172 3844 1172 3481 \n",
       "z\n",
       "\" id=\"DejaVuSans-38\" transform=\"scale(0.015625)\"/>\n",
       "       </defs>\n",
       "       <use xlink:href=\"#DejaVuSans-30\"/>\n",
       "       <use x=\"63.623047\" xlink:href=\"#DejaVuSans-2e\"/>\n",
       "       <use x=\"95.410156\" xlink:href=\"#DejaVuSans-38\"/>\n",
       "      </g>\n",
       "     </g>\n",
       "    </g>\n",
       "    <g id=\"ytick_7\">\n",
       "     <g id=\"line2d_14\">\n",
       "      <g>\n",
       "       <use style=\"stroke:#000000;stroke-width:0.8;\" x=\"52.160938\" xlink:href=\"#mc81402511c\" y=\"58.300351\"/>\n",
       "      </g>\n",
       "     </g>\n",
       "     <g id=\"text_15\">\n",
       "      <!-- 1.0 -->\n",
       "      <g transform=\"translate(29.257812 62.099569)scale(0.1 -0.1)\">\n",
       "       <use xlink:href=\"#DejaVuSans-31\"/>\n",
       "       <use x=\"63.623047\" xlink:href=\"#DejaVuSans-2e\"/>\n",
       "       <use x=\"95.410156\" xlink:href=\"#DejaVuSans-30\"/>\n",
       "      </g>\n",
       "     </g>\n",
       "    </g>\n",
       "    <g id=\"ytick_8\">\n",
       "     <g id=\"line2d_15\">\n",
       "      <g>\n",
       "       <use style=\"stroke:#000000;stroke-width:0.8;\" x=\"52.160938\" xlink:href=\"#mc81402511c\" y=\"30.693297\"/>\n",
       "      </g>\n",
       "     </g>\n",
       "     <g id=\"text_16\">\n",
       "      <!-- 1.2 -->\n",
       "      <g transform=\"translate(29.257812 34.492516)scale(0.1 -0.1)\">\n",
       "       <use xlink:href=\"#DejaVuSans-31\"/>\n",
       "       <use x=\"63.623047\" xlink:href=\"#DejaVuSans-2e\"/>\n",
       "       <use x=\"95.410156\" xlink:href=\"#DejaVuSans-32\"/>\n",
       "      </g>\n",
       "     </g>\n",
       "    </g>\n",
       "    <g id=\"text_17\">\n",
       "     <!-- $x_2$ -->\n",
       "     <g transform=\"translate(14.798438 136.388125)rotate(-90)scale(0.1 -0.1)\">\n",
       "      <use transform=\"translate(0 0.3125)\" xlink:href=\"#DejaVuSans-Oblique-78\"/>\n",
       "      <use transform=\"translate(59.179688 -16.09375)scale(0.7)\" xlink:href=\"#DejaVuSans-32\"/>\n",
       "     </g>\n",
       "    </g>\n",
       "   </g>\n",
       "   <g id=\"patch_3\">\n",
       "    <path d=\"M 52.160938 239.758125 \n",
       "L 52.160938 22.318125 \n",
       "\" style=\"fill:none;stroke:#000000;stroke-linecap:square;stroke-linejoin:miter;stroke-width:0.8;\"/>\n",
       "   </g>\n",
       "   <g id=\"patch_4\">\n",
       "    <path d=\"M 275.360937 239.758125 \n",
       "L 275.360937 22.318125 \n",
       "\" style=\"fill:none;stroke:#000000;stroke-linecap:square;stroke-linejoin:miter;stroke-width:0.8;\"/>\n",
       "   </g>\n",
       "   <g id=\"patch_5\">\n",
       "    <path d=\"M 52.160937 239.758125 \n",
       "L 275.360937 239.758125 \n",
       "\" style=\"fill:none;stroke:#000000;stroke-linecap:square;stroke-linejoin:miter;stroke-width:0.8;\"/>\n",
       "   </g>\n",
       "   <g id=\"patch_6\">\n",
       "    <path d=\"M 52.160937 22.318125 \n",
       "L 275.360937 22.318125 \n",
       "\" style=\"fill:none;stroke:#000000;stroke-linecap:square;stroke-linejoin:miter;stroke-width:0.8;\"/>\n",
       "   </g>\n",
       "   <g id=\"text_18\">\n",
       "    <!-- Dataset samples -->\n",
       "    <g transform=\"translate(113.418125 16.318125)scale(0.12 -0.12)\">\n",
       "     <defs>\n",
       "      <path d=\"M 1259 4147 \n",
       "L 1259 519 \n",
       "L 2022 519 \n",
       "Q 2988 519 3436 956 \n",
       "Q 3884 1394 3884 2338 \n",
       "Q 3884 3275 3436 3711 \n",
       "Q 2988 4147 2022 4147 \n",
       "L 1259 4147 \n",
       "z\n",
       "M 628 4666 \n",
       "L 1925 4666 \n",
       "Q 3281 4666 3915 4102 \n",
       "Q 4550 3538 4550 2338 \n",
       "Q 4550 1131 3912 565 \n",
       "Q 3275 0 1925 0 \n",
       "L 628 0 \n",
       "L 628 4666 \n",
       "z\n",
       "\" id=\"DejaVuSans-44\" transform=\"scale(0.015625)\"/>\n",
       "      <path d=\"M 2194 1759 \n",
       "Q 1497 1759 1228 1600 \n",
       "Q 959 1441 959 1056 \n",
       "Q 959 750 1161 570 \n",
       "Q 1363 391 1709 391 \n",
       "Q 2188 391 2477 730 \n",
       "Q 2766 1069 2766 1631 \n",
       "L 2766 1759 \n",
       "L 2194 1759 \n",
       "z\n",
       "M 3341 1997 \n",
       "L 3341 0 \n",
       "L 2766 0 \n",
       "L 2766 531 \n",
       "Q 2569 213 2275 61 \n",
       "Q 1981 -91 1556 -91 \n",
       "Q 1019 -91 701 211 \n",
       "Q 384 513 384 1019 \n",
       "Q 384 1609 779 1909 \n",
       "Q 1175 2209 1959 2209 \n",
       "L 2766 2209 \n",
       "L 2766 2266 \n",
       "Q 2766 2663 2505 2880 \n",
       "Q 2244 3097 1772 3097 \n",
       "Q 1472 3097 1187 3025 \n",
       "Q 903 2953 641 2809 \n",
       "L 641 3341 \n",
       "Q 956 3463 1253 3523 \n",
       "Q 1550 3584 1831 3584 \n",
       "Q 2591 3584 2966 3190 \n",
       "Q 3341 2797 3341 1997 \n",
       "z\n",
       "\" id=\"DejaVuSans-61\" transform=\"scale(0.015625)\"/>\n",
       "      <path d=\"M 1172 4494 \n",
       "L 1172 3500 \n",
       "L 2356 3500 \n",
       "L 2356 3053 \n",
       "L 1172 3053 \n",
       "L 1172 1153 \n",
       "Q 1172 725 1289 603 \n",
       "Q 1406 481 1766 481 \n",
       "L 2356 481 \n",
       "L 2356 0 \n",
       "L 1766 0 \n",
       "Q 1100 0 847 248 \n",
       "Q 594 497 594 1153 \n",
       "L 594 3053 \n",
       "L 172 3053 \n",
       "L 172 3500 \n",
       "L 594 3500 \n",
       "L 594 4494 \n",
       "L 1172 4494 \n",
       "z\n",
       "\" id=\"DejaVuSans-74\" transform=\"scale(0.015625)\"/>\n",
       "      <path d=\"M 2834 3397 \n",
       "L 2834 2853 \n",
       "Q 2591 2978 2328 3040 \n",
       "Q 2066 3103 1784 3103 \n",
       "Q 1356 3103 1142 2972 \n",
       "Q 928 2841 928 2578 \n",
       "Q 928 2378 1081 2264 \n",
       "Q 1234 2150 1697 2047 \n",
       "L 1894 2003 \n",
       "Q 2506 1872 2764 1633 \n",
       "Q 3022 1394 3022 966 \n",
       "Q 3022 478 2636 193 \n",
       "Q 2250 -91 1575 -91 \n",
       "Q 1294 -91 989 -36 \n",
       "Q 684 19 347 128 \n",
       "L 347 722 \n",
       "Q 666 556 975 473 \n",
       "Q 1284 391 1588 391 \n",
       "Q 1994 391 2212 530 \n",
       "Q 2431 669 2431 922 \n",
       "Q 2431 1156 2273 1281 \n",
       "Q 2116 1406 1581 1522 \n",
       "L 1381 1569 \n",
       "Q 847 1681 609 1914 \n",
       "Q 372 2147 372 2553 \n",
       "Q 372 3047 722 3315 \n",
       "Q 1072 3584 1716 3584 \n",
       "Q 2034 3584 2315 3537 \n",
       "Q 2597 3491 2834 3397 \n",
       "z\n",
       "\" id=\"DejaVuSans-73\" transform=\"scale(0.015625)\"/>\n",
       "      <path d=\"M 3597 1894 \n",
       "L 3597 1613 \n",
       "L 953 1613 \n",
       "Q 991 1019 1311 708 \n",
       "Q 1631 397 2203 397 \n",
       "Q 2534 397 2845 478 \n",
       "Q 3156 559 3463 722 \n",
       "L 3463 178 \n",
       "Q 3153 47 2828 -22 \n",
       "Q 2503 -91 2169 -91 \n",
       "Q 1331 -91 842 396 \n",
       "Q 353 884 353 1716 \n",
       "Q 353 2575 817 3079 \n",
       "Q 1281 3584 2069 3584 \n",
       "Q 2775 3584 3186 3129 \n",
       "Q 3597 2675 3597 1894 \n",
       "z\n",
       "M 3022 2063 \n",
       "Q 3016 2534 2758 2815 \n",
       "Q 2500 3097 2075 3097 \n",
       "Q 1594 3097 1305 2825 \n",
       "Q 1016 2553 972 2059 \n",
       "L 3022 2063 \n",
       "z\n",
       "\" id=\"DejaVuSans-65\" transform=\"scale(0.015625)\"/>\n",
       "      <path id=\"DejaVuSans-20\" transform=\"scale(0.015625)\"/>\n",
       "      <path d=\"M 3328 2828 \n",
       "Q 3544 3216 3844 3400 \n",
       "Q 4144 3584 4550 3584 \n",
       "Q 5097 3584 5394 3201 \n",
       "Q 5691 2819 5691 2113 \n",
       "L 5691 0 \n",
       "L 5113 0 \n",
       "L 5113 2094 \n",
       "Q 5113 2597 4934 2840 \n",
       "Q 4756 3084 4391 3084 \n",
       "Q 3944 3084 3684 2787 \n",
       "Q 3425 2491 3425 1978 \n",
       "L 3425 0 \n",
       "L 2847 0 \n",
       "L 2847 2094 \n",
       "Q 2847 2600 2669 2842 \n",
       "Q 2491 3084 2119 3084 \n",
       "Q 1678 3084 1418 2786 \n",
       "Q 1159 2488 1159 1978 \n",
       "L 1159 0 \n",
       "L 581 0 \n",
       "L 581 3500 \n",
       "L 1159 3500 \n",
       "L 1159 2956 \n",
       "Q 1356 3278 1631 3431 \n",
       "Q 1906 3584 2284 3584 \n",
       "Q 2666 3584 2933 3390 \n",
       "Q 3200 3197 3328 2828 \n",
       "z\n",
       "\" id=\"DejaVuSans-6d\" transform=\"scale(0.015625)\"/>\n",
       "      <path d=\"M 1159 525 \n",
       "L 1159 -1331 \n",
       "L 581 -1331 \n",
       "L 581 3500 \n",
       "L 1159 3500 \n",
       "L 1159 2969 \n",
       "Q 1341 3281 1617 3432 \n",
       "Q 1894 3584 2278 3584 \n",
       "Q 2916 3584 3314 3078 \n",
       "Q 3713 2572 3713 1747 \n",
       "Q 3713 922 3314 415 \n",
       "Q 2916 -91 2278 -91 \n",
       "Q 1894 -91 1617 61 \n",
       "Q 1341 213 1159 525 \n",
       "z\n",
       "M 3116 1747 \n",
       "Q 3116 2381 2855 2742 \n",
       "Q 2594 3103 2138 3103 \n",
       "Q 1681 3103 1420 2742 \n",
       "Q 1159 2381 1159 1747 \n",
       "Q 1159 1113 1420 752 \n",
       "Q 1681 391 2138 391 \n",
       "Q 2594 391 2855 752 \n",
       "Q 3116 1113 3116 1747 \n",
       "z\n",
       "\" id=\"DejaVuSans-70\" transform=\"scale(0.015625)\"/>\n",
       "      <path d=\"M 603 4863 \n",
       "L 1178 4863 \n",
       "L 1178 0 \n",
       "L 603 0 \n",
       "L 603 4863 \n",
       "z\n",
       "\" id=\"DejaVuSans-6c\" transform=\"scale(0.015625)\"/>\n",
       "     </defs>\n",
       "     <use xlink:href=\"#DejaVuSans-44\"/>\n",
       "     <use x=\"77.001953\" xlink:href=\"#DejaVuSans-61\"/>\n",
       "     <use x=\"138.28125\" xlink:href=\"#DejaVuSans-74\"/>\n",
       "     <use x=\"177.490234\" xlink:href=\"#DejaVuSans-61\"/>\n",
       "     <use x=\"238.769531\" xlink:href=\"#DejaVuSans-73\"/>\n",
       "     <use x=\"290.869141\" xlink:href=\"#DejaVuSans-65\"/>\n",
       "     <use x=\"352.392578\" xlink:href=\"#DejaVuSans-74\"/>\n",
       "     <use x=\"391.601562\" xlink:href=\"#DejaVuSans-20\"/>\n",
       "     <use x=\"423.388672\" xlink:href=\"#DejaVuSans-73\"/>\n",
       "     <use x=\"475.488281\" xlink:href=\"#DejaVuSans-61\"/>\n",
       "     <use x=\"536.767578\" xlink:href=\"#DejaVuSans-6d\"/>\n",
       "     <use x=\"634.179688\" xlink:href=\"#DejaVuSans-70\"/>\n",
       "     <use x=\"697.65625\" xlink:href=\"#DejaVuSans-6c\"/>\n",
       "     <use x=\"725.439453\" xlink:href=\"#DejaVuSans-65\"/>\n",
       "     <use x=\"786.962891\" xlink:href=\"#DejaVuSans-73\"/>\n",
       "    </g>\n",
       "   </g>\n",
       "   <g id=\"legend_1\">\n",
       "    <g id=\"patch_7\">\n",
       "     <path d=\"M 200.5125 147.21625 \n",
       "L 268.360937 147.21625 \n",
       "Q 270.360937 147.21625 270.360937 145.21625 \n",
       "L 270.360937 116.86 \n",
       "Q 270.360937 114.86 268.360937 114.86 \n",
       "L 200.5125 114.86 \n",
       "Q 198.5125 114.86 198.5125 116.86 \n",
       "L 198.5125 145.21625 \n",
       "Q 198.5125 147.21625 200.5125 147.21625 \n",
       "z\n",
       "\" style=\"fill:#ffffff;opacity:0.8;stroke:#cccccc;stroke-linejoin:miter;\"/>\n",
       "    </g>\n",
       "    <g id=\"PathCollection_3\">\n",
       "     <g>\n",
       "      <use style=\"fill:#1f77b4;stroke:#333333;\" x=\"212.5125\" xlink:href=\"#mf601e5f0ba\" y=\"123.833437\"/>\n",
       "     </g>\n",
       "    </g>\n",
       "    <g id=\"text_19\">\n",
       "     <!-- Class 0 -->\n",
       "     <g transform=\"translate(230.5125 126.458437)scale(0.1 -0.1)\">\n",
       "      <defs>\n",
       "       <path d=\"M 4122 4306 \n",
       "L 4122 3641 \n",
       "Q 3803 3938 3442 4084 \n",
       "Q 3081 4231 2675 4231 \n",
       "Q 1875 4231 1450 3742 \n",
       "Q 1025 3253 1025 2328 \n",
       "Q 1025 1406 1450 917 \n",
       "Q 1875 428 2675 428 \n",
       "Q 3081 428 3442 575 \n",
       "Q 3803 722 4122 1019 \n",
       "L 4122 359 \n",
       "Q 3791 134 3420 21 \n",
       "Q 3050 -91 2638 -91 \n",
       "Q 1578 -91 968 557 \n",
       "Q 359 1206 359 2328 \n",
       "Q 359 3453 968 4101 \n",
       "Q 1578 4750 2638 4750 \n",
       "Q 3056 4750 3426 4639 \n",
       "Q 3797 4528 4122 4306 \n",
       "z\n",
       "\" id=\"DejaVuSans-43\" transform=\"scale(0.015625)\"/>\n",
       "      </defs>\n",
       "      <use xlink:href=\"#DejaVuSans-43\"/>\n",
       "      <use x=\"69.824219\" xlink:href=\"#DejaVuSans-6c\"/>\n",
       "      <use x=\"97.607422\" xlink:href=\"#DejaVuSans-61\"/>\n",
       "      <use x=\"158.886719\" xlink:href=\"#DejaVuSans-73\"/>\n",
       "      <use x=\"210.986328\" xlink:href=\"#DejaVuSans-73\"/>\n",
       "      <use x=\"263.085938\" xlink:href=\"#DejaVuSans-20\"/>\n",
       "      <use x=\"294.873047\" xlink:href=\"#DejaVuSans-30\"/>\n",
       "     </g>\n",
       "    </g>\n",
       "    <g id=\"PathCollection_4\">\n",
       "     <g>\n",
       "      <use style=\"fill:#ff7f0e;stroke:#333333;\" x=\"212.5125\" xlink:href=\"#mb53517fe52\" y=\"138.511562\"/>\n",
       "     </g>\n",
       "    </g>\n",
       "    <g id=\"text_20\">\n",
       "     <!-- Class 1 -->\n",
       "     <g transform=\"translate(230.5125 141.136562)scale(0.1 -0.1)\">\n",
       "      <use xlink:href=\"#DejaVuSans-43\"/>\n",
       "      <use x=\"69.824219\" xlink:href=\"#DejaVuSans-6c\"/>\n",
       "      <use x=\"97.607422\" xlink:href=\"#DejaVuSans-61\"/>\n",
       "      <use x=\"158.886719\" xlink:href=\"#DejaVuSans-73\"/>\n",
       "      <use x=\"210.986328\" xlink:href=\"#DejaVuSans-73\"/>\n",
       "      <use x=\"263.085938\" xlink:href=\"#DejaVuSans-20\"/>\n",
       "      <use x=\"294.873047\" xlink:href=\"#DejaVuSans-31\"/>\n",
       "     </g>\n",
       "    </g>\n",
       "   </g>\n",
       "  </g>\n",
       " </g>\n",
       " <defs>\n",
       "  <clipPath id=\"p3d76b58e92\">\n",
       "   <rect height=\"217.44\" width=\"223.2\" x=\"52.160938\" y=\"22.318125\"/>\n",
       "  </clipPath>\n",
       " </defs>\n",
       "</svg>\n"
      ],
      "text/plain": [
       "<Figure size 288x288 with 1 Axes>"
      ]
     },
     "metadata": {
      "needs_background": "light"
     },
     "output_type": "display_data"
    }
   ],
   "source": [
    "visualize_samples(dataset.data, dataset.label)\n",
    "plt.show()"
   ]
  },
  {
   "cell_type": "markdown",
   "id": "fe0fb97e",
   "metadata": {
    "papermill": {
     "duration": 0.238855,
     "end_time": "2021-11-01T12:54:05.418065",
     "exception": false,
     "start_time": "2021-11-01T12:54:05.179210",
     "status": "completed"
    },
    "tags": []
   },
   "source": [
    "#### The data loader class\n",
    "\n",
    "The class `torch.utils.data.DataLoader` represents a Python iterable over a dataset with support for automatic batching, multi-process data loading and many more features.\n",
    "The data loader communicates with the dataset using the function `__getitem__`, and stacks its outputs as tensors over the first dimension to form a batch.\n",
    "In contrast to the dataset class, we usually don't have to define our own data loader class, but can just create an object of it with the dataset as input.\n",
    "Additionally, we can configure our data loader with the following input arguments (only a selection, see full list [here](https://pytorch.org/docs/stable/data.html#torch.utils.data.DataLoader)):\n",
    "\n",
    "* `batch_size`: Number of samples to stack per batch\n",
    "* `shuffle`: If True, the data is returned in a random order.\n",
    "This is important during training for introducing stochasticity.\n",
    "* `num_workers`: Number of subprocesses to use for data loading.\n",
    "The default, 0, means that the data will be loaded in the main process which can slow down training for datasets where loading a data point takes a considerable amount of time (e.g. large images).\n",
    "More workers are recommended for those, but can cause issues on Windows computers.\n",
    "For tiny datasets as ours, 0 workers are usually faster.\n",
    "* `pin_memory`: If True, the data loader will copy Tensors into CUDA pinned memory before returning them.\n",
    "This can save some time for large data points on GPUs.\n",
    "Usually a good practice to use for a training set, but not necessarily for validation and test to save memory on the GPU.\n",
    "* `drop_last`: If True, the last batch is dropped in case it is smaller than the specified batch size.\n",
    "This occurs when the dataset size is not a multiple of the batch size.\n",
    "Only potentially helpful during training to keep a consistent batch size.\n",
    "\n",
    "Let's create a simple data loader below:"
   ]
  },
  {
   "cell_type": "code",
   "execution_count": 43,
   "id": "97b6129f",
   "metadata": {
    "execution": {
     "iopub.execute_input": "2021-11-01T12:54:05.929389Z",
     "iopub.status.busy": "2021-11-01T12:54:05.928915Z",
     "iopub.status.idle": "2021-11-01T12:54:05.930871Z",
     "shell.execute_reply": "2021-11-01T12:54:05.930465Z"
    },
    "papermill": {
     "duration": 0.256206,
     "end_time": "2021-11-01T12:54:05.930975",
     "exception": false,
     "start_time": "2021-11-01T12:54:05.674769",
     "status": "completed"
    },
    "tags": []
   },
   "outputs": [],
   "source": [
    "data_loader = data.DataLoader(dataset, batch_size=8, shuffle=True)"
   ]
  },
  {
   "cell_type": "code",
   "execution_count": 44,
   "id": "80626e43",
   "metadata": {
    "execution": {
     "iopub.execute_input": "2021-11-01T12:54:06.367749Z",
     "iopub.status.busy": "2021-11-01T12:54:06.367278Z",
     "iopub.status.idle": "2021-11-01T12:54:06.372106Z",
     "shell.execute_reply": "2021-11-01T12:54:06.371708Z"
    },
    "papermill": {
     "duration": 0.224085,
     "end_time": "2021-11-01T12:54:06.372207",
     "exception": false,
     "start_time": "2021-11-01T12:54:06.148122",
     "status": "completed"
    },
    "tags": []
   },
   "outputs": [
    {
     "name": "stdout",
     "output_type": "stream",
     "text": [
      "Data inputs torch.Size([8, 2]) \n",
      " tensor([[ 1.2108, -0.1180],\n",
      "        [-0.1895,  0.0415],\n",
      "        [ 1.1542, -0.0989],\n",
      "        [ 1.1135,  0.1228],\n",
      "        [-0.0280,  0.0046],\n",
      "        [-0.0378,  1.0500],\n",
      "        [-0.0636,  0.9167],\n",
      "        [-0.0392,  0.8611]])\n",
      "Data labels torch.Size([8]) \n",
      " tensor([1, 0, 1, 1, 0, 1, 1, 1])\n"
     ]
    }
   ],
   "source": [
    "# next(iter(...)) catches the first batch of the data loader\n",
    "# If shuffle is True, this will return a different batch every time we run this cell\n",
    "# For iterating over the whole dataset, we can simple use \"for batch in data_loader: ...\"\n",
    "data_inputs, data_labels = next(iter(data_loader))\n",
    "\n",
    "# The shape of the outputs are [batch_size, d_1,...,d_N] where d_1,...,d_N are the\n",
    "# dimensions of the data point returned from the dataset class\n",
    "print(\"Data inputs\", data_inputs.shape, \"\\n\", data_inputs)\n",
    "print(\"Data labels\", data_labels.shape, \"\\n\", data_labels)"
   ]
  },
  {
   "cell_type": "markdown",
   "id": "944e9920",
   "metadata": {
    "papermill": {
     "duration": 0.215007,
     "end_time": "2021-11-01T12:54:06.800517",
     "exception": false,
     "start_time": "2021-11-01T12:54:06.585510",
     "status": "completed"
    },
    "tags": []
   },
   "source": [
    "### Optimization\n",
    "\n",
    "After defining the model and the dataset, it is time to prepare the optimization of the model.\n",
    "During training, we will perform the following steps:\n",
    "\n",
    "1. Get a batch from the data loader\n",
    "2. Obtain the predictions from the model for the batch\n",
    "3. Calculate the loss based on the difference between predictions and labels\n",
    "4. Backpropagation: calculate the gradients for every parameter with respect to the loss\n",
    "5. Update the parameters of the model in the direction of the gradients\n",
    "\n",
    "We have seen how we can do step 1, 2 and 4 in PyTorch. Now, we will look at step 3 and 5."
   ]
  },
  {
   "cell_type": "markdown",
   "id": "d84dbd2e",
   "metadata": {
    "papermill": {
     "duration": 0.213947,
     "end_time": "2021-11-01T12:54:07.228021",
     "exception": false,
     "start_time": "2021-11-01T12:54:07.014074",
     "status": "completed"
    },
    "tags": []
   },
   "source": [
    "#### Loss modules\n",
    "\n",
    "We can calculate the loss for a batch by simply performing a few tensor operations as those are automatically added to the computation graph.\n",
    "For instance, for binary classification, we can use Binary Cross Entropy (BCE) which is defined as follows:\n",
    "\n",
    "$$\\mathcal{L}_{BCE} = -\\sum_i \\left[ y_i \\log x_i + (1 - y_i) \\log (1 - x_i) \\right]$$\n",
    "\n",
    "where $y$ are our labels, and $x$ our predictions, both in the range of $[0,1]$.\n",
    "However, PyTorch already provides a list of predefined loss functions which we can use (see [here](https://pytorch.org/docs/stable/nn.html#loss-functions) for a full list).\n",
    "For instance, for BCE, PyTorch has two modules: `nn.BCELoss()`, `nn.BCEWithLogitsLoss()`.\n",
    "While `nn.BCELoss` expects the inputs $x$ to be in the range $[0,1]$, i.e. the output of a sigmoid, `nn.BCEWithLogitsLoss` combines a sigmoid layer and the BCE loss in a single class.\n",
    "This version is numerically more stable than using a plain Sigmoid followed by a BCE loss because of the logarithms applied in the loss function.\n",
    "Hence, it is adviced to use loss functions applied on \"logits\" where possible (remember to not apply a sigmoid on the output of the model in this case!).\n",
    "For our model defined above, we therefore use the module `nn.BCEWithLogitsLoss`."
   ]
  },
  {
   "cell_type": "code",
   "execution_count": 45,
   "id": "fbbff859",
   "metadata": {
    "execution": {
     "iopub.execute_input": "2021-11-01T12:54:07.660918Z",
     "iopub.status.busy": "2021-11-01T12:54:07.660458Z",
     "iopub.status.idle": "2021-11-01T12:54:07.662457Z",
     "shell.execute_reply": "2021-11-01T12:54:07.662043Z"
    },
    "papermill": {
     "duration": 0.220982,
     "end_time": "2021-11-01T12:54:07.662559",
     "exception": false,
     "start_time": "2021-11-01T12:54:07.441577",
     "status": "completed"
    },
    "tags": []
   },
   "outputs": [],
   "source": [
    "loss_module = nn.BCEWithLogitsLoss()"
   ]
  },
  {
   "cell_type": "markdown",
   "id": "8b17d84d",
   "metadata": {
    "papermill": {
     "duration": 0.218427,
     "end_time": "2021-11-01T12:54:08.098042",
     "exception": false,
     "start_time": "2021-11-01T12:54:07.879615",
     "status": "completed"
    },
    "tags": []
   },
   "source": [
    "#### Stochastic Gradient Descent\n",
    "\n",
    "For updating the parameters, PyTorch provides the package `torch.optim` that has most popular optimizers implemented.\n",
    "We will discuss the specific optimizers and their differences later in the course, but will for now use the simplest of them: `torch.optim.SGD`.\n",
    "Stochastic Gradient Descent updates parameters by multiplying the gradients with a small constant, called learning rate, and subtracting those from the parameters (hence minimizing the loss).\n",
    "Therefore, we slowly move towards the direction of minimizing the loss.\n",
    "A good default value of the learning rate for a small network as ours is 0.1."
   ]
  },
  {
   "cell_type": "code",
   "execution_count": 46,
   "id": "a40e6082",
   "metadata": {
    "execution": {
     "iopub.execute_input": "2021-11-01T12:54:08.602453Z",
     "iopub.status.busy": "2021-11-01T12:54:08.601960Z",
     "iopub.status.idle": "2021-11-01T12:54:08.603955Z",
     "shell.execute_reply": "2021-11-01T12:54:08.603559Z"
    },
    "papermill": {
     "duration": 0.243956,
     "end_time": "2021-11-01T12:54:08.604059",
     "exception": false,
     "start_time": "2021-11-01T12:54:08.360103",
     "status": "completed"
    },
    "tags": []
   },
   "outputs": [],
   "source": [
    "# Input to the optimizer are the parameters of the model: model.parameters()\n",
    "optimizer = torch.optim.SGD(model.parameters(), lr=0.1)"
   ]
  },
  {
   "cell_type": "markdown",
   "id": "fc60f25c",
   "metadata": {
    "papermill": {
     "duration": 0.217766,
     "end_time": "2021-11-01T12:54:09.054714",
     "exception": false,
     "start_time": "2021-11-01T12:54:08.836948",
     "status": "completed"
    },
    "tags": []
   },
   "source": [
    "The optimizer provides two useful functions: `optimizer.step()`, and `optimizer.zero_grad()`.\n",
    "The step function updates the parameters based on the gradients as explained above.\n",
    "The function `optimizer.zero_grad()` sets the gradients of all parameters to zero.\n",
    "While this function seems less relevant at first, it is a crucial pre-step before performing backpropagation.\n",
    "If we would call the `backward` function on the loss while the parameter gradients are non-zero from the previous batch, the new gradients would actually be added to the previous ones instead of overwriting them.\n",
    "This is done because a parameter might occur multiple times in a computation graph, and we need to sum the gradients in this case instead of replacing them.\n",
    "Hence, remember to call `optimizer.zero_grad()` before calculating the gradients of a batch."
   ]
  },
  {
   "cell_type": "markdown",
   "id": "7ec8ef34",
   "metadata": {
    "papermill": {
     "duration": 0.21643,
     "end_time": "2021-11-01T12:54:09.487622",
     "exception": false,
     "start_time": "2021-11-01T12:54:09.271192",
     "status": "completed"
    },
    "tags": []
   },
   "source": [
    "### Training\n",
    "\n",
    "Finally, we are ready to train our model.\n",
    "As a first step, we create a slightly larger dataset and specify a data loader with a larger batch size."
   ]
  },
  {
   "cell_type": "code",
   "execution_count": 47,
   "id": "44d96c31",
   "metadata": {
    "execution": {
     "iopub.execute_input": "2021-11-01T12:54:09.924507Z",
     "iopub.status.busy": "2021-11-01T12:54:09.924042Z",
     "iopub.status.idle": "2021-11-01T12:54:09.926573Z",
     "shell.execute_reply": "2021-11-01T12:54:09.926154Z"
    },
    "papermill": {
     "duration": 0.221894,
     "end_time": "2021-11-01T12:54:09.926676",
     "exception": false,
     "start_time": "2021-11-01T12:54:09.704782",
     "status": "completed"
    },
    "tags": []
   },
   "outputs": [],
   "source": [
    "train_dataset = XORDataset(size=1000)\n",
    "train_data_loader = data.DataLoader(train_dataset, batch_size=128, shuffle=True)"
   ]
  },
  {
   "cell_type": "markdown",
   "id": "2def7c87",
   "metadata": {
    "papermill": {
     "duration": 0.216004,
     "end_time": "2021-11-01T12:54:10.358572",
     "exception": false,
     "start_time": "2021-11-01T12:54:10.142568",
     "status": "completed"
    },
    "tags": []
   },
   "source": [
    "Now, we can write a small training function.\n",
    "Remember our five steps: load a batch, obtain the predictions, calculate the loss, backpropagate, and update.\n",
    "Additionally, we have to push all data and model parameters to the device of our choice (GPU if available).\n",
    "For the tiny neural network we have, communicating the data to the GPU actually takes much more time than we could save from running the operation on GPU.\n",
    "For large networks, the communication time is significantly smaller than the actual runtime making a GPU crucial in these cases.\n",
    "Still, to practice, we will push the data to GPU here."
   ]
  },
  {
   "cell_type": "code",
   "execution_count": 48,
   "id": "3cc5a69f",
   "metadata": {
    "execution": {
     "iopub.execute_input": "2021-11-01T12:54:10.793419Z",
     "iopub.status.busy": "2021-11-01T12:54:10.792958Z",
     "iopub.status.idle": "2021-11-01T12:54:10.796588Z",
     "shell.execute_reply": "2021-11-01T12:54:10.796180Z"
    },
    "papermill": {
     "duration": 0.223015,
     "end_time": "2021-11-01T12:54:10.796690",
     "exception": false,
     "start_time": "2021-11-01T12:54:10.573675",
     "status": "completed"
    },
    "tags": []
   },
   "outputs": [
    {
     "data": {
      "text/plain": [
       "SimpleClassifier(\n",
       "  (linear1): Linear(in_features=2, out_features=4, bias=True)\n",
       "  (act_fn): Tanh()\n",
       "  (linear2): Linear(in_features=4, out_features=1, bias=True)\n",
       ")"
      ]
     },
     "execution_count": 48,
     "metadata": {},
     "output_type": "execute_result"
    }
   ],
   "source": [
    "# Push model to device. Has to be only done once\n",
    "model.to(device)"
   ]
  },
  {
   "cell_type": "markdown",
   "id": "00948506",
   "metadata": {
    "lines_to_next_cell": 2,
    "papermill": {
     "duration": 0.218983,
     "end_time": "2021-11-01T12:54:11.236433",
     "exception": false,
     "start_time": "2021-11-01T12:54:11.017450",
     "status": "completed"
    },
    "tags": []
   },
   "source": [
    "In addition, we set our model to training mode.\n",
    "This is done by calling `model.train()`.\n",
    "There exist certain modules that need to perform a different forward\n",
    "step during training than during testing (e.g. BatchNorm and Dropout),\n",
    "and we can switch between them using `model.train()` and `model.eval()`."
   ]
  },
  {
   "cell_type": "code",
   "execution_count": 49,
   "id": "f96af465",
   "metadata": {
    "execution": {
     "iopub.execute_input": "2021-11-01T12:54:11.675400Z",
     "iopub.status.busy": "2021-11-01T12:54:11.674927Z",
     "iopub.status.idle": "2021-11-01T12:54:11.677009Z",
     "shell.execute_reply": "2021-11-01T12:54:11.676547Z"
    },
    "papermill": {
     "duration": 0.222609,
     "end_time": "2021-11-01T12:54:11.677111",
     "exception": false,
     "start_time": "2021-11-01T12:54:11.454502",
     "status": "completed"
    },
    "tags": []
   },
   "outputs": [],
   "source": [
    "def train_model(model, optimizer, data_loader, loss_module, num_epochs=100):\n",
    "    # Set model to train mode\n",
    "    model.train()\n",
    "\n",
    "    # Training loop\n",
    "    for epoch in tqdm(range(num_epochs)):\n",
    "        for data_inputs, data_labels in data_loader:\n",
    "\n",
    "            # Step 1: Move input data to device (only strictly necessary if we use GPU)\n",
    "            data_inputs = data_inputs.to(device)\n",
    "            data_labels = data_labels.to(device)\n",
    "\n",
    "            # Step 2: Run the model on the input data\n",
    "            preds = model(data_inputs)\n",
    "            preds = preds.squeeze(dim=1)  # Output is [Batch size, 1], but we want [Batch size]\n",
    "\n",
    "            # Step 3: Calculate the loss\n",
    "            loss = loss_module(preds, data_labels.float())\n",
    "\n",
    "            # Step 4: Perform backpropagation\n",
    "            # Before calculating the gradients, we need to ensure that they are all zero.\n",
    "            # The gradients would not be overwritten, but actually added to the existing ones.\n",
    "            optimizer.zero_grad()\n",
    "            # Perform backpropagation\n",
    "            loss.backward()\n",
    "\n",
    "            # Step 5: Update the parameters\n",
    "            optimizer.step()"
   ]
  },
  {
   "cell_type": "code",
   "execution_count": 50,
   "id": "b8cb54c5",
   "metadata": {
    "execution": {
     "iopub.execute_input": "2021-11-01T12:54:12.118335Z",
     "iopub.status.busy": "2021-11-01T12:54:12.117695Z",
     "iopub.status.idle": "2021-11-01T12:54:13.289165Z",
     "shell.execute_reply": "2021-11-01T12:54:13.288686Z"
    },
    "papermill": {
     "duration": 1.392705,
     "end_time": "2021-11-01T12:54:13.289276",
     "exception": false,
     "start_time": "2021-11-01T12:54:11.896571",
     "status": "completed"
    },
    "tags": []
   },
   "outputs": [
    {
     "data": {
      "application/vnd.jupyter.widget-view+json": {
       "model_id": "242672406a6c4193b1195a0708ed6c26",
       "version_major": 2,
       "version_minor": 0
      },
      "text/plain": [
       "  0%|          | 0/100 [00:00<?, ?it/s]"
      ]
     },
     "metadata": {},
     "output_type": "display_data"
    }
   ],
   "source": [
    "train_model(model, optimizer, train_data_loader, loss_module)"
   ]
  },
  {
   "cell_type": "markdown",
   "id": "ca3af1ef",
   "metadata": {
    "papermill": {
     "duration": 0.216338,
     "end_time": "2021-11-01T12:54:13.726746",
     "exception": false,
     "start_time": "2021-11-01T12:54:13.510408",
     "status": "completed"
    },
    "tags": []
   },
   "source": [
    "#### Saving a model\n",
    "\n",
    "After finish training a model, we save the model to disk so that we can load the same weights at a later time.\n",
    "For this, we extract the so-called `state_dict` from the model which contains all learnable parameters.\n",
    "For our simple model, the state dict contains the following entries:"
   ]
  },
  {
   "cell_type": "code",
   "execution_count": 51,
   "id": "c5796822",
   "metadata": {
    "execution": {
     "iopub.execute_input": "2021-11-01T12:54:14.167975Z",
     "iopub.status.busy": "2021-11-01T12:54:14.167504Z",
     "iopub.status.idle": "2021-11-01T12:54:14.172938Z",
     "shell.execute_reply": "2021-11-01T12:54:14.172473Z"
    },
    "papermill": {
     "duration": 0.227013,
     "end_time": "2021-11-01T12:54:14.173044",
     "exception": false,
     "start_time": "2021-11-01T12:54:13.946031",
     "status": "completed"
    },
    "tags": []
   },
   "outputs": [
    {
     "name": "stdout",
     "output_type": "stream",
     "text": [
      "OrderedDict([('linear1.weight', tensor([[-2.0670, -2.2975],\n",
      "        [ 1.2786, -1.8345],\n",
      "        [-1.4951, -0.5205],\n",
      "        [-0.6117, -0.7444]], device='cuda:0')), ('linear1.bias', tensor([ 0.7173, -0.8690,  1.3082, -0.2268], device='cuda:0')), ('linear2.weight', tensor([[-2.6062,  1.9208,  2.1200, -0.2700]], device='cuda:0')), ('linear2.bias', tensor([-0.9445], device='cuda:0'))])\n"
     ]
    }
   ],
   "source": [
    "state_dict = model.state_dict()\n",
    "print(state_dict)"
   ]
  },
  {
   "cell_type": "markdown",
   "id": "67a28fc2",
   "metadata": {
    "papermill": {
     "duration": 0.217718,
     "end_time": "2021-11-01T12:54:14.609486",
     "exception": false,
     "start_time": "2021-11-01T12:54:14.391768",
     "status": "completed"
    },
    "tags": []
   },
   "source": [
    "To save the state dictionary, we can use `torch.save`:"
   ]
  },
  {
   "cell_type": "code",
   "execution_count": 52,
   "id": "7e113cd4",
   "metadata": {
    "execution": {
     "iopub.execute_input": "2021-11-01T12:54:15.052042Z",
     "iopub.status.busy": "2021-11-01T12:54:15.051577Z",
     "iopub.status.idle": "2021-11-01T12:54:15.054634Z",
     "shell.execute_reply": "2021-11-01T12:54:15.054078Z"
    },
    "papermill": {
     "duration": 0.225414,
     "end_time": "2021-11-01T12:54:15.054740",
     "exception": false,
     "start_time": "2021-11-01T12:54:14.829326",
     "status": "completed"
    },
    "tags": []
   },
   "outputs": [],
   "source": [
    "# torch.save(object, filename). For the filename, any extension can be used\n",
    "torch.save(state_dict, \"our_model.tar\")"
   ]
  },
  {
   "cell_type": "markdown",
   "id": "82a7f3a8",
   "metadata": {
    "papermill": {
     "duration": 0.220512,
     "end_time": "2021-11-01T12:54:15.497099",
     "exception": false,
     "start_time": "2021-11-01T12:54:15.276587",
     "status": "completed"
    },
    "tags": []
   },
   "source": [
    "To load a model from a state dict, we use the function `torch.load` to\n",
    "load the state dict from the disk, and the module function\n",
    "`load_state_dict` to overwrite our parameters with the new values:"
   ]
  },
  {
   "cell_type": "code",
   "execution_count": 53,
   "id": "cf0873e8",
   "metadata": {
    "execution": {
     "iopub.execute_input": "2021-11-01T12:54:15.937555Z",
     "iopub.status.busy": "2021-11-01T12:54:15.937049Z",
     "iopub.status.idle": "2021-11-01T12:54:15.945420Z",
     "shell.execute_reply": "2021-11-01T12:54:15.944954Z"
    },
    "papermill": {
     "duration": 0.231006,
     "end_time": "2021-11-01T12:54:15.945521",
     "exception": false,
     "start_time": "2021-11-01T12:54:15.714515",
     "status": "completed"
    },
    "tags": []
   },
   "outputs": [
    {
     "name": "stdout",
     "output_type": "stream",
     "text": [
      "Original model\n",
      " OrderedDict([('linear1.weight', tensor([[-2.0670, -2.2975],\n",
      "        [ 1.2786, -1.8345],\n",
      "        [-1.4951, -0.5205],\n",
      "        [-0.6117, -0.7444]], device='cuda:0')), ('linear1.bias', tensor([ 0.7173, -0.8690,  1.3082, -0.2268], device='cuda:0')), ('linear2.weight', tensor([[-2.6062,  1.9208,  2.1200, -0.2700]], device='cuda:0')), ('linear2.bias', tensor([-0.9445], device='cuda:0'))])\n",
      "\n",
      "Loaded model\n",
      " OrderedDict([('linear1.weight', tensor([[-2.0670, -2.2975],\n",
      "        [ 1.2786, -1.8345],\n",
      "        [-1.4951, -0.5205],\n",
      "        [-0.6117, -0.7444]])), ('linear1.bias', tensor([ 0.7173, -0.8690,  1.3082, -0.2268])), ('linear2.weight', tensor([[-2.6062,  1.9208,  2.1200, -0.2700]])), ('linear2.bias', tensor([-0.9445]))])\n"
     ]
    }
   ],
   "source": [
    "# Load state dict from the disk (make sure it is the same name as above)\n",
    "state_dict = torch.load(\"our_model.tar\")\n",
    "\n",
    "# Create a new model and load the state\n",
    "new_model = SimpleClassifier(num_inputs=2, num_hidden=4, num_outputs=1)\n",
    "new_model.load_state_dict(state_dict)\n",
    "\n",
    "# Verify that the parameters are the same\n",
    "print(\"Original model\\n\", model.state_dict())\n",
    "print(\"\\nLoaded model\\n\", new_model.state_dict())"
   ]
  },
  {
   "cell_type": "markdown",
   "id": "25d80371",
   "metadata": {
    "papermill": {
     "duration": 0.221081,
     "end_time": "2021-11-01T12:54:16.387653",
     "exception": false,
     "start_time": "2021-11-01T12:54:16.166572",
     "status": "completed"
    },
    "tags": []
   },
   "source": [
    "A detailed tutorial on saving and loading models in PyTorch can be found\n",
    "[here](https://pytorch.org/tutorials/beginner/saving_loading_models.html)."
   ]
  },
  {
   "cell_type": "markdown",
   "id": "ad86aa24",
   "metadata": {
    "papermill": {
     "duration": 0.223782,
     "end_time": "2021-11-01T12:54:16.832797",
     "exception": false,
     "start_time": "2021-11-01T12:54:16.609015",
     "status": "completed"
    },
    "tags": []
   },
   "source": [
    "### Evaluation\n",
    "\n",
    "Once we have trained a model, it is time to evaluate it on a held-out test set.\n",
    "As our dataset consist of randomly generated data points, we need to\n",
    "first create a test set with a corresponding data loader."
   ]
  },
  {
   "cell_type": "code",
   "execution_count": 54,
   "id": "b0489bb7",
   "metadata": {
    "execution": {
     "iopub.execute_input": "2021-11-01T12:54:17.283062Z",
     "iopub.status.busy": "2021-11-01T12:54:17.282596Z",
     "iopub.status.idle": "2021-11-01T12:54:17.285023Z",
     "shell.execute_reply": "2021-11-01T12:54:17.284608Z"
    },
    "papermill": {
     "duration": 0.224779,
     "end_time": "2021-11-01T12:54:17.285124",
     "exception": false,
     "start_time": "2021-11-01T12:54:17.060345",
     "status": "completed"
    },
    "tags": []
   },
   "outputs": [],
   "source": [
    "test_dataset = XORDataset(size=500)\n",
    "# drop_last -> Don't drop the last batch although it is smaller than 128\n",
    "test_data_loader = data.DataLoader(test_dataset, batch_size=128, shuffle=False, drop_last=False)"
   ]
  },
  {
   "cell_type": "markdown",
   "id": "38fdb6d5",
   "metadata": {
    "lines_to_next_cell": 2,
    "papermill": {
     "duration": 0.219992,
     "end_time": "2021-11-01T12:54:17.722370",
     "exception": false,
     "start_time": "2021-11-01T12:54:17.502378",
     "status": "completed"
    },
    "tags": []
   },
   "source": [
    "As metric, we will use accuracy which is calculated as follows:\n",
    "\n",
    "$$acc = \\frac{\\#\\text{correct predictions}}{\\#\\text{all predictions}} = \\frac{TP+TN}{TP+TN+FP+FN}$$\n",
    "\n",
    "where TP are the true positives, TN true negatives, FP false positives, and FN the fale negatives.\n",
    "\n",
    "When evaluating the model, we don't need to keep track of the computation graph as we don't intend to calculate the gradients.\n",
    "This reduces the required memory and speed up the model.\n",
    "In PyTorch, we can deactivate the computation graph using `with torch.no_grad(): ...`.\n",
    "Remember to additionally set the model to eval mode."
   ]
  },
  {
   "cell_type": "code",
   "execution_count": 55,
   "id": "bd539090",
   "metadata": {
    "execution": {
     "iopub.execute_input": "2021-11-01T12:54:18.162466Z",
     "iopub.status.busy": "2021-11-01T12:54:18.161980Z",
     "iopub.status.idle": "2021-11-01T12:54:18.163998Z",
     "shell.execute_reply": "2021-11-01T12:54:18.163605Z"
    },
    "papermill": {
     "duration": 0.224958,
     "end_time": "2021-11-01T12:54:18.164102",
     "exception": false,
     "start_time": "2021-11-01T12:54:17.939144",
     "status": "completed"
    },
    "tags": []
   },
   "outputs": [],
   "source": [
    "def eval_model(model, data_loader):\n",
    "    model.eval()  # Set model to eval mode\n",
    "    true_preds, num_preds = 0.0, 0.0\n",
    "\n",
    "    with torch.no_grad():  # Deactivate gradients for the following code\n",
    "        for data_inputs, data_labels in data_loader:\n",
    "\n",
    "            # Determine prediction of model on dev set\n",
    "            data_inputs, data_labels = data_inputs.to(device), data_labels.to(device)\n",
    "            preds = model(data_inputs)\n",
    "            preds = preds.squeeze(dim=1)\n",
    "            preds = torch.sigmoid(preds)  # Sigmoid to map predictions between 0 and 1\n",
    "            pred_labels = (preds >= 0.5).long()  # Binarize predictions to 0 and 1\n",
    "\n",
    "            # Keep records of predictions for the accuracy metric (true_preds=TP+TN, num_preds=TP+TN+FP+FN)\n",
    "            true_preds += (pred_labels == data_labels).sum()\n",
    "            num_preds += data_labels.shape[0]\n",
    "\n",
    "    acc = true_preds / num_preds\n",
    "    print(f\"Accuracy of the model: {100.0*acc:4.2f}%\")"
   ]
  },
  {
   "cell_type": "code",
   "execution_count": 56,
   "id": "f62712b6",
   "metadata": {
    "execution": {
     "iopub.execute_input": "2021-11-01T12:54:18.603554Z",
     "iopub.status.busy": "2021-11-01T12:54:18.602577Z",
     "iopub.status.idle": "2021-11-01T12:54:18.609800Z",
     "shell.execute_reply": "2021-11-01T12:54:18.610176Z"
    },
    "papermill": {
     "duration": 0.228285,
     "end_time": "2021-11-01T12:54:18.610294",
     "exception": false,
     "start_time": "2021-11-01T12:54:18.382009",
     "status": "completed"
    },
    "tags": []
   },
   "outputs": [
    {
     "name": "stdout",
     "output_type": "stream",
     "text": [
      "Accuracy of the model: 100.00%\n"
     ]
    }
   ],
   "source": [
    "eval_model(model, test_data_loader)"
   ]
  },
  {
   "cell_type": "markdown",
   "id": "4bcd37e9",
   "metadata": {
    "papermill": {
     "duration": 0.218883,
     "end_time": "2021-11-01T12:54:19.046883",
     "exception": false,
     "start_time": "2021-11-01T12:54:18.828000",
     "status": "completed"
    },
    "tags": []
   },
   "source": [
    "If we trained our model correctly, we should see a score close to 100% accuracy.\n",
    "However, this is only possible because of our simple task, and\n",
    "unfortunately, we usually don't get such high scores on test sets of\n",
    "more complex tasks."
   ]
  },
  {
   "cell_type": "markdown",
   "id": "6e31dfa6",
   "metadata": {
    "lines_to_next_cell": 2,
    "papermill": {
     "duration": 0.218735,
     "end_time": "2021-11-01T12:54:19.484617",
     "exception": false,
     "start_time": "2021-11-01T12:54:19.265882",
     "status": "completed"
    },
    "tags": []
   },
   "source": [
    "#### Visualizing classification boundaries\n",
    "\n",
    "To visualize what our model has learned, we can perform a prediction for every data point in a range of $[-0.5, 1.5]$, and visualize the predicted class as in the sample figure at the beginning of this section.\n",
    "This shows where the model has created decision boundaries, and which points would be classified as $0$, and which as $1$.\n",
    "We therefore get a background image out of blue (class 0) and orange (class 1).\n",
    "The spots where the model is uncertain we will see a blurry overlap.\n",
    "The specific code is less relevant compared to the output figure which\n",
    "should hopefully show us a clear separation of classes:"
   ]
  },
  {
   "cell_type": "code",
   "execution_count": 57,
   "id": "afec6c66",
   "metadata": {
    "execution": {
     "iopub.execute_input": "2021-11-01T12:54:19.937132Z",
     "iopub.status.busy": "2021-11-01T12:54:19.930510Z",
     "iopub.status.idle": "2021-11-01T12:54:20.320542Z",
     "shell.execute_reply": "2021-11-01T12:54:20.320918Z"
    },
    "papermill": {
     "duration": 0.616443,
     "end_time": "2021-11-01T12:54:20.321054",
     "exception": false,
     "start_time": "2021-11-01T12:54:19.704611",
     "status": "completed"
    },
    "tags": []
   },
   "outputs": [
    {
     "data": {
      "application/pdf": "[encoded data removed]",
      "image/svg+xml": [
       "<?xml version=\"1.0\" encoding=\"utf-8\" standalone=\"no\"?>\n",
       "<!DOCTYPE svg PUBLIC \"-//W3C//DTD SVG 1.1//EN\"\n",
       "  \"http://www.w3.org/Graphics/SVG/1.1/DTD/svg11.dtd\">\n",
       "<svg height=\"277.314375pt\" version=\"1.1\" viewBox=\"0 0 291.115 277.314375\" width=\"291.115pt\" xmlns=\"http://www.w3.org/2000/svg\" xmlns:xlink=\"http://www.w3.org/1999/xlink\">\n",
       " <metadata>\n",
       "  <rdf:RDF xmlns:cc=\"http://creativecommons.org/ns#\" xmlns:dc=\"http://purl.org/dc/elements/1.1/\" xmlns:rdf=\"http://www.w3.org/1999/02/22-rdf-syntax-ns#\">\n",
       "   <cc:Work>\n",
       "    <dc:type rdf:resource=\"http://purl.org/dc/dcmitype/StillImage\"/>\n",
       "    <dc:date>2021-11-01T13:54:20.049957</dc:date>\n",
       "    <dc:format>image/svg+xml</dc:format>\n",
       "    <dc:creator>\n",
       "     <cc:Agent>\n",
       "      <dc:title>Matplotlib v3.4.3, https://matplotlib.org/</dc:title>\n",
       "     </cc:Agent>\n",
       "    </dc:creator>\n",
       "   </cc:Work>\n",
       "  </rdf:RDF>\n",
       " </metadata>\n",
       " <defs>\n",
       "  <style type=\"text/css\">*{stroke-linecap:butt;stroke-linejoin:round;}</style>\n",
       " </defs>\n",
       " <g id=\"figure_1\">\n",
       "  <g id=\"patch_1\">\n",
       "   <path d=\"M 0 277.314375 \n",
       "L 291.115 277.314375 \n",
       "L 291.115 0 \n",
       "L 0 0 \n",
       "z\n",
       "\" style=\"fill:none;\"/>\n",
       "  </g>\n",
       "  <g id=\"axes_1\">\n",
       "   <g id=\"patch_2\">\n",
       "    <path d=\"M 58.523438 239.758125 \n",
       "L 275.963437 239.758125 \n",
       "L 275.963437 22.318125 \n",
       "L 58.523438 22.318125 \n",
       "z\n",
       "\" style=\"fill:#ffffff;\"/>\n",
       "   </g>\n",
       "   <g clip-path=\"url(#pa989bb1b51)\">\n",
       "    <image height=\"218\" id=\"imagea1e18fcb3a\" transform=\"scale(1 -1)translate(0 -218)\" width=\"218\" x=\"58.523438\" xlink:href=\"data:image/png;base64,\n",
       "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\" y=\"-21.758125\"/>\n",
       "   </g>\n",
       "   <g id=\"PathCollection_1\">\n",
       "    <defs>\n",
       "     <path d=\"M 0 3 \n",
       "C 0.795609 3 1.55874 2.683901 2.12132 2.12132 \n",
       "C 2.683901 1.55874 3 0.795609 3 0 \n",
       "C 3 -0.795609 2.683901 -1.55874 2.12132 -2.12132 \n",
       "C 1.55874 -2.683901 0.795609 -3 0 -3 \n",
       "C -0.795609 -3 -1.55874 -2.683901 -2.12132 -2.12132 \n",
       "C -2.683901 -1.55874 -3 -0.795609 -3 0 \n",
       "C -3 0.795609 -2.683901 1.55874 -2.12132 2.12132 \n",
       "C -1.55874 2.683901 -0.795609 3 0 3 \n",
       "z\n",
       "\" id=\"md3724c44f6\" style=\"stroke:#333333;\"/>\n",
       "    </defs>\n",
       "    <g clip-path=\"url(#pa989bb1b51)\">\n",
       "     <use style=\"fill:#1f77b4;stroke:#333333;\" x=\"112.130475\" xlink:href=\"#md3724c44f6\" y=\"183.02716\"/>\n",
       "     <use style=\"fill:#1f77b4;stroke:#333333;\" x=\"218.531808\" xlink:href=\"#md3724c44f6\" y=\"79.706304\"/>\n",
       "     <use style=\"fill:#1f77b4;stroke:#333333;\" x=\"239.633825\" xlink:href=\"#md3724c44f6\" y=\"80.994397\"/>\n",
       "     <use style=\"fill:#1f77b4;stroke:#333333;\" x=\"122.008015\" xlink:href=\"#md3724c44f6\" y=\"191.757377\"/>\n",
       "     <use style=\"fill:#1f77b4;stroke:#333333;\" x=\"116.060682\" xlink:href=\"#md3724c44f6\" y=\"192.256288\"/>\n",
       "     <use style=\"fill:#1f77b4;stroke:#333333;\" x=\"92.277532\" xlink:href=\"#md3724c44f6\" y=\"180.061819\"/>\n",
       "     <use style=\"fill:#1f77b4;stroke:#333333;\" x=\"227.018994\" xlink:href=\"#md3724c44f6\" y=\"76.887462\"/>\n",
       "     <use style=\"fill:#1f77b4;stroke:#333333;\" x=\"218.499712\" xlink:href=\"#md3724c44f6\" y=\"71.275153\"/>\n",
       "     <use style=\"fill:#1f77b4;stroke:#333333;\" x=\"110.302013\" xlink:href=\"#md3724c44f6\" y=\"191.868518\"/>\n",
       "     <use style=\"fill:#1f77b4;stroke:#333333;\" x=\"222.828211\" xlink:href=\"#md3724c44f6\" y=\"72.953996\"/>\n",
       "     <use style=\"fill:#1f77b4;stroke:#333333;\" x=\"117.798662\" xlink:href=\"#md3724c44f6\" y=\"188.528318\"/>\n",
       "     <use style=\"fill:#1f77b4;stroke:#333333;\" x=\"236.949732\" xlink:href=\"#md3724c44f6\" y=\"56.122229\"/>\n",
       "     <use style=\"fill:#1f77b4;stroke:#333333;\" x=\"223.235039\" xlink:href=\"#md3724c44f6\" y=\"80.056541\"/>\n",
       "     <use style=\"fill:#1f77b4;stroke:#333333;\" x=\"218.619913\" xlink:href=\"#md3724c44f6\" y=\"76.248163\"/>\n",
       "     <use style=\"fill:#1f77b4;stroke:#333333;\" x=\"110.525586\" xlink:href=\"#md3724c44f6\" y=\"198.228967\"/>\n",
       "     <use style=\"fill:#1f77b4;stroke:#333333;\" x=\"106.581102\" xlink:href=\"#md3724c44f6\" y=\"176.499583\"/>\n",
       "     <use style=\"fill:#1f77b4;stroke:#333333;\" x=\"233.588936\" xlink:href=\"#md3724c44f6\" y=\"102.286439\"/>\n",
       "     <use style=\"fill:#1f77b4;stroke:#333333;\" x=\"236.369999\" xlink:href=\"#md3724c44f6\" y=\"96.725344\"/>\n",
       "     <use style=\"fill:#1f77b4;stroke:#333333;\" x=\"213.86622\" xlink:href=\"#md3724c44f6\" y=\"77.338064\"/>\n",
       "     <use style=\"fill:#1f77b4;stroke:#333333;\" x=\"100.93054\" xlink:href=\"#md3724c44f6\" y=\"195.532199\"/>\n",
       "     <use style=\"fill:#1f77b4;stroke:#333333;\" x=\"235.709742\" xlink:href=\"#md3724c44f6\" y=\"56.455519\"/>\n",
       "     <use style=\"fill:#1f77b4;stroke:#333333;\" x=\"228.794651\" xlink:href=\"#md3724c44f6\" y=\"77.981996\"/>\n",
       "     <use style=\"fill:#1f77b4;stroke:#333333;\" x=\"126.325818\" xlink:href=\"#md3724c44f6\" y=\"169.253244\"/>\n",
       "     <use style=\"fill:#1f77b4;stroke:#333333;\" x=\"215.866897\" xlink:href=\"#md3724c44f6\" y=\"56.228154\"/>\n",
       "     <use style=\"fill:#1f77b4;stroke:#333333;\" x=\"114.849831\" xlink:href=\"#md3724c44f6\" y=\"184.170689\"/>\n",
       "     <use style=\"fill:#1f77b4;stroke:#333333;\" x=\"215.200167\" xlink:href=\"#md3724c44f6\" y=\"71.325868\"/>\n",
       "     <use style=\"fill:#1f77b4;stroke:#333333;\" x=\"104.738732\" xlink:href=\"#md3724c44f6\" y=\"172.132264\"/>\n",
       "     <use style=\"fill:#1f77b4;stroke:#333333;\" x=\"233.165389\" xlink:href=\"#md3724c44f6\" y=\"69.175006\"/>\n",
       "     <use style=\"fill:#1f77b4;stroke:#333333;\" x=\"229.770805\" xlink:href=\"#md3724c44f6\" y=\"79.208287\"/>\n",
       "     <use style=\"fill:#1f77b4;stroke:#333333;\" x=\"224.897941\" xlink:href=\"#md3724c44f6\" y=\"65.173809\"/>\n",
       "     <use style=\"fill:#1f77b4;stroke:#333333;\" x=\"109.018133\" xlink:href=\"#md3724c44f6\" y=\"175.976269\"/>\n",
       "     <use style=\"fill:#1f77b4;stroke:#333333;\" x=\"118.553492\" xlink:href=\"#md3724c44f6\" y=\"195.931899\"/>\n",
       "     <use style=\"fill:#1f77b4;stroke:#333333;\" x=\"105.114252\" xlink:href=\"#md3724c44f6\" y=\"164.360655\"/>\n",
       "     <use style=\"fill:#1f77b4;stroke:#333333;\" x=\"113.25433\" xlink:href=\"#md3724c44f6\" y=\"189.323026\"/>\n",
       "     <use style=\"fill:#1f77b4;stroke:#333333;\" x=\"124.586091\" xlink:href=\"#md3724c44f6\" y=\"188.967644\"/>\n",
       "     <use style=\"fill:#1f77b4;stroke:#333333;\" x=\"109.837824\" xlink:href=\"#md3724c44f6\" y=\"184.898956\"/>\n",
       "     <use style=\"fill:#1f77b4;stroke:#333333;\" x=\"125.181761\" xlink:href=\"#md3724c44f6\" y=\"197.902563\"/>\n",
       "     <use style=\"fill:#1f77b4;stroke:#333333;\" x=\"204.317789\" xlink:href=\"#md3724c44f6\" y=\"61.965272\"/>\n",
       "     <use style=\"fill:#1f77b4;stroke:#333333;\" x=\"235.267519\" xlink:href=\"#md3724c44f6\" y=\"81.643688\"/>\n",
       "     <use style=\"fill:#1f77b4;stroke:#333333;\" x=\"223.348378\" xlink:href=\"#md3724c44f6\" y=\"80.978112\"/>\n",
       "     <use style=\"fill:#1f77b4;stroke:#333333;\" x=\"109.797084\" xlink:href=\"#md3724c44f6\" y=\"192.545811\"/>\n",
       "     <use style=\"fill:#1f77b4;stroke:#333333;\" x=\"211.194686\" xlink:href=\"#md3724c44f6\" y=\"100.930901\"/>\n",
       "     <use style=\"fill:#1f77b4;stroke:#333333;\" x=\"229.513113\" xlink:href=\"#md3724c44f6\" y=\"75.481734\"/>\n",
       "     <use style=\"fill:#1f77b4;stroke:#333333;\" x=\"113.381992\" xlink:href=\"#md3724c44f6\" y=\"197.835874\"/>\n",
       "     <use style=\"fill:#1f77b4;stroke:#333333;\" x=\"123.337028\" xlink:href=\"#md3724c44f6\" y=\"202.207751\"/>\n",
       "     <use style=\"fill:#1f77b4;stroke:#333333;\" x=\"130.132567\" xlink:href=\"#md3724c44f6\" y=\"170.190943\"/>\n",
       "     <use style=\"fill:#1f77b4;stroke:#333333;\" x=\"216.473179\" xlink:href=\"#md3724c44f6\" y=\"87.364405\"/>\n",
       "     <use style=\"fill:#1f77b4;stroke:#333333;\" x=\"206.813885\" xlink:href=\"#md3724c44f6\" y=\"65.697345\"/>\n",
       "     <use style=\"fill:#1f77b4;stroke:#333333;\" x=\"107.513202\" xlink:href=\"#md3724c44f6\" y=\"192.863185\"/>\n",
       "     <use style=\"fill:#1f77b4;stroke:#333333;\" x=\"217.41874\" xlink:href=\"#md3724c44f6\" y=\"84.700348\"/>\n",
       "     <use style=\"fill:#1f77b4;stroke:#333333;\" x=\"113.95745\" xlink:href=\"#md3724c44f6\" y=\"189.098171\"/>\n",
       "     <use style=\"fill:#1f77b4;stroke:#333333;\" x=\"226.55733\" xlink:href=\"#md3724c44f6\" y=\"57.230812\"/>\n",
       "     <use style=\"fill:#1f77b4;stroke:#333333;\" x=\"111.233278\" xlink:href=\"#md3724c44f6\" y=\"179.431408\"/>\n",
       "     <use style=\"fill:#1f77b4;stroke:#333333;\" x=\"215.084754\" xlink:href=\"#md3724c44f6\" y=\"91.072443\"/>\n",
       "     <use style=\"fill:#1f77b4;stroke:#333333;\" x=\"224.100848\" xlink:href=\"#md3724c44f6\" y=\"68.121491\"/>\n",
       "     <use style=\"fill:#1f77b4;stroke:#333333;\" x=\"92.279163\" xlink:href=\"#md3724c44f6\" y=\"180.887702\"/>\n",
       "     <use style=\"fill:#1f77b4;stroke:#333333;\" x=\"206.717206\" xlink:href=\"#md3724c44f6\" y=\"67.932904\"/>\n",
       "     <use style=\"fill:#1f77b4;stroke:#333333;\" x=\"230.512427\" xlink:href=\"#md3724c44f6\" y=\"82.439245\"/>\n",
       "     <use style=\"fill:#1f77b4;stroke:#333333;\" x=\"101.651362\" xlink:href=\"#md3724c44f6\" y=\"185.78207\"/>\n",
       "     <use style=\"fill:#1f77b4;stroke:#333333;\" x=\"110.796814\" xlink:href=\"#md3724c44f6\" y=\"211.814172\"/>\n",
       "     <use style=\"fill:#1f77b4;stroke:#333333;\" x=\"110.369579\" xlink:href=\"#md3724c44f6\" y=\"188.183661\"/>\n",
       "     <use style=\"fill:#1f77b4;stroke:#333333;\" x=\"96.152024\" xlink:href=\"#md3724c44f6\" y=\"188.29022\"/>\n",
       "     <use style=\"fill:#1f77b4;stroke:#333333;\" x=\"241.658206\" xlink:href=\"#md3724c44f6\" y=\"82.547711\"/>\n",
       "     <use style=\"fill:#1f77b4;stroke:#333333;\" x=\"215.078112\" xlink:href=\"#md3724c44f6\" y=\"88.854193\"/>\n",
       "     <use style=\"fill:#1f77b4;stroke:#333333;\" x=\"235.390643\" xlink:href=\"#md3724c44f6\" y=\"62.012163\"/>\n",
       "     <use style=\"fill:#1f77b4;stroke:#333333;\" x=\"96.594278\" xlink:href=\"#md3724c44f6\" y=\"176.722784\"/>\n",
       "     <use style=\"fill:#1f77b4;stroke:#333333;\" x=\"223.89308\" xlink:href=\"#md3724c44f6\" y=\"95.68291\"/>\n",
       "     <use style=\"fill:#1f77b4;stroke:#333333;\" x=\"231.986534\" xlink:href=\"#md3724c44f6\" y=\"101.379014\"/>\n",
       "     <use style=\"fill:#1f77b4;stroke:#333333;\" x=\"129.434435\" xlink:href=\"#md3724c44f6\" y=\"202.700628\"/>\n",
       "     <use style=\"fill:#1f77b4;stroke:#333333;\" x=\"121.849164\" xlink:href=\"#md3724c44f6\" y=\"193.853222\"/>\n",
       "     <use style=\"fill:#1f77b4;stroke:#333333;\" x=\"111.071273\" xlink:href=\"#md3724c44f6\" y=\"180.426817\"/>\n",
       "     <use style=\"fill:#1f77b4;stroke:#333333;\" x=\"111.73278\" xlink:href=\"#md3724c44f6\" y=\"178.6056\"/>\n",
       "     <use style=\"fill:#1f77b4;stroke:#333333;\" x=\"224.372642\" xlink:href=\"#md3724c44f6\" y=\"73.188217\"/>\n",
       "     <use style=\"fill:#1f77b4;stroke:#333333;\" x=\"214.544764\" xlink:href=\"#md3724c44f6\" y=\"100.191683\"/>\n",
       "     <use style=\"fill:#1f77b4;stroke:#333333;\" x=\"111.037176\" xlink:href=\"#md3724c44f6\" y=\"184.756952\"/>\n",
       "     <use style=\"fill:#1f77b4;stroke:#333333;\" x=\"120.501423\" xlink:href=\"#md3724c44f6\" y=\"177.927389\"/>\n",
       "     <use style=\"fill:#1f77b4;stroke:#333333;\" x=\"121.737273\" xlink:href=\"#md3724c44f6\" y=\"183.651319\"/>\n",
       "     <use style=\"fill:#1f77b4;stroke:#333333;\" x=\"224.151653\" xlink:href=\"#md3724c44f6\" y=\"60.366512\"/>\n",
       "     <use style=\"fill:#1f77b4;stroke:#333333;\" x=\"223.43835\" xlink:href=\"#md3724c44f6\" y=\"58.920283\"/>\n",
       "     <use style=\"fill:#1f77b4;stroke:#333333;\" x=\"112.665686\" xlink:href=\"#md3724c44f6\" y=\"194.670616\"/>\n",
       "     <use style=\"fill:#1f77b4;stroke:#333333;\" x=\"232.62061\" xlink:href=\"#md3724c44f6\" y=\"60.454033\"/>\n",
       "     <use style=\"fill:#1f77b4;stroke:#333333;\" x=\"218.768323\" xlink:href=\"#md3724c44f6\" y=\"87.76343\"/>\n",
       "     <use style=\"fill:#1f77b4;stroke:#333333;\" x=\"231.184386\" xlink:href=\"#md3724c44f6\" y=\"57.202935\"/>\n",
       "     <use style=\"fill:#1f77b4;stroke:#333333;\" x=\"105.951856\" xlink:href=\"#md3724c44f6\" y=\"182.733923\"/>\n",
       "     <use style=\"fill:#1f77b4;stroke:#333333;\" x=\"220.266348\" xlink:href=\"#md3724c44f6\" y=\"68.561718\"/>\n",
       "     <use style=\"fill:#1f77b4;stroke:#333333;\" x=\"113.873959\" xlink:href=\"#md3724c44f6\" y=\"198.141743\"/>\n",
       "     <use style=\"fill:#1f77b4;stroke:#333333;\" x=\"121.135411\" xlink:href=\"#md3724c44f6\" y=\"191.679503\"/>\n",
       "     <use style=\"fill:#1f77b4;stroke:#333333;\" x=\"105.401412\" xlink:href=\"#md3724c44f6\" y=\"181.366251\"/>\n",
       "     <use style=\"fill:#1f77b4;stroke:#333333;\" x=\"203.450464\" xlink:href=\"#md3724c44f6\" y=\"73.166107\"/>\n",
       "     <use style=\"fill:#1f77b4;stroke:#333333;\" x=\"213.131642\" xlink:href=\"#md3724c44f6\" y=\"68.440188\"/>\n",
       "     <use style=\"fill:#1f77b4;stroke:#333333;\" x=\"195.475611\" xlink:href=\"#md3724c44f6\" y=\"65.960727\"/>\n",
       "     <use style=\"fill:#1f77b4;stroke:#333333;\" x=\"104.817254\" xlink:href=\"#md3724c44f6\" y=\"181.616921\"/>\n",
       "     <use style=\"fill:#1f77b4;stroke:#333333;\" x=\"128.101527\" xlink:href=\"#md3724c44f6\" y=\"193.778082\"/>\n",
       "     <use style=\"fill:#1f77b4;stroke:#333333;\" x=\"108.575899\" xlink:href=\"#md3724c44f6\" y=\"196.017082\"/>\n",
       "     <use style=\"fill:#1f77b4;stroke:#333333;\" x=\"213.699076\" xlink:href=\"#md3724c44f6\" y=\"102.201172\"/>\n",
       "     <use style=\"fill:#1f77b4;stroke:#333333;\" x=\"116.657511\" xlink:href=\"#md3724c44f6\" y=\"184.585026\"/>\n",
       "     <use style=\"fill:#1f77b4;stroke:#333333;\" x=\"111.028071\" xlink:href=\"#md3724c44f6\" y=\"179.737071\"/>\n",
       "     <use style=\"fill:#1f77b4;stroke:#333333;\" x=\"106.803829\" xlink:href=\"#md3724c44f6\" y=\"188.460235\"/>\n",
       "     <use style=\"fill:#1f77b4;stroke:#333333;\" x=\"114.368679\" xlink:href=\"#md3724c44f6\" y=\"194.747632\"/>\n",
       "     <use style=\"fill:#1f77b4;stroke:#333333;\" x=\"202.479261\" xlink:href=\"#md3724c44f6\" y=\"76.337577\"/>\n",
       "     <use style=\"fill:#1f77b4;stroke:#333333;\" x=\"209.669671\" xlink:href=\"#md3724c44f6\" y=\"63.421804\"/>\n",
       "     <use style=\"fill:#1f77b4;stroke:#333333;\" x=\"93.182322\" xlink:href=\"#md3724c44f6\" y=\"199.661904\"/>\n",
       "     <use style=\"fill:#1f77b4;stroke:#333333;\" x=\"221.556365\" xlink:href=\"#md3724c44f6\" y=\"94.135493\"/>\n",
       "    </g>\n",
       "   </g>\n",
       "   <g id=\"PathCollection_2\">\n",
       "    <defs>\n",
       "     <path d=\"M 0 3 \n",
       "C 0.795609 3 1.55874 2.683901 2.12132 2.12132 \n",
       "C 2.683901 1.55874 3 0.795609 3 0 \n",
       "C 3 -0.795609 2.683901 -1.55874 2.12132 -2.12132 \n",
       "C 1.55874 -2.683901 0.795609 -3 0 -3 \n",
       "C -0.795609 -3 -1.55874 -2.683901 -2.12132 -2.12132 \n",
       "C -2.683901 -1.55874 -3 -0.795609 -3 0 \n",
       "C -3 0.795609 -2.683901 1.55874 -2.12132 2.12132 \n",
       "C -1.55874 2.683901 -0.795609 3 0 3 \n",
       "z\n",
       "\" id=\"ma3e18deaf7\" style=\"stroke:#333333;\"/>\n",
       "    </defs>\n",
       "    <g clip-path=\"url(#pa989bb1b51)\">\n",
       "     <use style=\"fill:#ff7f0e;stroke:#333333;\" x=\"217.606427\" xlink:href=\"#ma3e18deaf7\" y=\"173.251328\"/>\n",
       "     <use style=\"fill:#ff7f0e;stroke:#333333;\" x=\"227.769027\" xlink:href=\"#ma3e18deaf7\" y=\"173.464324\"/>\n",
       "     <use style=\"fill:#ff7f0e;stroke:#333333;\" x=\"218.500016\" xlink:href=\"#ma3e18deaf7\" y=\"187.443356\"/>\n",
       "     <use style=\"fill:#ff7f0e;stroke:#333333;\" x=\"106.984413\" xlink:href=\"#ma3e18deaf7\" y=\"66.511974\"/>\n",
       "     <use style=\"fill:#ff7f0e;stroke:#333333;\" x=\"233.133545\" xlink:href=\"#ma3e18deaf7\" y=\"189.544269\"/>\n",
       "     <use style=\"fill:#ff7f0e;stroke:#333333;\" x=\"115.335326\" xlink:href=\"#ma3e18deaf7\" y=\"80.815627\"/>\n",
       "     <use style=\"fill:#ff7f0e;stroke:#333333;\" x=\"208.972555\" xlink:href=\"#ma3e18deaf7\" y=\"197.223837\"/>\n",
       "     <use style=\"fill:#ff7f0e;stroke:#333333;\" x=\"139.005527\" xlink:href=\"#ma3e18deaf7\" y=\"77.700995\"/>\n",
       "     <use style=\"fill:#ff7f0e;stroke:#333333;\" x=\"230.664194\" xlink:href=\"#ma3e18deaf7\" y=\"201.829041\"/>\n",
       "     <use style=\"fill:#ff7f0e;stroke:#333333;\" x=\"205.002573\" xlink:href=\"#ma3e18deaf7\" y=\"176.909335\"/>\n",
       "     <use style=\"fill:#ff7f0e;stroke:#333333;\" x=\"216.845993\" xlink:href=\"#ma3e18deaf7\" y=\"167.032503\"/>\n",
       "     <use style=\"fill:#ff7f0e;stroke:#333333;\" x=\"88.160629\" xlink:href=\"#ma3e18deaf7\" y=\"65.861243\"/>\n",
       "     <use style=\"fill:#ff7f0e;stroke:#333333;\" x=\"128.021696\" xlink:href=\"#ma3e18deaf7\" y=\"66.622254\"/>\n",
       "     <use style=\"fill:#ff7f0e;stroke:#333333;\" x=\"112.260448\" xlink:href=\"#ma3e18deaf7\" y=\"91.009332\"/>\n",
       "     <use style=\"fill:#ff7f0e;stroke:#333333;\" x=\"112.50413\" xlink:href=\"#ma3e18deaf7\" y=\"63.911605\"/>\n",
       "     <use style=\"fill:#ff7f0e;stroke:#333333;\" x=\"95.981186\" xlink:href=\"#ma3e18deaf7\" y=\"61.50077\"/>\n",
       "     <use style=\"fill:#ff7f0e;stroke:#333333;\" x=\"219.993175\" xlink:href=\"#ma3e18deaf7\" y=\"189.668312\"/>\n",
       "     <use style=\"fill:#ff7f0e;stroke:#333333;\" x=\"206.167029\" xlink:href=\"#ma3e18deaf7\" y=\"173.135684\"/>\n",
       "     <use style=\"fill:#ff7f0e;stroke:#333333;\" x=\"213.740977\" xlink:href=\"#ma3e18deaf7\" y=\"174.762918\"/>\n",
       "     <use style=\"fill:#ff7f0e;stroke:#333333;\" x=\"121.204965\" xlink:href=\"#ma3e18deaf7\" y=\"77.433213\"/>\n",
       "     <use style=\"fill:#ff7f0e;stroke:#333333;\" x=\"203.018823\" xlink:href=\"#ma3e18deaf7\" y=\"182.099388\"/>\n",
       "     <use style=\"fill:#ff7f0e;stroke:#333333;\" x=\"238.152369\" xlink:href=\"#ma3e18deaf7\" y=\"188.7116\"/>\n",
       "     <use style=\"fill:#ff7f0e;stroke:#333333;\" x=\"231.441781\" xlink:href=\"#ma3e18deaf7\" y=\"186.794029\"/>\n",
       "     <use style=\"fill:#ff7f0e;stroke:#333333;\" x=\"211.648243\" xlink:href=\"#ma3e18deaf7\" y=\"189.950709\"/>\n",
       "     <use style=\"fill:#ff7f0e;stroke:#333333;\" x=\"236.220422\" xlink:href=\"#ma3e18deaf7\" y=\"169.740566\"/>\n",
       "     <use style=\"fill:#ff7f0e;stroke:#333333;\" x=\"101.853762\" xlink:href=\"#ma3e18deaf7\" y=\"86.031191\"/>\n",
       "     <use style=\"fill:#ff7f0e;stroke:#333333;\" x=\"233.94689\" xlink:href=\"#ma3e18deaf7\" y=\"172.051387\"/>\n",
       "     <use style=\"fill:#ff7f0e;stroke:#333333;\" x=\"123.501925\" xlink:href=\"#ma3e18deaf7\" y=\"74.175724\"/>\n",
       "     <use style=\"fill:#ff7f0e;stroke:#333333;\" x=\"218.585652\" xlink:href=\"#ma3e18deaf7\" y=\"171.48351\"/>\n",
       "     <use style=\"fill:#ff7f0e;stroke:#333333;\" x=\"90.32929\" xlink:href=\"#ma3e18deaf7\" y=\"75.633164\"/>\n",
       "     <use style=\"fill:#ff7f0e;stroke:#333333;\" x=\"111.280011\" xlink:href=\"#ma3e18deaf7\" y=\"82.837267\"/>\n",
       "     <use style=\"fill:#ff7f0e;stroke:#333333;\" x=\"211.740197\" xlink:href=\"#ma3e18deaf7\" y=\"195.115065\"/>\n",
       "     <use style=\"fill:#ff7f0e;stroke:#333333;\" x=\"205.118653\" xlink:href=\"#ma3e18deaf7\" y=\"174.999985\"/>\n",
       "     <use style=\"fill:#ff7f0e;stroke:#333333;\" x=\"115.182647\" xlink:href=\"#ma3e18deaf7\" y=\"78.537928\"/>\n",
       "     <use style=\"fill:#ff7f0e;stroke:#333333;\" x=\"227.992219\" xlink:href=\"#ma3e18deaf7\" y=\"175.571697\"/>\n",
       "     <use style=\"fill:#ff7f0e;stroke:#333333;\" x=\"115.634509\" xlink:href=\"#ma3e18deaf7\" y=\"84.738407\"/>\n",
       "     <use style=\"fill:#ff7f0e;stroke:#333333;\" x=\"113.207682\" xlink:href=\"#ma3e18deaf7\" y=\"86.904679\"/>\n",
       "     <use style=\"fill:#ff7f0e;stroke:#333333;\" x=\"241.406644\" xlink:href=\"#ma3e18deaf7\" y=\"195.654551\"/>\n",
       "     <use style=\"fill:#ff7f0e;stroke:#333333;\" x=\"218.12314\" xlink:href=\"#ma3e18deaf7\" y=\"172.59052\"/>\n",
       "     <use style=\"fill:#ff7f0e;stroke:#333333;\" x=\"102.818896\" xlink:href=\"#ma3e18deaf7\" y=\"74.729342\"/>\n",
       "     <use style=\"fill:#ff7f0e;stroke:#333333;\" x=\"126.547202\" xlink:href=\"#ma3e18deaf7\" y=\"76.348126\"/>\n",
       "     <use style=\"fill:#ff7f0e;stroke:#333333;\" x=\"129.239769\" xlink:href=\"#ma3e18deaf7\" y=\"62.486839\"/>\n",
       "     <use style=\"fill:#ff7f0e;stroke:#333333;\" x=\"228.152228\" xlink:href=\"#ma3e18deaf7\" y=\"193.26863\"/>\n",
       "     <use style=\"fill:#ff7f0e;stroke:#333333;\" x=\"103.215052\" xlink:href=\"#ma3e18deaf7\" y=\"78.005027\"/>\n",
       "     <use style=\"fill:#ff7f0e;stroke:#333333;\" x=\"216.222162\" xlink:href=\"#ma3e18deaf7\" y=\"176.670472\"/>\n",
       "     <use style=\"fill:#ff7f0e;stroke:#333333;\" x=\"114.916325\" xlink:href=\"#ma3e18deaf7\" y=\"88.653235\"/>\n",
       "     <use style=\"fill:#ff7f0e;stroke:#333333;\" x=\"121.115357\" xlink:href=\"#ma3e18deaf7\" y=\"70.241533\"/>\n",
       "     <use style=\"fill:#ff7f0e;stroke:#333333;\" x=\"120.258643\" xlink:href=\"#ma3e18deaf7\" y=\"72.957314\"/>\n",
       "     <use style=\"fill:#ff7f0e;stroke:#333333;\" x=\"209.315916\" xlink:href=\"#ma3e18deaf7\" y=\"177.378942\"/>\n",
       "     <use style=\"fill:#ff7f0e;stroke:#333333;\" x=\"103.210102\" xlink:href=\"#ma3e18deaf7\" y=\"91.806632\"/>\n",
       "     <use style=\"fill:#ff7f0e;stroke:#333333;\" x=\"119.325862\" xlink:href=\"#ma3e18deaf7\" y=\"68.692592\"/>\n",
       "     <use style=\"fill:#ff7f0e;stroke:#333333;\" x=\"202.824093\" xlink:href=\"#ma3e18deaf7\" y=\"174.268046\"/>\n",
       "     <use style=\"fill:#ff7f0e;stroke:#333333;\" x=\"223.801372\" xlink:href=\"#ma3e18deaf7\" y=\"196.626833\"/>\n",
       "     <use style=\"fill:#ff7f0e;stroke:#333333;\" x=\"117.310993\" xlink:href=\"#ma3e18deaf7\" y=\"69.094029\"/>\n",
       "     <use style=\"fill:#ff7f0e;stroke:#333333;\" x=\"122.253941\" xlink:href=\"#ma3e18deaf7\" y=\"84.153386\"/>\n",
       "     <use style=\"fill:#ff7f0e;stroke:#333333;\" x=\"208.231426\" xlink:href=\"#ma3e18deaf7\" y=\"184.433377\"/>\n",
       "     <use style=\"fill:#ff7f0e;stroke:#333333;\" x=\"201.565732\" xlink:href=\"#ma3e18deaf7\" y=\"186.557453\"/>\n",
       "     <use style=\"fill:#ff7f0e;stroke:#333333;\" x=\"120.045207\" xlink:href=\"#ma3e18deaf7\" y=\"79.883512\"/>\n",
       "     <use style=\"fill:#ff7f0e;stroke:#333333;\" x=\"85.476218\" xlink:href=\"#ma3e18deaf7\" y=\"85.530225\"/>\n",
       "     <use style=\"fill:#ff7f0e;stroke:#333333;\" x=\"108.621104\" xlink:href=\"#ma3e18deaf7\" y=\"91.775968\"/>\n",
       "     <use style=\"fill:#ff7f0e;stroke:#333333;\" x=\"122.454711\" xlink:href=\"#ma3e18deaf7\" y=\"71.807464\"/>\n",
       "     <use style=\"fill:#ff7f0e;stroke:#333333;\" x=\"105.245089\" xlink:href=\"#ma3e18deaf7\" y=\"80.555517\"/>\n",
       "     <use style=\"fill:#ff7f0e;stroke:#333333;\" x=\"110.345637\" xlink:href=\"#ma3e18deaf7\" y=\"74.684201\"/>\n",
       "     <use style=\"fill:#ff7f0e;stroke:#333333;\" x=\"122.948606\" xlink:href=\"#ma3e18deaf7\" y=\"84.523445\"/>\n",
       "     <use style=\"fill:#ff7f0e;stroke:#333333;\" x=\"238.331781\" xlink:href=\"#ma3e18deaf7\" y=\"190.109778\"/>\n",
       "     <use style=\"fill:#ff7f0e;stroke:#333333;\" x=\"99.158482\" xlink:href=\"#ma3e18deaf7\" y=\"62.144579\"/>\n",
       "     <use style=\"fill:#ff7f0e;stroke:#333333;\" x=\"238.904126\" xlink:href=\"#ma3e18deaf7\" y=\"176.479967\"/>\n",
       "     <use style=\"fill:#ff7f0e;stroke:#333333;\" x=\"228.511103\" xlink:href=\"#ma3e18deaf7\" y=\"166.124698\"/>\n",
       "     <use style=\"fill:#ff7f0e;stroke:#333333;\" x=\"204.749573\" xlink:href=\"#ma3e18deaf7\" y=\"197.183933\"/>\n",
       "     <use style=\"fill:#ff7f0e;stroke:#333333;\" x=\"207.817035\" xlink:href=\"#ma3e18deaf7\" y=\"209.749946\"/>\n",
       "     <use style=\"fill:#ff7f0e;stroke:#333333;\" x=\"113.647455\" xlink:href=\"#ma3e18deaf7\" y=\"63.325534\"/>\n",
       "     <use style=\"fill:#ff7f0e;stroke:#333333;\" x=\"209.936021\" xlink:href=\"#ma3e18deaf7\" y=\"171.712521\"/>\n",
       "     <use style=\"fill:#ff7f0e;stroke:#333333;\" x=\"199.504867\" xlink:href=\"#ma3e18deaf7\" y=\"160.73698\"/>\n",
       "     <use style=\"fill:#ff7f0e;stroke:#333333;\" x=\"102.861494\" xlink:href=\"#ma3e18deaf7\" y=\"67.872443\"/>\n",
       "     <use style=\"fill:#ff7f0e;stroke:#333333;\" x=\"121.543306\" xlink:href=\"#ma3e18deaf7\" y=\"77.896386\"/>\n",
       "     <use style=\"fill:#ff7f0e;stroke:#333333;\" x=\"230.263574\" xlink:href=\"#ma3e18deaf7\" y=\"175.913803\"/>\n",
       "     <use style=\"fill:#ff7f0e;stroke:#333333;\" x=\"108.769772\" xlink:href=\"#ma3e18deaf7\" y=\"71.243232\"/>\n",
       "     <use style=\"fill:#ff7f0e;stroke:#333333;\" x=\"118.137999\" xlink:href=\"#ma3e18deaf7\" y=\"79.260109\"/>\n",
       "     <use style=\"fill:#ff7f0e;stroke:#333333;\" x=\"116.883422\" xlink:href=\"#ma3e18deaf7\" y=\"81.810632\"/>\n",
       "     <use style=\"fill:#ff7f0e;stroke:#333333;\" x=\"217.332054\" xlink:href=\"#ma3e18deaf7\" y=\"170.303854\"/>\n",
       "     <use style=\"fill:#ff7f0e;stroke:#333333;\" x=\"223.569574\" xlink:href=\"#ma3e18deaf7\" y=\"163.041048\"/>\n",
       "     <use style=\"fill:#ff7f0e;stroke:#333333;\" x=\"230.510522\" xlink:href=\"#ma3e18deaf7\" y=\"176.611656\"/>\n",
       "     <use style=\"fill:#ff7f0e;stroke:#333333;\" x=\"142.305392\" xlink:href=\"#ma3e18deaf7\" y=\"77.469185\"/>\n",
       "     <use style=\"fill:#ff7f0e;stroke:#333333;\" x=\"204.163476\" xlink:href=\"#ma3e18deaf7\" y=\"198.978781\"/>\n",
       "     <use style=\"fill:#ff7f0e;stroke:#333333;\" x=\"244.521801\" xlink:href=\"#ma3e18deaf7\" y=\"198.229188\"/>\n",
       "     <use style=\"fill:#ff7f0e;stroke:#333333;\" x=\"214.441631\" xlink:href=\"#ma3e18deaf7\" y=\"195.840128\"/>\n",
       "     <use style=\"fill:#ff7f0e;stroke:#333333;\" x=\"105.972186\" xlink:href=\"#ma3e18deaf7\" y=\"85.737332\"/>\n",
       "     <use style=\"fill:#ff7f0e;stroke:#333333;\" x=\"104.205171\" xlink:href=\"#ma3e18deaf7\" y=\"77.466631\"/>\n",
       "     <use style=\"fill:#ff7f0e;stroke:#333333;\" x=\"232.367065\" xlink:href=\"#ma3e18deaf7\" y=\"198.103735\"/>\n",
       "     <use style=\"fill:#ff7f0e;stroke:#333333;\" x=\"104.549328\" xlink:href=\"#ma3e18deaf7\" y=\"83.321073\"/>\n",
       "     <use style=\"fill:#ff7f0e;stroke:#333333;\" x=\"93.504718\" xlink:href=\"#ma3e18deaf7\" y=\"79.424966\"/>\n",
       "     <use style=\"fill:#ff7f0e;stroke:#333333;\" x=\"127.819202\" xlink:href=\"#ma3e18deaf7\" y=\"69.050871\"/>\n",
       "     <use style=\"fill:#ff7f0e;stroke:#333333;\" x=\"106.888986\" xlink:href=\"#ma3e18deaf7\" y=\"71.394117\"/>\n",
       "     <use style=\"fill:#ff7f0e;stroke:#333333;\" x=\"238.372282\" xlink:href=\"#ma3e18deaf7\" y=\"196.147065\"/>\n",
       "     <use style=\"fill:#ff7f0e;stroke:#333333;\" x=\"200.720575\" xlink:href=\"#ma3e18deaf7\" y=\"181.948403\"/>\n",
       "     <use style=\"fill:#ff7f0e;stroke:#333333;\" x=\"113.562585\" xlink:href=\"#ma3e18deaf7\" y=\"65.860828\"/>\n",
       "     <use style=\"fill:#ff7f0e;stroke:#333333;\" x=\"236.216055\" xlink:href=\"#ma3e18deaf7\" y=\"194.238972\"/>\n",
       "    </g>\n",
       "   </g>\n",
       "   <g id=\"matplotlib.axis_1\">\n",
       "    <g id=\"xtick_1\">\n",
       "     <g id=\"line2d_1\">\n",
       "      <defs>\n",
       "       <path d=\"M 0 0 \n",
       "L 0 3.5 \n",
       "\" id=\"m7aac3d28fd\" style=\"stroke:#000000;stroke-width:0.8;\"/>\n",
       "      </defs>\n",
       "      <g>\n",
       "       <use style=\"stroke:#000000;stroke-width:0.8;\" x=\"58.523438\" xlink:href=\"#m7aac3d28fd\" y=\"239.758125\"/>\n",
       "      </g>\n",
       "     </g>\n",
       "     <g id=\"text_1\">\n",
       "      <!-- −0.5 -->\n",
       "      <g transform=\"translate(46.382031 254.356562)scale(0.1 -0.1)\">\n",
       "       <defs>\n",
       "        <path d=\"M 678 2272 \n",
       "L 4684 2272 \n",
       "L 4684 1741 \n",
       "L 678 1741 \n",
       "L 678 2272 \n",
       "z\n",
       "\" id=\"DejaVuSans-2212\" transform=\"scale(0.015625)\"/>\n",
       "        <path d=\"M 2034 4250 \n",
       "Q 1547 4250 1301 3770 \n",
       "Q 1056 3291 1056 2328 \n",
       "Q 1056 1369 1301 889 \n",
       "Q 1547 409 2034 409 \n",
       "Q 2525 409 2770 889 \n",
       "Q 3016 1369 3016 2328 \n",
       "Q 3016 3291 2770 3770 \n",
       "Q 2525 4250 2034 4250 \n",
       "z\n",
       "M 2034 4750 \n",
       "Q 2819 4750 3233 4129 \n",
       "Q 3647 3509 3647 2328 \n",
       "Q 3647 1150 3233 529 \n",
       "Q 2819 -91 2034 -91 \n",
       "Q 1250 -91 836 529 \n",
       "Q 422 1150 422 2328 \n",
       "Q 422 3509 836 4129 \n",
       "Q 1250 4750 2034 4750 \n",
       "z\n",
       "\" id=\"DejaVuSans-30\" transform=\"scale(0.015625)\"/>\n",
       "        <path d=\"M 684 794 \n",
       "L 1344 794 \n",
       "L 1344 0 \n",
       "L 684 0 \n",
       "L 684 794 \n",
       "z\n",
       "\" id=\"DejaVuSans-2e\" transform=\"scale(0.015625)\"/>\n",
       "        <path d=\"M 691 4666 \n",
       "L 3169 4666 \n",
       "L 3169 4134 \n",
       "L 1269 4134 \n",
       "L 1269 2991 \n",
       "Q 1406 3038 1543 3061 \n",
       "Q 1681 3084 1819 3084 \n",
       "Q 2600 3084 3056 2656 \n",
       "Q 3513 2228 3513 1497 \n",
       "Q 3513 744 3044 326 \n",
       "Q 2575 -91 1722 -91 \n",
       "Q 1428 -91 1123 -41 \n",
       "Q 819 9 494 109 \n",
       "L 494 744 \n",
       "Q 775 591 1075 516 \n",
       "Q 1375 441 1709 441 \n",
       "Q 2250 441 2565 725 \n",
       "Q 2881 1009 2881 1497 \n",
       "Q 2881 1984 2565 2268 \n",
       "Q 2250 2553 1709 2553 \n",
       "Q 1456 2553 1204 2497 \n",
       "Q 953 2441 691 2322 \n",
       "L 691 4666 \n",
       "z\n",
       "\" id=\"DejaVuSans-35\" transform=\"scale(0.015625)\"/>\n",
       "       </defs>\n",
       "       <use xlink:href=\"#DejaVuSans-2212\"/>\n",
       "       <use x=\"83.789062\" xlink:href=\"#DejaVuSans-30\"/>\n",
       "       <use x=\"147.412109\" xlink:href=\"#DejaVuSans-2e\"/>\n",
       "       <use x=\"179.199219\" xlink:href=\"#DejaVuSans-35\"/>\n",
       "      </g>\n",
       "     </g>\n",
       "    </g>\n",
       "    <g id=\"xtick_2\">\n",
       "     <g id=\"line2d_2\">\n",
       "      <g>\n",
       "       <use style=\"stroke:#000000;stroke-width:0.8;\" x=\"112.883437\" xlink:href=\"#m7aac3d28fd\" y=\"239.758125\"/>\n",
       "      </g>\n",
       "     </g>\n",
       "     <g id=\"text_2\">\n",
       "      <!-- 0.0 -->\n",
       "      <g transform=\"translate(104.931875 254.356562)scale(0.1 -0.1)\">\n",
       "       <use xlink:href=\"#DejaVuSans-30\"/>\n",
       "       <use x=\"63.623047\" xlink:href=\"#DejaVuSans-2e\"/>\n",
       "       <use x=\"95.410156\" xlink:href=\"#DejaVuSans-30\"/>\n",
       "      </g>\n",
       "     </g>\n",
       "    </g>\n",
       "    <g id=\"xtick_3\">\n",
       "     <g id=\"line2d_3\">\n",
       "      <g>\n",
       "       <use style=\"stroke:#000000;stroke-width:0.8;\" x=\"167.243437\" xlink:href=\"#m7aac3d28fd\" y=\"239.758125\"/>\n",
       "      </g>\n",
       "     </g>\n",
       "     <g id=\"text_3\">\n",
       "      <!-- 0.5 -->\n",
       "      <g transform=\"translate(159.291875 254.356562)scale(0.1 -0.1)\">\n",
       "       <use xlink:href=\"#DejaVuSans-30\"/>\n",
       "       <use x=\"63.623047\" xlink:href=\"#DejaVuSans-2e\"/>\n",
       "       <use x=\"95.410156\" xlink:href=\"#DejaVuSans-35\"/>\n",
       "      </g>\n",
       "     </g>\n",
       "    </g>\n",
       "    <g id=\"xtick_4\">\n",
       "     <g id=\"line2d_4\">\n",
       "      <g>\n",
       "       <use style=\"stroke:#000000;stroke-width:0.8;\" x=\"221.603437\" xlink:href=\"#m7aac3d28fd\" y=\"239.758125\"/>\n",
       "      </g>\n",
       "     </g>\n",
       "     <g id=\"text_4\">\n",
       "      <!-- 1.0 -->\n",
       "      <g transform=\"translate(213.651875 254.356562)scale(0.1 -0.1)\">\n",
       "       <defs>\n",
       "        <path d=\"M 794 531 \n",
       "L 1825 531 \n",
       "L 1825 4091 \n",
       "L 703 3866 \n",
       "L 703 4441 \n",
       "L 1819 4666 \n",
       "L 2450 4666 \n",
       "L 2450 531 \n",
       "L 3481 531 \n",
       "L 3481 0 \n",
       "L 794 0 \n",
       "L 794 531 \n",
       "z\n",
       "\" id=\"DejaVuSans-31\" transform=\"scale(0.015625)\"/>\n",
       "       </defs>\n",
       "       <use xlink:href=\"#DejaVuSans-31\"/>\n",
       "       <use x=\"63.623047\" xlink:href=\"#DejaVuSans-2e\"/>\n",
       "       <use x=\"95.410156\" xlink:href=\"#DejaVuSans-30\"/>\n",
       "      </g>\n",
       "     </g>\n",
       "    </g>\n",
       "    <g id=\"xtick_5\">\n",
       "     <g id=\"line2d_5\">\n",
       "      <g>\n",
       "       <use style=\"stroke:#000000;stroke-width:0.8;\" x=\"275.963437\" xlink:href=\"#m7aac3d28fd\" y=\"239.758125\"/>\n",
       "      </g>\n",
       "     </g>\n",
       "     <g id=\"text_5\">\n",
       "      <!-- 1.5 -->\n",
       "      <g transform=\"translate(268.011875 254.356562)scale(0.1 -0.1)\">\n",
       "       <use xlink:href=\"#DejaVuSans-31\"/>\n",
       "       <use x=\"63.623047\" xlink:href=\"#DejaVuSans-2e\"/>\n",
       "       <use x=\"95.410156\" xlink:href=\"#DejaVuSans-35\"/>\n",
       "      </g>\n",
       "     </g>\n",
       "    </g>\n",
       "    <g id=\"text_6\">\n",
       "     <!-- $x_1$ -->\n",
       "     <g transform=\"translate(161.893438 268.034687)scale(0.1 -0.1)\">\n",
       "      <defs>\n",
       "       <path d=\"M 3841 3500 \n",
       "L 2234 1784 \n",
       "L 3219 0 \n",
       "L 2559 0 \n",
       "L 1819 1388 \n",
       "L 531 0 \n",
       "L -166 0 \n",
       "L 1556 1844 \n",
       "L 641 3500 \n",
       "L 1300 3500 \n",
       "L 1972 2234 \n",
       "L 3144 3500 \n",
       "L 3841 3500 \n",
       "z\n",
       "\" id=\"DejaVuSans-Oblique-78\" transform=\"scale(0.015625)\"/>\n",
       "      </defs>\n",
       "      <use transform=\"translate(0 0.3125)\" xlink:href=\"#DejaVuSans-Oblique-78\"/>\n",
       "      <use transform=\"translate(59.179688 -16.09375)scale(0.7)\" xlink:href=\"#DejaVuSans-31\"/>\n",
       "     </g>\n",
       "    </g>\n",
       "   </g>\n",
       "   <g id=\"matplotlib.axis_2\">\n",
       "    <g id=\"ytick_1\">\n",
       "     <g id=\"line2d_6\">\n",
       "      <defs>\n",
       "       <path d=\"M 0 0 \n",
       "L -3.5 0 \n",
       "\" id=\"mee6351ab6a\" style=\"stroke:#000000;stroke-width:0.8;\"/>\n",
       "      </defs>\n",
       "      <g>\n",
       "       <use style=\"stroke:#000000;stroke-width:0.8;\" x=\"58.523438\" xlink:href=\"#mee6351ab6a\" y=\"239.758125\"/>\n",
       "      </g>\n",
       "     </g>\n",
       "     <g id=\"text_7\">\n",
       "      <!-- −0.50 -->\n",
       "      <g transform=\"translate(20.878125 243.557344)scale(0.1 -0.1)\">\n",
       "       <use xlink:href=\"#DejaVuSans-2212\"/>\n",
       "       <use x=\"83.789062\" xlink:href=\"#DejaVuSans-30\"/>\n",
       "       <use x=\"147.412109\" xlink:href=\"#DejaVuSans-2e\"/>\n",
       "       <use x=\"179.199219\" xlink:href=\"#DejaVuSans-35\"/>\n",
       "       <use x=\"242.822266\" xlink:href=\"#DejaVuSans-30\"/>\n",
       "      </g>\n",
       "     </g>\n",
       "    </g>\n",
       "    <g id=\"ytick_2\">\n",
       "     <g id=\"line2d_7\">\n",
       "      <g>\n",
       "       <use style=\"stroke:#000000;stroke-width:0.8;\" x=\"58.523438\" xlink:href=\"#mee6351ab6a\" y=\"212.578125\"/>\n",
       "      </g>\n",
       "     </g>\n",
       "     <g id=\"text_8\">\n",
       "      <!-- −0.25 -->\n",
       "      <g transform=\"translate(20.878125 216.377344)scale(0.1 -0.1)\">\n",
       "       <defs>\n",
       "        <path d=\"M 1228 531 \n",
       "L 3431 531 \n",
       "L 3431 0 \n",
       "L 469 0 \n",
       "L 469 531 \n",
       "Q 828 903 1448 1529 \n",
       "Q 2069 2156 2228 2338 \n",
       "Q 2531 2678 2651 2914 \n",
       "Q 2772 3150 2772 3378 \n",
       "Q 2772 3750 2511 3984 \n",
       "Q 2250 4219 1831 4219 \n",
       "Q 1534 4219 1204 4116 \n",
       "Q 875 4013 500 3803 \n",
       "L 500 4441 \n",
       "Q 881 4594 1212 4672 \n",
       "Q 1544 4750 1819 4750 \n",
       "Q 2544 4750 2975 4387 \n",
       "Q 3406 4025 3406 3419 \n",
       "Q 3406 3131 3298 2873 \n",
       "Q 3191 2616 2906 2266 \n",
       "Q 2828 2175 2409 1742 \n",
       "Q 1991 1309 1228 531 \n",
       "z\n",
       "\" id=\"DejaVuSans-32\" transform=\"scale(0.015625)\"/>\n",
       "       </defs>\n",
       "       <use xlink:href=\"#DejaVuSans-2212\"/>\n",
       "       <use x=\"83.789062\" xlink:href=\"#DejaVuSans-30\"/>\n",
       "       <use x=\"147.412109\" xlink:href=\"#DejaVuSans-2e\"/>\n",
       "       <use x=\"179.199219\" xlink:href=\"#DejaVuSans-32\"/>\n",
       "       <use x=\"242.822266\" xlink:href=\"#DejaVuSans-35\"/>\n",
       "      </g>\n",
       "     </g>\n",
       "    </g>\n",
       "    <g id=\"ytick_3\">\n",
       "     <g id=\"line2d_8\">\n",
       "      <g>\n",
       "       <use style=\"stroke:#000000;stroke-width:0.8;\" x=\"58.523438\" xlink:href=\"#mee6351ab6a\" y=\"185.398125\"/>\n",
       "      </g>\n",
       "     </g>\n",
       "     <g id=\"text_9\">\n",
       "      <!-- 0.00 -->\n",
       "      <g transform=\"translate(29.257812 189.197344)scale(0.1 -0.1)\">\n",
       "       <use xlink:href=\"#DejaVuSans-30\"/>\n",
       "       <use x=\"63.623047\" xlink:href=\"#DejaVuSans-2e\"/>\n",
       "       <use x=\"95.410156\" xlink:href=\"#DejaVuSans-30\"/>\n",
       "       <use x=\"159.033203\" xlink:href=\"#DejaVuSans-30\"/>\n",
       "      </g>\n",
       "     </g>\n",
       "    </g>\n",
       "    <g id=\"ytick_4\">\n",
       "     <g id=\"line2d_9\">\n",
       "      <g>\n",
       "       <use style=\"stroke:#000000;stroke-width:0.8;\" x=\"58.523438\" xlink:href=\"#mee6351ab6a\" y=\"158.218125\"/>\n",
       "      </g>\n",
       "     </g>\n",
       "     <g id=\"text_10\">\n",
       "      <!-- 0.25 -->\n",
       "      <g transform=\"translate(29.257812 162.017344)scale(0.1 -0.1)\">\n",
       "       <use xlink:href=\"#DejaVuSans-30\"/>\n",
       "       <use x=\"63.623047\" xlink:href=\"#DejaVuSans-2e\"/>\n",
       "       <use x=\"95.410156\" xlink:href=\"#DejaVuSans-32\"/>\n",
       "       <use x=\"159.033203\" xlink:href=\"#DejaVuSans-35\"/>\n",
       "      </g>\n",
       "     </g>\n",
       "    </g>\n",
       "    <g id=\"ytick_5\">\n",
       "     <g id=\"line2d_10\">\n",
       "      <g>\n",
       "       <use style=\"stroke:#000000;stroke-width:0.8;\" x=\"58.523438\" xlink:href=\"#mee6351ab6a\" y=\"131.038125\"/>\n",
       "      </g>\n",
       "     </g>\n",
       "     <g id=\"text_11\">\n",
       "      <!-- 0.50 -->\n",
       "      <g transform=\"translate(29.257812 134.837344)scale(0.1 -0.1)\">\n",
       "       <use xlink:href=\"#DejaVuSans-30\"/>\n",
       "       <use x=\"63.623047\" xlink:href=\"#DejaVuSans-2e\"/>\n",
       "       <use x=\"95.410156\" xlink:href=\"#DejaVuSans-35\"/>\n",
       "       <use x=\"159.033203\" xlink:href=\"#DejaVuSans-30\"/>\n",
       "      </g>\n",
       "     </g>\n",
       "    </g>\n",
       "    <g id=\"ytick_6\">\n",
       "     <g id=\"line2d_11\">\n",
       "      <g>\n",
       "       <use style=\"stroke:#000000;stroke-width:0.8;\" x=\"58.523438\" xlink:href=\"#mee6351ab6a\" y=\"103.858125\"/>\n",
       "      </g>\n",
       "     </g>\n",
       "     <g id=\"text_12\">\n",
       "      <!-- 0.75 -->\n",
       "      <g transform=\"translate(29.257812 107.657344)scale(0.1 -0.1)\">\n",
       "       <defs>\n",
       "        <path d=\"M 525 4666 \n",
       "L 3525 4666 \n",
       "L 3525 4397 \n",
       "L 1831 0 \n",
       "L 1172 0 \n",
       "L 2766 4134 \n",
       "L 525 4134 \n",
       "L 525 4666 \n",
       "z\n",
       "\" id=\"DejaVuSans-37\" transform=\"scale(0.015625)\"/>\n",
       "       </defs>\n",
       "       <use xlink:href=\"#DejaVuSans-30\"/>\n",
       "       <use x=\"63.623047\" xlink:href=\"#DejaVuSans-2e\"/>\n",
       "       <use x=\"95.410156\" xlink:href=\"#DejaVuSans-37\"/>\n",
       "       <use x=\"159.033203\" xlink:href=\"#DejaVuSans-35\"/>\n",
       "      </g>\n",
       "     </g>\n",
       "    </g>\n",
       "    <g id=\"ytick_7\">\n",
       "     <g id=\"line2d_12\">\n",
       "      <g>\n",
       "       <use style=\"stroke:#000000;stroke-width:0.8;\" x=\"58.523438\" xlink:href=\"#mee6351ab6a\" y=\"76.678125\"/>\n",
       "      </g>\n",
       "     </g>\n",
       "     <g id=\"text_13\">\n",
       "      <!-- 1.00 -->\n",
       "      <g transform=\"translate(29.257812 80.477344)scale(0.1 -0.1)\">\n",
       "       <use xlink:href=\"#DejaVuSans-31\"/>\n",
       "       <use x=\"63.623047\" xlink:href=\"#DejaVuSans-2e\"/>\n",
       "       <use x=\"95.410156\" xlink:href=\"#DejaVuSans-30\"/>\n",
       "       <use x=\"159.033203\" xlink:href=\"#DejaVuSans-30\"/>\n",
       "      </g>\n",
       "     </g>\n",
       "    </g>\n",
       "    <g id=\"ytick_8\">\n",
       "     <g id=\"line2d_13\">\n",
       "      <g>\n",
       "       <use style=\"stroke:#000000;stroke-width:0.8;\" x=\"58.523438\" xlink:href=\"#mee6351ab6a\" y=\"49.498125\"/>\n",
       "      </g>\n",
       "     </g>\n",
       "     <g id=\"text_14\">\n",
       "      <!-- 1.25 -->\n",
       "      <g transform=\"translate(29.257812 53.297344)scale(0.1 -0.1)\">\n",
       "       <use xlink:href=\"#DejaVuSans-31\"/>\n",
       "       <use x=\"63.623047\" xlink:href=\"#DejaVuSans-2e\"/>\n",
       "       <use x=\"95.410156\" xlink:href=\"#DejaVuSans-32\"/>\n",
       "       <use x=\"159.033203\" xlink:href=\"#DejaVuSans-35\"/>\n",
       "      </g>\n",
       "     </g>\n",
       "    </g>\n",
       "    <g id=\"ytick_9\">\n",
       "     <g id=\"line2d_14\">\n",
       "      <g>\n",
       "       <use style=\"stroke:#000000;stroke-width:0.8;\" x=\"58.523438\" xlink:href=\"#mee6351ab6a\" y=\"22.318125\"/>\n",
       "      </g>\n",
       "     </g>\n",
       "     <g id=\"text_15\">\n",
       "      <!-- 1.50 -->\n",
       "      <g transform=\"translate(29.257812 26.117344)scale(0.1 -0.1)\">\n",
       "       <use xlink:href=\"#DejaVuSans-31\"/>\n",
       "       <use x=\"63.623047\" xlink:href=\"#DejaVuSans-2e\"/>\n",
       "       <use x=\"95.410156\" xlink:href=\"#DejaVuSans-35\"/>\n",
       "       <use x=\"159.033203\" xlink:href=\"#DejaVuSans-30\"/>\n",
       "      </g>\n",
       "     </g>\n",
       "    </g>\n",
       "    <g id=\"text_16\">\n",
       "     <!-- $x_2$ -->\n",
       "     <g transform=\"translate(14.798437 136.388125)rotate(-90)scale(0.1 -0.1)\">\n",
       "      <use transform=\"translate(0 0.3125)\" xlink:href=\"#DejaVuSans-Oblique-78\"/>\n",
       "      <use transform=\"translate(59.179688 -16.09375)scale(0.7)\" xlink:href=\"#DejaVuSans-32\"/>\n",
       "     </g>\n",
       "    </g>\n",
       "   </g>\n",
       "   <g id=\"patch_3\">\n",
       "    <path d=\"M 58.523438 239.758125 \n",
       "L 58.523438 22.318125 \n",
       "\" style=\"fill:none;stroke:#000000;stroke-linecap:square;stroke-linejoin:miter;stroke-width:0.8;\"/>\n",
       "   </g>\n",
       "   <g id=\"patch_4\">\n",
       "    <path d=\"M 275.963437 239.758125 \n",
       "L 275.963437 22.318125 \n",
       "\" style=\"fill:none;stroke:#000000;stroke-linecap:square;stroke-linejoin:miter;stroke-width:0.8;\"/>\n",
       "   </g>\n",
       "   <g id=\"patch_5\">\n",
       "    <path d=\"M 58.523438 239.758125 \n",
       "L 275.963437 239.758125 \n",
       "\" style=\"fill:none;stroke:#000000;stroke-linecap:square;stroke-linejoin:miter;stroke-width:0.8;\"/>\n",
       "   </g>\n",
       "   <g id=\"patch_6\">\n",
       "    <path d=\"M 58.523438 22.318125 \n",
       "L 275.963437 22.318125 \n",
       "\" style=\"fill:none;stroke:#000000;stroke-linecap:square;stroke-linejoin:miter;stroke-width:0.8;\"/>\n",
       "   </g>\n",
       "   <g id=\"text_17\">\n",
       "    <!-- Dataset samples -->\n",
       "    <g transform=\"translate(116.900625 16.318125)scale(0.12 -0.12)\">\n",
       "     <defs>\n",
       "      <path d=\"M 1259 4147 \n",
       "L 1259 519 \n",
       "L 2022 519 \n",
       "Q 2988 519 3436 956 \n",
       "Q 3884 1394 3884 2338 \n",
       "Q 3884 3275 3436 3711 \n",
       "Q 2988 4147 2022 4147 \n",
       "L 1259 4147 \n",
       "z\n",
       "M 628 4666 \n",
       "L 1925 4666 \n",
       "Q 3281 4666 3915 4102 \n",
       "Q 4550 3538 4550 2338 \n",
       "Q 4550 1131 3912 565 \n",
       "Q 3275 0 1925 0 \n",
       "L 628 0 \n",
       "L 628 4666 \n",
       "z\n",
       "\" id=\"DejaVuSans-44\" transform=\"scale(0.015625)\"/>\n",
       "      <path d=\"M 2194 1759 \n",
       "Q 1497 1759 1228 1600 \n",
       "Q 959 1441 959 1056 \n",
       "Q 959 750 1161 570 \n",
       "Q 1363 391 1709 391 \n",
       "Q 2188 391 2477 730 \n",
       "Q 2766 1069 2766 1631 \n",
       "L 2766 1759 \n",
       "L 2194 1759 \n",
       "z\n",
       "M 3341 1997 \n",
       "L 3341 0 \n",
       "L 2766 0 \n",
       "L 2766 531 \n",
       "Q 2569 213 2275 61 \n",
       "Q 1981 -91 1556 -91 \n",
       "Q 1019 -91 701 211 \n",
       "Q 384 513 384 1019 \n",
       "Q 384 1609 779 1909 \n",
       "Q 1175 2209 1959 2209 \n",
       "L 2766 2209 \n",
       "L 2766 2266 \n",
       "Q 2766 2663 2505 2880 \n",
       "Q 2244 3097 1772 3097 \n",
       "Q 1472 3097 1187 3025 \n",
       "Q 903 2953 641 2809 \n",
       "L 641 3341 \n",
       "Q 956 3463 1253 3523 \n",
       "Q 1550 3584 1831 3584 \n",
       "Q 2591 3584 2966 3190 \n",
       "Q 3341 2797 3341 1997 \n",
       "z\n",
       "\" id=\"DejaVuSans-61\" transform=\"scale(0.015625)\"/>\n",
       "      <path d=\"M 1172 4494 \n",
       "L 1172 3500 \n",
       "L 2356 3500 \n",
       "L 2356 3053 \n",
       "L 1172 3053 \n",
       "L 1172 1153 \n",
       "Q 1172 725 1289 603 \n",
       "Q 1406 481 1766 481 \n",
       "L 2356 481 \n",
       "L 2356 0 \n",
       "L 1766 0 \n",
       "Q 1100 0 847 248 \n",
       "Q 594 497 594 1153 \n",
       "L 594 3053 \n",
       "L 172 3053 \n",
       "L 172 3500 \n",
       "L 594 3500 \n",
       "L 594 4494 \n",
       "L 1172 4494 \n",
       "z\n",
       "\" id=\"DejaVuSans-74\" transform=\"scale(0.015625)\"/>\n",
       "      <path d=\"M 2834 3397 \n",
       "L 2834 2853 \n",
       "Q 2591 2978 2328 3040 \n",
       "Q 2066 3103 1784 3103 \n",
       "Q 1356 3103 1142 2972 \n",
       "Q 928 2841 928 2578 \n",
       "Q 928 2378 1081 2264 \n",
       "Q 1234 2150 1697 2047 \n",
       "L 1894 2003 \n",
       "Q 2506 1872 2764 1633 \n",
       "Q 3022 1394 3022 966 \n",
       "Q 3022 478 2636 193 \n",
       "Q 2250 -91 1575 -91 \n",
       "Q 1294 -91 989 -36 \n",
       "Q 684 19 347 128 \n",
       "L 347 722 \n",
       "Q 666 556 975 473 \n",
       "Q 1284 391 1588 391 \n",
       "Q 1994 391 2212 530 \n",
       "Q 2431 669 2431 922 \n",
       "Q 2431 1156 2273 1281 \n",
       "Q 2116 1406 1581 1522 \n",
       "L 1381 1569 \n",
       "Q 847 1681 609 1914 \n",
       "Q 372 2147 372 2553 \n",
       "Q 372 3047 722 3315 \n",
       "Q 1072 3584 1716 3584 \n",
       "Q 2034 3584 2315 3537 \n",
       "Q 2597 3491 2834 3397 \n",
       "z\n",
       "\" id=\"DejaVuSans-73\" transform=\"scale(0.015625)\"/>\n",
       "      <path d=\"M 3597 1894 \n",
       "L 3597 1613 \n",
       "L 953 1613 \n",
       "Q 991 1019 1311 708 \n",
       "Q 1631 397 2203 397 \n",
       "Q 2534 397 2845 478 \n",
       "Q 3156 559 3463 722 \n",
       "L 3463 178 \n",
       "Q 3153 47 2828 -22 \n",
       "Q 2503 -91 2169 -91 \n",
       "Q 1331 -91 842 396 \n",
       "Q 353 884 353 1716 \n",
       "Q 353 2575 817 3079 \n",
       "Q 1281 3584 2069 3584 \n",
       "Q 2775 3584 3186 3129 \n",
       "Q 3597 2675 3597 1894 \n",
       "z\n",
       "M 3022 2063 \n",
       "Q 3016 2534 2758 2815 \n",
       "Q 2500 3097 2075 3097 \n",
       "Q 1594 3097 1305 2825 \n",
       "Q 1016 2553 972 2059 \n",
       "L 3022 2063 \n",
       "z\n",
       "\" id=\"DejaVuSans-65\" transform=\"scale(0.015625)\"/>\n",
       "      <path id=\"DejaVuSans-20\" transform=\"scale(0.015625)\"/>\n",
       "      <path d=\"M 3328 2828 \n",
       "Q 3544 3216 3844 3400 \n",
       "Q 4144 3584 4550 3584 \n",
       "Q 5097 3584 5394 3201 \n",
       "Q 5691 2819 5691 2113 \n",
       "L 5691 0 \n",
       "L 5113 0 \n",
       "L 5113 2094 \n",
       "Q 5113 2597 4934 2840 \n",
       "Q 4756 3084 4391 3084 \n",
       "Q 3944 3084 3684 2787 \n",
       "Q 3425 2491 3425 1978 \n",
       "L 3425 0 \n",
       "L 2847 0 \n",
       "L 2847 2094 \n",
       "Q 2847 2600 2669 2842 \n",
       "Q 2491 3084 2119 3084 \n",
       "Q 1678 3084 1418 2786 \n",
       "Q 1159 2488 1159 1978 \n",
       "L 1159 0 \n",
       "L 581 0 \n",
       "L 581 3500 \n",
       "L 1159 3500 \n",
       "L 1159 2956 \n",
       "Q 1356 3278 1631 3431 \n",
       "Q 1906 3584 2284 3584 \n",
       "Q 2666 3584 2933 3390 \n",
       "Q 3200 3197 3328 2828 \n",
       "z\n",
       "\" id=\"DejaVuSans-6d\" transform=\"scale(0.015625)\"/>\n",
       "      <path d=\"M 1159 525 \n",
       "L 1159 -1331 \n",
       "L 581 -1331 \n",
       "L 581 3500 \n",
       "L 1159 3500 \n",
       "L 1159 2969 \n",
       "Q 1341 3281 1617 3432 \n",
       "Q 1894 3584 2278 3584 \n",
       "Q 2916 3584 3314 3078 \n",
       "Q 3713 2572 3713 1747 \n",
       "Q 3713 922 3314 415 \n",
       "Q 2916 -91 2278 -91 \n",
       "Q 1894 -91 1617 61 \n",
       "Q 1341 213 1159 525 \n",
       "z\n",
       "M 3116 1747 \n",
       "Q 3116 2381 2855 2742 \n",
       "Q 2594 3103 2138 3103 \n",
       "Q 1681 3103 1420 2742 \n",
       "Q 1159 2381 1159 1747 \n",
       "Q 1159 1113 1420 752 \n",
       "Q 1681 391 2138 391 \n",
       "Q 2594 391 2855 752 \n",
       "Q 3116 1113 3116 1747 \n",
       "z\n",
       "\" id=\"DejaVuSans-70\" transform=\"scale(0.015625)\"/>\n",
       "      <path d=\"M 603 4863 \n",
       "L 1178 4863 \n",
       "L 1178 0 \n",
       "L 603 0 \n",
       "L 603 4863 \n",
       "z\n",
       "\" id=\"DejaVuSans-6c\" transform=\"scale(0.015625)\"/>\n",
       "     </defs>\n",
       "     <use xlink:href=\"#DejaVuSans-44\"/>\n",
       "     <use x=\"77.001953\" xlink:href=\"#DejaVuSans-61\"/>\n",
       "     <use x=\"138.28125\" xlink:href=\"#DejaVuSans-74\"/>\n",
       "     <use x=\"177.490234\" xlink:href=\"#DejaVuSans-61\"/>\n",
       "     <use x=\"238.769531\" xlink:href=\"#DejaVuSans-73\"/>\n",
       "     <use x=\"290.869141\" xlink:href=\"#DejaVuSans-65\"/>\n",
       "     <use x=\"352.392578\" xlink:href=\"#DejaVuSans-74\"/>\n",
       "     <use x=\"391.601562\" xlink:href=\"#DejaVuSans-20\"/>\n",
       "     <use x=\"423.388672\" xlink:href=\"#DejaVuSans-73\"/>\n",
       "     <use x=\"475.488281\" xlink:href=\"#DejaVuSans-61\"/>\n",
       "     <use x=\"536.767578\" xlink:href=\"#DejaVuSans-6d\"/>\n",
       "     <use x=\"634.179688\" xlink:href=\"#DejaVuSans-70\"/>\n",
       "     <use x=\"697.65625\" xlink:href=\"#DejaVuSans-6c\"/>\n",
       "     <use x=\"725.439453\" xlink:href=\"#DejaVuSans-65\"/>\n",
       "     <use x=\"786.962891\" xlink:href=\"#DejaVuSans-73\"/>\n",
       "    </g>\n",
       "   </g>\n",
       "   <g id=\"legend_1\">\n",
       "    <g id=\"patch_7\">\n",
       "     <path d=\"M 65.523438 59.674375 \n",
       "L 133.371875 59.674375 \n",
       "Q 135.371875 59.674375 135.371875 57.674375 \n",
       "L 135.371875 29.318125 \n",
       "Q 135.371875 27.318125 133.371875 27.318125 \n",
       "L 65.523438 27.318125 \n",
       "Q 63.523438 27.318125 63.523438 29.318125 \n",
       "L 63.523438 57.674375 \n",
       "Q 63.523438 59.674375 65.523438 59.674375 \n",
       "z\n",
       "\" style=\"fill:#ffffff;opacity:0.8;stroke:#cccccc;stroke-linejoin:miter;\"/>\n",
       "    </g>\n",
       "    <g id=\"PathCollection_3\">\n",
       "     <g>\n",
       "      <use style=\"fill:#1f77b4;stroke:#333333;\" x=\"77.523438\" xlink:href=\"#md3724c44f6\" y=\"36.291562\"/>\n",
       "     </g>\n",
       "    </g>\n",
       "    <g id=\"text_18\">\n",
       "     <!-- Class 0 -->\n",
       "     <g transform=\"translate(95.523438 38.916562)scale(0.1 -0.1)\">\n",
       "      <defs>\n",
       "       <path d=\"M 4122 4306 \n",
       "L 4122 3641 \n",
       "Q 3803 3938 3442 4084 \n",
       "Q 3081 4231 2675 4231 \n",
       "Q 1875 4231 1450 3742 \n",
       "Q 1025 3253 1025 2328 \n",
       "Q 1025 1406 1450 917 \n",
       "Q 1875 428 2675 428 \n",
       "Q 3081 428 3442 575 \n",
       "Q 3803 722 4122 1019 \n",
       "L 4122 359 \n",
       "Q 3791 134 3420 21 \n",
       "Q 3050 -91 2638 -91 \n",
       "Q 1578 -91 968 557 \n",
       "Q 359 1206 359 2328 \n",
       "Q 359 3453 968 4101 \n",
       "Q 1578 4750 2638 4750 \n",
       "Q 3056 4750 3426 4639 \n",
       "Q 3797 4528 4122 4306 \n",
       "z\n",
       "\" id=\"DejaVuSans-43\" transform=\"scale(0.015625)\"/>\n",
       "      </defs>\n",
       "      <use xlink:href=\"#DejaVuSans-43\"/>\n",
       "      <use x=\"69.824219\" xlink:href=\"#DejaVuSans-6c\"/>\n",
       "      <use x=\"97.607422\" xlink:href=\"#DejaVuSans-61\"/>\n",
       "      <use x=\"158.886719\" xlink:href=\"#DejaVuSans-73\"/>\n",
       "      <use x=\"210.986328\" xlink:href=\"#DejaVuSans-73\"/>\n",
       "      <use x=\"263.085938\" xlink:href=\"#DejaVuSans-20\"/>\n",
       "      <use x=\"294.873047\" xlink:href=\"#DejaVuSans-30\"/>\n",
       "     </g>\n",
       "    </g>\n",
       "    <g id=\"PathCollection_4\">\n",
       "     <g>\n",
       "      <use style=\"fill:#ff7f0e;stroke:#333333;\" x=\"77.523438\" xlink:href=\"#ma3e18deaf7\" y=\"50.969687\"/>\n",
       "     </g>\n",
       "    </g>\n",
       "    <g id=\"text_19\">\n",
       "     <!-- Class 1 -->\n",
       "     <g transform=\"translate(95.523438 53.594687)scale(0.1 -0.1)\">\n",
       "      <use xlink:href=\"#DejaVuSans-43\"/>\n",
       "      <use x=\"69.824219\" xlink:href=\"#DejaVuSans-6c\"/>\n",
       "      <use x=\"97.607422\" xlink:href=\"#DejaVuSans-61\"/>\n",
       "      <use x=\"158.886719\" xlink:href=\"#DejaVuSans-73\"/>\n",
       "      <use x=\"210.986328\" xlink:href=\"#DejaVuSans-73\"/>\n",
       "      <use x=\"263.085938\" xlink:href=\"#DejaVuSans-20\"/>\n",
       "      <use x=\"294.873047\" xlink:href=\"#DejaVuSans-31\"/>\n",
       "     </g>\n",
       "    </g>\n",
       "   </g>\n",
       "  </g>\n",
       " </g>\n",
       " <defs>\n",
       "  <clipPath id=\"pa989bb1b51\">\n",
       "   <rect height=\"217.44\" width=\"217.44\" x=\"58.523438\" y=\"22.318125\"/>\n",
       "  </clipPath>\n",
       " </defs>\n",
       "</svg>\n"
      ],
      "text/plain": [
       "<Figure size 288x288 with 1 Axes>"
      ]
     },
     "metadata": {
      "needs_background": "light"
     },
     "output_type": "display_data"
    }
   ],
   "source": [
    "@torch.no_grad()  # Decorator, same effect as \"with torch.no_grad(): ...\" over the whole function.\n",
    "def visualize_classification(model, data, label):\n",
    "    if isinstance(data, torch.Tensor):\n",
    "        data = data.cpu().numpy()\n",
    "    if isinstance(label, torch.Tensor):\n",
    "        label = label.cpu().numpy()\n",
    "    data_0 = data[label == 0]\n",
    "    data_1 = data[label == 1]\n",
    "\n",
    "    plt.figure(figsize=(4, 4))\n",
    "    plt.scatter(data_0[:, 0], data_0[:, 1], edgecolor=\"#333\", label=\"Class 0\")\n",
    "    plt.scatter(data_1[:, 0], data_1[:, 1], edgecolor=\"#333\", label=\"Class 1\")\n",
    "    plt.title(\"Dataset samples\")\n",
    "    plt.ylabel(r\"$x_2$\")\n",
    "    plt.xlabel(r\"$x_1$\")\n",
    "    plt.legend()\n",
    "\n",
    "    # Let's make use of a lot of operations we have learned above\n",
    "    model.to(device)\n",
    "    c0 = torch.Tensor(to_rgba(\"C0\")).to(device)\n",
    "    c1 = torch.Tensor(to_rgba(\"C1\")).to(device)\n",
    "    x1 = torch.arange(-0.5, 1.5, step=0.01, device=device)\n",
    "    x2 = torch.arange(-0.5, 1.5, step=0.01, device=device)\n",
    "    xx1, xx2 = torch.meshgrid(x1, x2)  # Meshgrid function as in numpy\n",
    "    model_inputs = torch.stack([xx1, xx2], dim=-1)\n",
    "    preds = model(model_inputs)\n",
    "    preds = torch.sigmoid(preds)\n",
    "    # Specifying \"None\" in a dimension creates a new one\n",
    "    output_image = (1 - preds) * c0[None, None] + preds * c1[None, None]\n",
    "    output_image = (\n",
    "        output_image.cpu().numpy()\n",
    "    )  # Convert to numpy array. This only works for tensors on CPU, hence first push to CPU\n",
    "    plt.imshow(output_image, origin=\"lower\", extent=(-0.5, 1.5, -0.5, 1.5))\n",
    "    plt.grid(False)\n",
    "\n",
    "\n",
    "visualize_classification(model, dataset.data, dataset.label)\n",
    "plt.show()"
   ]
  },
  {
   "cell_type": "markdown",
   "id": "2ebe02a2",
   "metadata": {
    "papermill": {
     "duration": 0.221805,
     "end_time": "2021-11-01T12:54:20.765243",
     "exception": false,
     "start_time": "2021-11-01T12:54:20.543438",
     "status": "completed"
    },
    "tags": []
   },
   "source": [
    "The decision boundaries might not look exactly as in the figure in the preamble of this section which can be caused by running it on CPU or a different GPU architecture.\n",
    "Nevertheless, the result on the accuracy metric should be the approximately the same."
   ]
  },
  {
   "cell_type": "markdown",
   "id": "0cb47d58",
   "metadata": {
    "papermill": {
     "duration": 0.22528,
     "end_time": "2021-11-01T12:54:21.212485",
     "exception": false,
     "start_time": "2021-11-01T12:54:20.987205",
     "status": "completed"
    },
    "tags": []
   },
   "source": [
    "## Additional features we didn't get to discuss yet\n",
    "\n",
    "Finally, you are all set to start with your own PyTorch project!\n",
    "In summary, we have looked at how we can build neural networks in PyTorch, and train and test them on data.\n",
    "However, there is still much more to PyTorch we haven't discussed yet.\n",
    "In the comming series of Jupyter notebooks, we will discover more and more functionalities of PyTorch, so that you also get familiar to PyTorch concepts beyond the basics.\n",
    "If you are already interested in learning more of PyTorch, we recommend the official [tutorial website](https://pytorch.org/tutorials/) that contains many tutorials on various topics.\n",
    "Especially logging with Tensorboard ([tutorial\n",
    "here](https://pytorch.org/tutorials/intermediate/tensorboard_tutorial.html))\n",
    "is a good practice that we will explore from Tutorial 5 on."
   ]
  },
  {
   "cell_type": "markdown",
   "id": "0a66c791",
   "metadata": {
    "papermill": {
     "duration": 0.221535,
     "end_time": "2021-11-01T12:54:21.655572",
     "exception": false,
     "start_time": "2021-11-01T12:54:21.434037",
     "status": "completed"
    },
    "tags": []
   },
   "source": [
    "## Congratulations - Time to Join the Community!\n",
    "\n",
    "Congratulations on completing this notebook tutorial! If you enjoyed this and would like to join the Lightning\n",
    "movement, you can do so in the following ways!\n",
    "\n",
    "### Star [Lightning](https://github.com/PyTorchLightning/pytorch-lightning) on GitHub\n",
    "The easiest way to help our community is just by starring the GitHub repos! This helps raise awareness of the cool\n",
    "tools we're building.\n",
    "\n",
    "### Join our [Slack](https://join.slack.com/t/pytorch-lightning/shared_invite/zt-pw5v393p-qRaDgEk24~EjiZNBpSQFgQ)!\n",
    "The best way to keep up to date on the latest advancements is to join our community! Make sure to introduce yourself\n",
    "and share your interests in `#general` channel\n",
    "\n",
    "\n",
    "### Contributions !\n",
    "The best way to contribute to our community is to become a code contributor! At any time you can go to\n",
    "[Lightning](https://github.com/PyTorchLightning/pytorch-lightning) or [Bolt](https://github.com/PyTorchLightning/lightning-bolts)\n",
    "GitHub Issues page and filter for \"good first issue\".\n",
    "\n",
    "* [Lightning good first issue](https://github.com/PyTorchLightning/pytorch-lightning/issues?q=is%3Aopen+is%3Aissue+label%3A%22good+first+issue%22)\n",
    "* [Bolt good first issue](https://github.com/PyTorchLightning/lightning-bolts/issues?q=is%3Aopen+is%3Aissue+label%3A%22good+first+issue%22)\n",
    "* You can also contribute your own notebooks with useful examples !\n",
    "\n",
    "### Great thanks from the entire Pytorch Lightning Team for your interest !\n",
    "\n",
    "![Pytorch Lightning](data:image/png;base64,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){height=\"60px\" width=\"240px\"}"
   ]
  },
  {
   "cell_type": "raw",
   "id": "1b2454c5",
   "metadata": {
    "raw_mimetype": "text/restructuredtext"
   },
   "source": [
    ".. customcarditem::\n",
    "   :header: Tutorial 1: Introduction to PyTorch\n",
    "   :card_description: This tutorial will give a short introduction to PyTorch basics, and get you setup for writing your own neural networks. This notebook is part of a lecture series on Deep...\n",
    "   :tags: GPU/TPU,UvA-DL-Course\n",
    "   :image: _static/images/course_UvA-DL/01-introduction-to-pytorch.jpg"
   ]
  }
 ],
 "metadata": {
  "jupytext": {
   "cell_metadata_filter": "colab_type,colab,id,-all",
   "formats": "ipynb,py:percent",
   "main_language": "python"
  },
  "language_info": {
   "codemirror_mode": {
    "name": "ipython",
    "version": 3
   },
   "file_extension": ".py",
   "mimetype": "text/x-python",
   "name": "python",
   "nbconvert_exporter": "python",
   "pygments_lexer": "ipython3",
   "version": "3.9.7"
  },
  "papermill": {
   "default_parameters": {},
   "duration": 58.048698,
   "end_time": "2021-11-01T12:54:22.295001",
   "environment_variables": {},
   "exception": null,
   "input_path": "course_UvA-DL/01-introduction-to-pytorch/Introduction_to_PyTorch.ipynb",
   "output_path": ".notebooks/course_UvA-DL/01-introduction-to-pytorch.ipynb",
   "parameters": {},
   "start_time": "2021-11-01T12:53:24.246303",
   "version": "2.3.3"
  },
  "widgets": {
   "application/vnd.jupyter.widget-state+json": {
    "state": {
     "2008162565344a1d9f983b1d9a3031d9": {
      "model_module": "@jupyter-widgets/controls",
      "model_module_version": "1.5.0",
      "model_name": "DescriptionStyleModel",
      "state": {
       "_model_module": "@jupyter-widgets/controls",
       "_model_module_version": "1.5.0",
       "_model_name": "DescriptionStyleModel",
       "_view_count": null,
       "_view_module": "@jupyter-widgets/base",
       "_view_module_version": "1.2.0",
       "_view_name": "StyleView",
       "description_width": ""
      }
     },
     "242672406a6c4193b1195a0708ed6c26": {
      "model_module": "@jupyter-widgets/controls",
      "model_module_version": "1.5.0",
      "model_name": "HBoxModel",
      "state": {
       "_dom_classes": [],
       "_model_module": "@jupyter-widgets/controls",
       "_model_module_version": "1.5.0",
       "_model_name": "HBoxModel",
       "_view_count": null,
       "_view_module": "@jupyter-widgets/controls",
       "_view_module_version": "1.5.0",
       "_view_name": "HBoxView",
       "box_style": "",
       "children": [
        "IPY_MODEL_3ae785cca4f04ed086d59eec442dcc10",
        "IPY_MODEL_333ebf2c4a544105bf40d937e63722e1",
        "IPY_MODEL_f6cee65114bb4be8ba1e553dd03dad14"
       ],
       "layout": "IPY_MODEL_7e14cefb5561410784da0c7f19790748"
      }
     },
     "333ebf2c4a544105bf40d937e63722e1": {
      "model_module": "@jupyter-widgets/controls",
      "model_module_version": "1.5.0",
      "model_name": "FloatProgressModel",
      "state": {
       "_dom_classes": [],
       "_model_module": "@jupyter-widgets/controls",
       "_model_module_version": "1.5.0",
       "_model_name": "FloatProgressModel",
       "_view_count": null,
       "_view_module": "@jupyter-widgets/controls",
       "_view_module_version": "1.5.0",
       "_view_name": "ProgressView",
       "bar_style": "success",
       "description": "",
       "description_tooltip": null,
       "layout": "IPY_MODEL_3a4b99759d344a8ea7ee3ab5691fbb3e",
       "max": 100.0,
       "min": 0.0,
       "orientation": "horizontal",
       "style": "IPY_MODEL_765f778481254349b26a3f5fe18655a4",
       "value": 100.0
      }
     },
     "37114508b56143568dbb8d87598d6b69": {
      "model_module": "@jupyter-widgets/controls",
      "model_module_version": "1.5.0",
      "model_name": "DescriptionStyleModel",
      "state": {
       "_model_module": "@jupyter-widgets/controls",
       "_model_module_version": "1.5.0",
       "_model_name": "DescriptionStyleModel",
       "_view_count": null,
       "_view_module": "@jupyter-widgets/base",
       "_view_module_version": "1.2.0",
       "_view_name": "StyleView",
       "description_width": ""
      }
     },
     "3a4b99759d344a8ea7ee3ab5691fbb3e": {
      "model_module": "@jupyter-widgets/base",
      "model_module_version": "1.2.0",
      "model_name": "LayoutModel",
      "state": {
       "_model_module": "@jupyter-widgets/base",
       "_model_module_version": "1.2.0",
       "_model_name": "LayoutModel",
       "_view_count": null,
       "_view_module": "@jupyter-widgets/base",
       "_view_module_version": "1.2.0",
       "_view_name": "LayoutView",
       "align_content": null,
       "align_items": null,
       "align_self": null,
       "border": null,
       "bottom": null,
       "display": null,
       "flex": null,
       "flex_flow": null,
       "grid_area": null,
       "grid_auto_columns": null,
       "grid_auto_flow": null,
       "grid_auto_rows": null,
       "grid_column": null,
       "grid_gap": null,
       "grid_row": null,
       "grid_template_areas": null,
       "grid_template_columns": null,
       "grid_template_rows": null,
       "height": null,
       "justify_content": null,
       "justify_items": null,
       "left": null,
       "margin": null,
       "max_height": null,
       "max_width": null,
       "min_height": null,
       "min_width": null,
       "object_fit": null,
       "object_position": null,
       "order": null,
       "overflow": null,
       "overflow_x": null,
       "overflow_y": null,
       "padding": null,
       "right": null,
       "top": null,
       "visibility": null,
       "width": null
      }
     },
     "3ae785cca4f04ed086d59eec442dcc10": {
      "model_module": "@jupyter-widgets/controls",
      "model_module_version": "1.5.0",
      "model_name": "HTMLModel",
      "state": {
       "_dom_classes": [],
       "_model_module": "@jupyter-widgets/controls",
       "_model_module_version": "1.5.0",
       "_model_name": "HTMLModel",
       "_view_count": null,
       "_view_module": "@jupyter-widgets/controls",
       "_view_module_version": "1.5.0",
       "_view_name": "HTMLView",
       "description": "",
       "description_tooltip": null,
       "layout": "IPY_MODEL_3f1ed36f46d64a359380dde20bca66a6",
       "placeholder": "​",
       "style": "IPY_MODEL_37114508b56143568dbb8d87598d6b69",
       "value": "100%"
      }
     },
     "3f1ed36f46d64a359380dde20bca66a6": {
      "model_module": "@jupyter-widgets/base",
      "model_module_version": "1.2.0",
      "model_name": "LayoutModel",
      "state": {
       "_model_module": "@jupyter-widgets/base",
       "_model_module_version": "1.2.0",
       "_model_name": "LayoutModel",
       "_view_count": null,
       "_view_module": "@jupyter-widgets/base",
       "_view_module_version": "1.2.0",
       "_view_name": "LayoutView",
       "align_content": null,
       "align_items": null,
       "align_self": null,
       "border": null,
       "bottom": null,
       "display": null,
       "flex": null,
       "flex_flow": null,
       "grid_area": null,
       "grid_auto_columns": null,
       "grid_auto_flow": null,
       "grid_auto_rows": null,
       "grid_column": null,
       "grid_gap": null,
       "grid_row": null,
       "grid_template_areas": null,
       "grid_template_columns": null,
       "grid_template_rows": null,
       "height": null,
       "justify_content": null,
       "justify_items": null,
       "left": null,
       "margin": null,
       "max_height": null,
       "max_width": null,
       "min_height": null,
       "min_width": null,
       "object_fit": null,
       "object_position": null,
       "order": null,
       "overflow": null,
       "overflow_x": null,
       "overflow_y": null,
       "padding": null,
       "right": null,
       "top": null,
       "visibility": null,
       "width": null
      }
     },
     "765f778481254349b26a3f5fe18655a4": {
      "model_module": "@jupyter-widgets/controls",
      "model_module_version": "1.5.0",
      "model_name": "ProgressStyleModel",
      "state": {
       "_model_module": "@jupyter-widgets/controls",
       "_model_module_version": "1.5.0",
       "_model_name": "ProgressStyleModel",
       "_view_count": null,
       "_view_module": "@jupyter-widgets/base",
       "_view_module_version": "1.2.0",
       "_view_name": "StyleView",
       "bar_color": null,
       "description_width": ""
      }
     },
     "7e14cefb5561410784da0c7f19790748": {
      "model_module": "@jupyter-widgets/base",
      "model_module_version": "1.2.0",
      "model_name": "LayoutModel",
      "state": {
       "_model_module": "@jupyter-widgets/base",
       "_model_module_version": "1.2.0",
       "_model_name": "LayoutModel",
       "_view_count": null,
       "_view_module": "@jupyter-widgets/base",
       "_view_module_version": "1.2.0",
       "_view_name": "LayoutView",
       "align_content": null,
       "align_items": null,
       "align_self": null,
       "border": null,
       "bottom": null,
       "display": null,
       "flex": null,
       "flex_flow": null,
       "grid_area": null,
       "grid_auto_columns": null,
       "grid_auto_flow": null,
       "grid_auto_rows": null,
       "grid_column": null,
       "grid_gap": null,
       "grid_row": null,
       "grid_template_areas": null,
       "grid_template_columns": null,
       "grid_template_rows": null,
       "height": null,
       "justify_content": null,
       "justify_items": null,
       "left": null,
       "margin": null,
       "max_height": null,
       "max_width": null,
       "min_height": null,
       "min_width": null,
       "object_fit": null,
       "object_position": null,
       "order": null,
       "overflow": null,
       "overflow_x": null,
       "overflow_y": null,
       "padding": null,
       "right": null,
       "top": null,
       "visibility": null,
       "width": null
      }
     },
     "e994a9b7c25a4a8c864135f739d2e4fc": {
      "model_module": "@jupyter-widgets/base",
      "model_module_version": "1.2.0",
      "model_name": "LayoutModel",
      "state": {
       "_model_module": "@jupyter-widgets/base",
       "_model_module_version": "1.2.0",
       "_model_name": "LayoutModel",
       "_view_count": null,
       "_view_module": "@jupyter-widgets/base",
       "_view_module_version": "1.2.0",
       "_view_name": "LayoutView",
       "align_content": null,
       "align_items": null,
       "align_self": null,
       "border": null,
       "bottom": null,
       "display": null,
       "flex": null,
       "flex_flow": null,
       "grid_area": null,
       "grid_auto_columns": null,
       "grid_auto_flow": null,
       "grid_auto_rows": null,
       "grid_column": null,
       "grid_gap": null,
       "grid_row": null,
       "grid_template_areas": null,
       "grid_template_columns": null,
       "grid_template_rows": null,
       "height": null,
       "justify_content": null,
       "justify_items": null,
       "left": null,
       "margin": null,
       "max_height": null,
       "max_width": null,
       "min_height": null,
       "min_width": null,
       "object_fit": null,
       "object_position": null,
       "order": null,
       "overflow": null,
       "overflow_x": null,
       "overflow_y": null,
       "padding": null,
       "right": null,
       "top": null,
       "visibility": null,
       "width": null
      }
     },
     "f6cee65114bb4be8ba1e553dd03dad14": {
      "model_module": "@jupyter-widgets/controls",
      "model_module_version": "1.5.0",
      "model_name": "HTMLModel",
      "state": {
       "_dom_classes": [],
       "_model_module": "@jupyter-widgets/controls",
       "_model_module_version": "1.5.0",
       "_model_name": "HTMLModel",
       "_view_count": null,
       "_view_module": "@jupyter-widgets/controls",
       "_view_module_version": "1.5.0",
       "_view_name": "HTMLView",
       "description": "",
       "description_tooltip": null,
       "layout": "IPY_MODEL_e994a9b7c25a4a8c864135f739d2e4fc",
       "placeholder": "​",
       "style": "IPY_MODEL_2008162565344a1d9f983b1d9a3031d9",
       "value": " 100/100 [00:01&lt;00:00, 86.55it/s]"
      }
     }
    },
    "version_major": 2,
    "version_minor": 0
   }
  }
 },
 "nbformat": 4,
 "nbformat_minor": 5
}
